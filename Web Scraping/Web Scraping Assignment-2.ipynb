{
 "cells": [
  {
   "cell_type": "markdown",
   "metadata": {},
   "source": [
    "# Required Libraries"
   ]
  },
  {
   "cell_type": "code",
   "execution_count": 1,
   "metadata": {},
   "outputs": [],
   "source": [
    "import selenium\n",
    "from selenium import webdriver\n",
    "from bs4 import BeautifulSoup\n",
    "import pandas as pd\n",
    "import requests"
   ]
  },
  {
   "cell_type": "code",
   "execution_count": 468,
   "metadata": {},
   "outputs": [],
   "source": [
    "driver = webdriver.Chrome(\"C:/Users/yyogi/Downloads/chromedriver_win32/chromedriver.exe\")"
   ]
  },
  {
   "cell_type": "markdown",
   "metadata": {},
   "source": [
    "# 1. Data Analyst Job position"
   ]
  },
  {
   "cell_type": "code",
   "execution_count": 3,
   "metadata": {},
   "outputs": [],
   "source": [
    "driver.get('https://www.naukri.com/')"
   ]
  },
  {
   "cell_type": "code",
   "execution_count": 4,
   "metadata": {},
   "outputs": [],
   "source": [
    "#finding element for jon search bar\n",
    "search_job=driver.find_element_by_id('qsb-keyword-sugg')\n",
    "search_job.send_keys(\"Data Analyst\")\n",
    "search_loc=driver.find_element_by_xpath(\"//input[@id='qsb-location-sugg']\")\n",
    "search_loc.send_keys(\"Bangalore\")"
   ]
  },
  {
   "cell_type": "code",
   "execution_count": 5,
   "metadata": {},
   "outputs": [],
   "source": [
    "search_btn = driver.find_element_by_xpath(\"//div[@class='search-btn']/button[@class='btn']\")\n",
    "search_btn.click()"
   ]
  },
  {
   "cell_type": "markdown",
   "metadata": {},
   "source": [
    "Searching the results by using search button"
   ]
  },
  {
   "cell_type": "code",
   "execution_count": 6,
   "metadata": {},
   "outputs": [],
   "source": [
    "url='https://www.naukri.com/data-analyst-jobs-in-bangalore?k=data%20analyst&l=bangalore'\n",
    "driver.get(url)"
   ]
  },
  {
   "cell_type": "code",
   "execution_count": 7,
   "metadata": {
    "scrolled": true
   },
   "outputs": [
    {
     "data": {
      "text/plain": [
       "[<selenium.webdriver.remote.webelement.WebElement (session=\"cee4587efa3055bceda5fef1a4268161\", element=\"76ab077e-0250-4b5b-b3d6-aed82ecfc0e1\")>,\n",
       " <selenium.webdriver.remote.webelement.WebElement (session=\"cee4587efa3055bceda5fef1a4268161\", element=\"4f409bda-fe75-48c5-ba19-08f1cdcdca17\")>,\n",
       " <selenium.webdriver.remote.webelement.WebElement (session=\"cee4587efa3055bceda5fef1a4268161\", element=\"86c44111-5c7b-48be-9ddb-38504cd93c35\")>,\n",
       " <selenium.webdriver.remote.webelement.WebElement (session=\"cee4587efa3055bceda5fef1a4268161\", element=\"8ab6671a-d1d7-4b27-9e88-9dd270d591a1\")>,\n",
       " <selenium.webdriver.remote.webelement.WebElement (session=\"cee4587efa3055bceda5fef1a4268161\", element=\"4f022b79-41b1-4b7c-aa28-20ec7e19fe2e\")>,\n",
       " <selenium.webdriver.remote.webelement.WebElement (session=\"cee4587efa3055bceda5fef1a4268161\", element=\"6e22ad41-00e8-475b-9101-0698a70d5cb6\")>,\n",
       " <selenium.webdriver.remote.webelement.WebElement (session=\"cee4587efa3055bceda5fef1a4268161\", element=\"40f5d343-88e4-4663-a774-5a7bc48ff3ed\")>,\n",
       " <selenium.webdriver.remote.webelement.WebElement (session=\"cee4587efa3055bceda5fef1a4268161\", element=\"c5d6bb6b-55a7-49c3-b582-b4290922a2e4\")>,\n",
       " <selenium.webdriver.remote.webelement.WebElement (session=\"cee4587efa3055bceda5fef1a4268161\", element=\"58ba11f1-ddd8-4f1a-9a69-100549a1fa1f\")>,\n",
       " <selenium.webdriver.remote.webelement.WebElement (session=\"cee4587efa3055bceda5fef1a4268161\", element=\"186820c9-d072-43af-ac27-9a4bad69e9d5\")>,\n",
       " <selenium.webdriver.remote.webelement.WebElement (session=\"cee4587efa3055bceda5fef1a4268161\", element=\"b1c46707-08c0-4514-ae87-39d0c72d6a47\")>,\n",
       " <selenium.webdriver.remote.webelement.WebElement (session=\"cee4587efa3055bceda5fef1a4268161\", element=\"f2b6c2d7-72e8-49a8-9e54-0e5e0a043e90\")>,\n",
       " <selenium.webdriver.remote.webelement.WebElement (session=\"cee4587efa3055bceda5fef1a4268161\", element=\"8c38fdae-37c0-4ea9-9f98-3ec9cca5b1f4\")>,\n",
       " <selenium.webdriver.remote.webelement.WebElement (session=\"cee4587efa3055bceda5fef1a4268161\", element=\"fde69b1b-680a-4c14-bddc-bf5582998cab\")>,\n",
       " <selenium.webdriver.remote.webelement.WebElement (session=\"cee4587efa3055bceda5fef1a4268161\", element=\"a78a807a-4230-42d2-bb68-ebc1606f05b1\")>,\n",
       " <selenium.webdriver.remote.webelement.WebElement (session=\"cee4587efa3055bceda5fef1a4268161\", element=\"4ae60b25-5d9e-4e03-948d-75b68b830551\")>,\n",
       " <selenium.webdriver.remote.webelement.WebElement (session=\"cee4587efa3055bceda5fef1a4268161\", element=\"7166c4c9-904d-433c-b2f3-83c508fdccc7\")>,\n",
       " <selenium.webdriver.remote.webelement.WebElement (session=\"cee4587efa3055bceda5fef1a4268161\", element=\"881dd76e-8d7f-45ff-a6ae-1d7787865eb3\")>,\n",
       " <selenium.webdriver.remote.webelement.WebElement (session=\"cee4587efa3055bceda5fef1a4268161\", element=\"485295a2-8e65-4e9d-9147-7412c40849de\")>,\n",
       " <selenium.webdriver.remote.webelement.WebElement (session=\"cee4587efa3055bceda5fef1a4268161\", element=\"0c3a7a9d-236f-4fe0-8f44-2792aa81830c\")>]"
      ]
     },
     "execution_count": 7,
     "metadata": {},
     "output_type": "execute_result"
    }
   ],
   "source": [
    "#finding the job title using xpath\n",
    "title=driver.find_elements_by_xpath(\"//a[@class='title fw500 ellipsis']\")\n",
    "title"
   ]
  },
  {
   "cell_type": "code",
   "execution_count": 8,
   "metadata": {},
   "outputs": [
    {
     "data": {
      "text/plain": [
       "['SAS Data Analyst',\n",
       " 'Data Analyst - Quant & Data Mining',\n",
       " 'Data Analyst',\n",
       " 'Commerce Data Analyst',\n",
       " 'Data Analyst 2',\n",
       " 'Data Analyst',\n",
       " 'Data Analyst 2',\n",
       " 'Data Analyst- Adobe Analytics- Bengaluru (2-5 Years)',\n",
       " 'Data Analyst - I',\n",
       " 'Data Analyst with E commerce Company']"
      ]
     },
     "execution_count": 8,
     "metadata": {},
     "output_type": "execute_result"
    }
   ],
   "source": [
    "Job_Title=[]\n",
    "for i in title:\n",
    "    Job_Title.append(i.text)\n",
    "Job_Title[:10]"
   ]
  },
  {
   "cell_type": "code",
   "execution_count": 9,
   "metadata": {
    "scrolled": true
   },
   "outputs": [
    {
     "data": {
      "text/plain": [
       "[<selenium.webdriver.remote.webelement.WebElement (session=\"cee4587efa3055bceda5fef1a4268161\", element=\"ba81470d-9440-43ea-a5b6-26869241a7e0\")>,\n",
       " <selenium.webdriver.remote.webelement.WebElement (session=\"cee4587efa3055bceda5fef1a4268161\", element=\"141dab23-3b0c-4b9b-9589-43b8152a1c83\")>,\n",
       " <selenium.webdriver.remote.webelement.WebElement (session=\"cee4587efa3055bceda5fef1a4268161\", element=\"51f8eb7d-5c72-4247-af19-ed9e231ad1fe\")>,\n",
       " <selenium.webdriver.remote.webelement.WebElement (session=\"cee4587efa3055bceda5fef1a4268161\", element=\"96e6b845-ee28-4538-9ea1-0f5bf6eb07b6\")>,\n",
       " <selenium.webdriver.remote.webelement.WebElement (session=\"cee4587efa3055bceda5fef1a4268161\", element=\"16faa685-4d40-4de1-89d5-7b11cf1c4271\")>,\n",
       " <selenium.webdriver.remote.webelement.WebElement (session=\"cee4587efa3055bceda5fef1a4268161\", element=\"b9d486e8-867c-4e13-b079-7a6a15f658eb\")>,\n",
       " <selenium.webdriver.remote.webelement.WebElement (session=\"cee4587efa3055bceda5fef1a4268161\", element=\"cab97467-25bd-4c4e-b3f3-1da532a6fe7d\")>,\n",
       " <selenium.webdriver.remote.webelement.WebElement (session=\"cee4587efa3055bceda5fef1a4268161\", element=\"837850d5-7962-4bd4-84e7-9d68d67f239c\")>,\n",
       " <selenium.webdriver.remote.webelement.WebElement (session=\"cee4587efa3055bceda5fef1a4268161\", element=\"0b8a0952-c6d8-427e-8f83-0a29d6814887\")>,\n",
       " <selenium.webdriver.remote.webelement.WebElement (session=\"cee4587efa3055bceda5fef1a4268161\", element=\"d12897aa-43cf-45d8-ac14-78123b3c49db\")>,\n",
       " <selenium.webdriver.remote.webelement.WebElement (session=\"cee4587efa3055bceda5fef1a4268161\", element=\"2eb030a7-60a9-49ed-ad03-877e3d53e8dc\")>,\n",
       " <selenium.webdriver.remote.webelement.WebElement (session=\"cee4587efa3055bceda5fef1a4268161\", element=\"8e27fd0d-d43f-4328-84c5-565b1fde07dd\")>,\n",
       " <selenium.webdriver.remote.webelement.WebElement (session=\"cee4587efa3055bceda5fef1a4268161\", element=\"16b3b66c-a93c-45ae-9b6c-5487f8290cfa\")>,\n",
       " <selenium.webdriver.remote.webelement.WebElement (session=\"cee4587efa3055bceda5fef1a4268161\", element=\"d9f687f3-8745-4009-a754-2e3e1b63b33d\")>,\n",
       " <selenium.webdriver.remote.webelement.WebElement (session=\"cee4587efa3055bceda5fef1a4268161\", element=\"58e8c344-9fe7-4ade-bcac-ce26ac950174\")>,\n",
       " <selenium.webdriver.remote.webelement.WebElement (session=\"cee4587efa3055bceda5fef1a4268161\", element=\"eb17b65f-f87e-412a-9539-1e78e771757e\")>,\n",
       " <selenium.webdriver.remote.webelement.WebElement (session=\"cee4587efa3055bceda5fef1a4268161\", element=\"b2d6636a-d8bd-4587-9f8c-a6d31a150113\")>,\n",
       " <selenium.webdriver.remote.webelement.WebElement (session=\"cee4587efa3055bceda5fef1a4268161\", element=\"8f4fb018-dc3d-46b5-a034-781bcb41e23d\")>,\n",
       " <selenium.webdriver.remote.webelement.WebElement (session=\"cee4587efa3055bceda5fef1a4268161\", element=\"df470c5f-5446-42d5-8e6c-9862605ffd51\")>,\n",
       " <selenium.webdriver.remote.webelement.WebElement (session=\"cee4587efa3055bceda5fef1a4268161\", element=\"8adffa0d-7cd1-4ea9-a051-698f22048e3e\")>,\n",
       " <selenium.webdriver.remote.webelement.WebElement (session=\"cee4587efa3055bceda5fef1a4268161\", element=\"2998c824-d938-4c43-97d5-ec8734de4ea0\")>]"
      ]
     },
     "execution_count": 9,
     "metadata": {},
     "output_type": "execute_result"
    }
   ],
   "source": [
    "loc=driver.find_elements_by_xpath(\"//span[@title='Bangalore/Bengaluru']\")\n",
    "loc"
   ]
  },
  {
   "cell_type": "code",
   "execution_count": 10,
   "metadata": {},
   "outputs": [
    {
     "data": {
      "text/plain": [
       "['Bangalore/Bengaluru',\n",
       " 'Bangalore/Bengaluru',\n",
       " 'Bangalore/Bengaluru',\n",
       " 'Bangalore/Bengaluru',\n",
       " 'Bangalore/Bengaluru',\n",
       " 'Bangalore/Bengaluru',\n",
       " 'Bangalore/Bengaluru',\n",
       " 'Bangalore/Bengaluru',\n",
       " 'Bangalore/Bengaluru',\n",
       " 'Bangalore/Bengaluru']"
      ]
     },
     "execution_count": 10,
     "metadata": {},
     "output_type": "execute_result"
    }
   ],
   "source": [
    "Job_Location=[]\n",
    "for i in loc:\n",
    "    Job_Location.append(i.text)\n",
    "Job_Location[:10]"
   ]
  },
  {
   "cell_type": "code",
   "execution_count": 11,
   "metadata": {
    "scrolled": true
   },
   "outputs": [
    {
     "data": {
      "text/plain": [
       "[<selenium.webdriver.remote.webelement.WebElement (session=\"cee4587efa3055bceda5fef1a4268161\", element=\"1f9d08ca-35c2-4fbe-85f9-66576e1aa05f\")>,\n",
       " <selenium.webdriver.remote.webelement.WebElement (session=\"cee4587efa3055bceda5fef1a4268161\", element=\"86b84af6-3ac9-4c00-9b6f-afa58221a8fe\")>,\n",
       " <selenium.webdriver.remote.webelement.WebElement (session=\"cee4587efa3055bceda5fef1a4268161\", element=\"07941f95-7dae-405a-b61d-53e1716fb184\")>,\n",
       " <selenium.webdriver.remote.webelement.WebElement (session=\"cee4587efa3055bceda5fef1a4268161\", element=\"81016434-a1a8-4ca6-90ad-3a35d1302ef0\")>,\n",
       " <selenium.webdriver.remote.webelement.WebElement (session=\"cee4587efa3055bceda5fef1a4268161\", element=\"4eb6de16-ae97-4468-845c-45dcc826aa08\")>,\n",
       " <selenium.webdriver.remote.webelement.WebElement (session=\"cee4587efa3055bceda5fef1a4268161\", element=\"a8efd59d-55ac-403b-97d8-45f3f728339f\")>,\n",
       " <selenium.webdriver.remote.webelement.WebElement (session=\"cee4587efa3055bceda5fef1a4268161\", element=\"c8283143-278a-4b39-b78e-e76ff74c253d\")>,\n",
       " <selenium.webdriver.remote.webelement.WebElement (session=\"cee4587efa3055bceda5fef1a4268161\", element=\"f05cfa9c-070f-427a-902b-2a0c8c3f4c93\")>,\n",
       " <selenium.webdriver.remote.webelement.WebElement (session=\"cee4587efa3055bceda5fef1a4268161\", element=\"316d091f-a776-468b-b3cd-9b39d351e54b\")>,\n",
       " <selenium.webdriver.remote.webelement.WebElement (session=\"cee4587efa3055bceda5fef1a4268161\", element=\"93341423-4f61-49ae-993c-a0fca6191fdf\")>,\n",
       " <selenium.webdriver.remote.webelement.WebElement (session=\"cee4587efa3055bceda5fef1a4268161\", element=\"bbee6c81-1089-4765-96f7-032b05d89f96\")>,\n",
       " <selenium.webdriver.remote.webelement.WebElement (session=\"cee4587efa3055bceda5fef1a4268161\", element=\"6b207edc-7451-4411-942e-23a63e391c56\")>,\n",
       " <selenium.webdriver.remote.webelement.WebElement (session=\"cee4587efa3055bceda5fef1a4268161\", element=\"a04f4823-e1a7-49ec-b0b8-b13efcbdc6b4\")>,\n",
       " <selenium.webdriver.remote.webelement.WebElement (session=\"cee4587efa3055bceda5fef1a4268161\", element=\"25af8e92-c408-43fc-9335-379735030a33\")>,\n",
       " <selenium.webdriver.remote.webelement.WebElement (session=\"cee4587efa3055bceda5fef1a4268161\", element=\"27c8253a-5899-4e92-9246-15aed03211a1\")>,\n",
       " <selenium.webdriver.remote.webelement.WebElement (session=\"cee4587efa3055bceda5fef1a4268161\", element=\"320cd7fa-10ea-4057-aba1-f18347b81ada\")>,\n",
       " <selenium.webdriver.remote.webelement.WebElement (session=\"cee4587efa3055bceda5fef1a4268161\", element=\"6c8e0d43-d0f5-40b9-bd97-8deb8ade7a98\")>,\n",
       " <selenium.webdriver.remote.webelement.WebElement (session=\"cee4587efa3055bceda5fef1a4268161\", element=\"690ac58f-d78a-408c-8ebd-60b620161a5a\")>,\n",
       " <selenium.webdriver.remote.webelement.WebElement (session=\"cee4587efa3055bceda5fef1a4268161\", element=\"071ad3c7-7687-434e-95ea-5dbb8265c25b\")>,\n",
       " <selenium.webdriver.remote.webelement.WebElement (session=\"cee4587efa3055bceda5fef1a4268161\", element=\"49595c52-443c-4820-a806-42b0eba3d902\")>]"
      ]
     },
     "execution_count": 11,
     "metadata": {},
     "output_type": "execute_result"
    }
   ],
   "source": [
    "co_name=driver.find_elements_by_xpath(\"//a[@class='subTitle ellipsis fleft']\")\n",
    "co_name"
   ]
  },
  {
   "cell_type": "code",
   "execution_count": 12,
   "metadata": {},
   "outputs": [
    {
     "data": {
      "text/plain": [
       "['Diverse Lynx',\n",
       " 'Catalyst',\n",
       " 'Cerner Corporation',\n",
       " 'Varite',\n",
       " 'Publicis Groupe',\n",
       " 'Borderless Access',\n",
       " 'Publicis Groupe',\n",
       " 'CRESCENDO GLOBAL LEADERSHIP HIRING INDIA PRIVATE L IMITED',\n",
       " 'Novel Office',\n",
       " 'Kelly Services India Pvt. Ltd.']"
      ]
     },
     "execution_count": 12,
     "metadata": {},
     "output_type": "execute_result"
    }
   ],
   "source": [
    "Company_name=[]\n",
    "for i in co_name:\n",
    "    Company_name.append(i.text)\n",
    "Company_name[:10]"
   ]
  },
  {
   "cell_type": "code",
   "execution_count": 13,
   "metadata": {
    "scrolled": true
   },
   "outputs": [
    {
     "data": {
      "text/plain": [
       "[<selenium.webdriver.remote.webelement.WebElement (session=\"cee4587efa3055bceda5fef1a4268161\", element=\"3154cf0b-4f17-45d4-b070-78d46eed4391\")>,\n",
       " <selenium.webdriver.remote.webelement.WebElement (session=\"cee4587efa3055bceda5fef1a4268161\", element=\"1c773373-e3ef-40d9-9e5e-c75862f1d5bb\")>,\n",
       " <selenium.webdriver.remote.webelement.WebElement (session=\"cee4587efa3055bceda5fef1a4268161\", element=\"1ecb93a8-6213-4a23-bb80-26d0d5c08b81\")>,\n",
       " <selenium.webdriver.remote.webelement.WebElement (session=\"cee4587efa3055bceda5fef1a4268161\", element=\"853826bd-a8ee-49c2-94eb-b4b7a9607c73\")>,\n",
       " <selenium.webdriver.remote.webelement.WebElement (session=\"cee4587efa3055bceda5fef1a4268161\", element=\"f4493bf5-b3d6-44cf-9e55-74e67b7973d2\")>,\n",
       " <selenium.webdriver.remote.webelement.WebElement (session=\"cee4587efa3055bceda5fef1a4268161\", element=\"7c77ee1f-c92a-4b31-882d-518aa0bb2bd6\")>,\n",
       " <selenium.webdriver.remote.webelement.WebElement (session=\"cee4587efa3055bceda5fef1a4268161\", element=\"9a4292b0-c7b2-4503-8129-a8ea4bc29252\")>,\n",
       " <selenium.webdriver.remote.webelement.WebElement (session=\"cee4587efa3055bceda5fef1a4268161\", element=\"60ee1792-3539-4e4b-bac5-22d71e3d53f1\")>,\n",
       " <selenium.webdriver.remote.webelement.WebElement (session=\"cee4587efa3055bceda5fef1a4268161\", element=\"0af0161f-d630-494c-8bf0-8b89c5c34b3a\")>,\n",
       " <selenium.webdriver.remote.webelement.WebElement (session=\"cee4587efa3055bceda5fef1a4268161\", element=\"c0773940-8c4e-4e70-b442-6ca9422e86e1\")>,\n",
       " <selenium.webdriver.remote.webelement.WebElement (session=\"cee4587efa3055bceda5fef1a4268161\", element=\"fdfcd1af-60d6-4bd6-b8db-55cd061ae2b0\")>,\n",
       " <selenium.webdriver.remote.webelement.WebElement (session=\"cee4587efa3055bceda5fef1a4268161\", element=\"642e8bb0-d606-44c0-8de5-a0bbac08871a\")>,\n",
       " <selenium.webdriver.remote.webelement.WebElement (session=\"cee4587efa3055bceda5fef1a4268161\", element=\"7dc80033-383c-4a4d-8f57-fa13cd7ee5fa\")>,\n",
       " <selenium.webdriver.remote.webelement.WebElement (session=\"cee4587efa3055bceda5fef1a4268161\", element=\"4464bb3b-c4dc-49af-a14d-fc8980f5f254\")>,\n",
       " <selenium.webdriver.remote.webelement.WebElement (session=\"cee4587efa3055bceda5fef1a4268161\", element=\"54825162-3388-45e1-8fbf-40b86ad465fb\")>,\n",
       " <selenium.webdriver.remote.webelement.WebElement (session=\"cee4587efa3055bceda5fef1a4268161\", element=\"ec116c58-c155-4611-9be1-1ae4c53f9250\")>,\n",
       " <selenium.webdriver.remote.webelement.WebElement (session=\"cee4587efa3055bceda5fef1a4268161\", element=\"82309ef1-871f-4bdb-8952-f07dbd5f2658\")>,\n",
       " <selenium.webdriver.remote.webelement.WebElement (session=\"cee4587efa3055bceda5fef1a4268161\", element=\"346349a1-8e8a-44f0-8175-2829c29f23d4\")>,\n",
       " <selenium.webdriver.remote.webelement.WebElement (session=\"cee4587efa3055bceda5fef1a4268161\", element=\"4cd9dc78-0d48-4fae-8c66-d93ef9e834ac\")>,\n",
       " <selenium.webdriver.remote.webelement.WebElement (session=\"cee4587efa3055bceda5fef1a4268161\", element=\"20c75160-6ee4-44ce-bbd1-a278b3434b98\")>]"
      ]
     },
     "execution_count": 13,
     "metadata": {},
     "output_type": "execute_result"
    }
   ],
   "source": [
    "exp=driver.find_elements_by_xpath(\"//li[@class='fleft grey-text br2 placeHolderLi experience']\")\n",
    "exp"
   ]
  },
  {
   "cell_type": "code",
   "execution_count": 14,
   "metadata": {},
   "outputs": [
    {
     "data": {
      "text/plain": [
       "['2-6 Yrs',\n",
       " '2-6 Yrs',\n",
       " '2-7 Yrs',\n",
       " '2-5 Yrs',\n",
       " '2-5 Yrs',\n",
       " '1-4 Yrs',\n",
       " '2-5 Yrs',\n",
       " '2-5 Yrs',\n",
       " '0-3 Yrs',\n",
       " '1-4 Yrs']"
      ]
     },
     "execution_count": 14,
     "metadata": {},
     "output_type": "execute_result"
    }
   ],
   "source": [
    "Exp_req=[]\n",
    "for i in exp:\n",
    "    Exp_req.append(i.text)\n",
    "Exp_req[:10]"
   ]
  },
  {
   "cell_type": "code",
   "execution_count": 15,
   "metadata": {},
   "outputs": [
    {
     "data": {
      "text/html": [
       "<div>\n",
       "<style scoped>\n",
       "    .dataframe tbody tr th:only-of-type {\n",
       "        vertical-align: middle;\n",
       "    }\n",
       "\n",
       "    .dataframe tbody tr th {\n",
       "        vertical-align: top;\n",
       "    }\n",
       "\n",
       "    .dataframe thead th {\n",
       "        text-align: right;\n",
       "    }\n",
       "</style>\n",
       "<table border=\"1\" class=\"dataframe\">\n",
       "  <thead>\n",
       "    <tr style=\"text-align: right;\">\n",
       "      <th></th>\n",
       "      <th>Job_Title</th>\n",
       "      <th>Job_Location</th>\n",
       "      <th>Company_name</th>\n",
       "      <th>Exp_req</th>\n",
       "    </tr>\n",
       "  </thead>\n",
       "  <tbody>\n",
       "    <tr>\n",
       "      <th>0</th>\n",
       "      <td>SAS Data Analyst</td>\n",
       "      <td>Bangalore/Bengaluru</td>\n",
       "      <td>Diverse Lynx</td>\n",
       "      <td>2-6 Yrs</td>\n",
       "    </tr>\n",
       "    <tr>\n",
       "      <th>1</th>\n",
       "      <td>Data Analyst - Quant &amp; Data Mining</td>\n",
       "      <td>Bangalore/Bengaluru</td>\n",
       "      <td>Catalyst</td>\n",
       "      <td>2-6 Yrs</td>\n",
       "    </tr>\n",
       "    <tr>\n",
       "      <th>2</th>\n",
       "      <td>Data Analyst</td>\n",
       "      <td>Bangalore/Bengaluru</td>\n",
       "      <td>Cerner Corporation</td>\n",
       "      <td>2-7 Yrs</td>\n",
       "    </tr>\n",
       "    <tr>\n",
       "      <th>3</th>\n",
       "      <td>Commerce Data Analyst</td>\n",
       "      <td>Bangalore/Bengaluru</td>\n",
       "      <td>Varite</td>\n",
       "      <td>2-5 Yrs</td>\n",
       "    </tr>\n",
       "    <tr>\n",
       "      <th>4</th>\n",
       "      <td>Data Analyst 2</td>\n",
       "      <td>Bangalore/Bengaluru</td>\n",
       "      <td>Publicis Groupe</td>\n",
       "      <td>2-5 Yrs</td>\n",
       "    </tr>\n",
       "    <tr>\n",
       "      <th>5</th>\n",
       "      <td>Data Analyst</td>\n",
       "      <td>Bangalore/Bengaluru</td>\n",
       "      <td>Borderless Access</td>\n",
       "      <td>1-4 Yrs</td>\n",
       "    </tr>\n",
       "    <tr>\n",
       "      <th>6</th>\n",
       "      <td>Data Analyst 2</td>\n",
       "      <td>Bangalore/Bengaluru</td>\n",
       "      <td>Publicis Groupe</td>\n",
       "      <td>2-5 Yrs</td>\n",
       "    </tr>\n",
       "    <tr>\n",
       "      <th>7</th>\n",
       "      <td>Data Analyst- Adobe Analytics- Bengaluru (2-5 ...</td>\n",
       "      <td>Bangalore/Bengaluru</td>\n",
       "      <td>CRESCENDO GLOBAL LEADERSHIP HIRING INDIA PRIVA...</td>\n",
       "      <td>2-5 Yrs</td>\n",
       "    </tr>\n",
       "    <tr>\n",
       "      <th>8</th>\n",
       "      <td>Data Analyst - I</td>\n",
       "      <td>Bangalore/Bengaluru</td>\n",
       "      <td>Novel Office</td>\n",
       "      <td>0-3 Yrs</td>\n",
       "    </tr>\n",
       "    <tr>\n",
       "      <th>9</th>\n",
       "      <td>Data Analyst with E commerce Company</td>\n",
       "      <td>Bangalore/Bengaluru</td>\n",
       "      <td>Kelly Services India Pvt. Ltd.</td>\n",
       "      <td>1-4 Yrs</td>\n",
       "    </tr>\n",
       "  </tbody>\n",
       "</table>\n",
       "</div>"
      ],
      "text/plain": [
       "                                           Job_Title         Job_Location  \\\n",
       "0                                   SAS Data Analyst  Bangalore/Bengaluru   \n",
       "1                 Data Analyst - Quant & Data Mining  Bangalore/Bengaluru   \n",
       "2                                       Data Analyst  Bangalore/Bengaluru   \n",
       "3                              Commerce Data Analyst  Bangalore/Bengaluru   \n",
       "4                                     Data Analyst 2  Bangalore/Bengaluru   \n",
       "5                                       Data Analyst  Bangalore/Bengaluru   \n",
       "6                                     Data Analyst 2  Bangalore/Bengaluru   \n",
       "7  Data Analyst- Adobe Analytics- Bengaluru (2-5 ...  Bangalore/Bengaluru   \n",
       "8                                   Data Analyst - I  Bangalore/Bengaluru   \n",
       "9               Data Analyst with E commerce Company  Bangalore/Bengaluru   \n",
       "\n",
       "                                        Company_name  Exp_req  \n",
       "0                                       Diverse Lynx  2-6 Yrs  \n",
       "1                                           Catalyst  2-6 Yrs  \n",
       "2                                 Cerner Corporation  2-7 Yrs  \n",
       "3                                             Varite  2-5 Yrs  \n",
       "4                                    Publicis Groupe  2-5 Yrs  \n",
       "5                                  Borderless Access  1-4 Yrs  \n",
       "6                                    Publicis Groupe  2-5 Yrs  \n",
       "7  CRESCENDO GLOBAL LEADERSHIP HIRING INDIA PRIVA...  2-5 Yrs  \n",
       "8                                       Novel Office  0-3 Yrs  \n",
       "9                     Kelly Services India Pvt. Ltd.  1-4 Yrs  "
      ]
     },
     "execution_count": 15,
     "metadata": {},
     "output_type": "execute_result"
    }
   ],
   "source": [
    "df=pd.DataFrame({})\n",
    "df['Job_Title']=Job_Title[:10]\n",
    "df['Job_Location']=Job_Location[:10]\n",
    "df['Company_name']=Company_name[:10]\n",
    "df['Exp_req']=Exp_req[:10]\n",
    "df"
   ]
  },
  {
   "cell_type": "code",
   "execution_count": null,
   "metadata": {},
   "outputs": [],
   "source": []
  },
  {
   "cell_type": "markdown",
   "metadata": {},
   "source": [
    "# 2. Data Scientist Job position"
   ]
  },
  {
   "cell_type": "code",
   "execution_count": 16,
   "metadata": {},
   "outputs": [],
   "source": [
    "driver.get('https://www.naukri.com/')"
   ]
  },
  {
   "cell_type": "code",
   "execution_count": 17,
   "metadata": {},
   "outputs": [],
   "source": [
    "#finding element for jon search bar\n",
    "search_job=driver.find_element_by_id('qsb-keyword-sugg')\n",
    "search_job.send_keys(\"Data Scientist\")\n",
    "search_loc=driver.find_element_by_xpath(\"//input[@id='qsb-location-sugg']\")\n",
    "search_loc.send_keys(\"Bangalore\")"
   ]
  },
  {
   "cell_type": "code",
   "execution_count": 18,
   "metadata": {},
   "outputs": [],
   "source": [
    "search_btn = driver.find_element_by_xpath(\"//div[@class='search-btn']/button[@class='btn']\")\n",
    "search_btn.click()"
   ]
  },
  {
   "cell_type": "markdown",
   "metadata": {},
   "source": [
    "Searching the results by using search button"
   ]
  },
  {
   "cell_type": "code",
   "execution_count": 60,
   "metadata": {},
   "outputs": [],
   "source": [
    "url='https://www.naukri.com/data-scientist-jobs-in-bangalore?k=data%20scientist&l=bangalore'\n",
    "driver.get(url)"
   ]
  },
  {
   "cell_type": "code",
   "execution_count": 61,
   "metadata": {
    "jupyter": {
     "source_hidden": true
    },
    "scrolled": true
   },
   "outputs": [
    {
     "data": {
      "text/plain": [
       "[<selenium.webdriver.remote.webelement.WebElement (session=\"cee4587efa3055bceda5fef1a4268161\", element=\"238517d8-1f02-4f96-9137-3452529fa07f\")>,\n",
       " <selenium.webdriver.remote.webelement.WebElement (session=\"cee4587efa3055bceda5fef1a4268161\", element=\"409b4dd0-3e22-4b9c-8c52-ae582d27f992\")>,\n",
       " <selenium.webdriver.remote.webelement.WebElement (session=\"cee4587efa3055bceda5fef1a4268161\", element=\"a551e607-5398-462e-860c-e4bd82cf5faf\")>,\n",
       " <selenium.webdriver.remote.webelement.WebElement (session=\"cee4587efa3055bceda5fef1a4268161\", element=\"be3d8ee4-ab28-4a82-ae82-e61d1450567d\")>,\n",
       " <selenium.webdriver.remote.webelement.WebElement (session=\"cee4587efa3055bceda5fef1a4268161\", element=\"5d6d7978-3b14-4126-9f4f-6f064e7480a9\")>,\n",
       " <selenium.webdriver.remote.webelement.WebElement (session=\"cee4587efa3055bceda5fef1a4268161\", element=\"e673690c-563b-484f-ac5c-af6c2d8adff5\")>,\n",
       " <selenium.webdriver.remote.webelement.WebElement (session=\"cee4587efa3055bceda5fef1a4268161\", element=\"a33ebbfd-8144-440a-bd58-18955bec6527\")>,\n",
       " <selenium.webdriver.remote.webelement.WebElement (session=\"cee4587efa3055bceda5fef1a4268161\", element=\"38ebcc55-ffd5-4383-93a4-8a0423b22476\")>,\n",
       " <selenium.webdriver.remote.webelement.WebElement (session=\"cee4587efa3055bceda5fef1a4268161\", element=\"b5f90595-c995-45d7-b94d-08881dc69838\")>,\n",
       " <selenium.webdriver.remote.webelement.WebElement (session=\"cee4587efa3055bceda5fef1a4268161\", element=\"dca0285f-4ba8-4df9-8a1d-b088c94058f9\")>,\n",
       " <selenium.webdriver.remote.webelement.WebElement (session=\"cee4587efa3055bceda5fef1a4268161\", element=\"6ee15029-b0d2-4d61-8411-61a3649a7b5e\")>,\n",
       " <selenium.webdriver.remote.webelement.WebElement (session=\"cee4587efa3055bceda5fef1a4268161\", element=\"7aaa1246-7fad-4051-8ce4-26a6def25142\")>,\n",
       " <selenium.webdriver.remote.webelement.WebElement (session=\"cee4587efa3055bceda5fef1a4268161\", element=\"cbd2dc9f-b20c-4779-beb5-6e71b52d6613\")>,\n",
       " <selenium.webdriver.remote.webelement.WebElement (session=\"cee4587efa3055bceda5fef1a4268161\", element=\"0e106f14-87a7-426c-b316-320c538d54d9\")>,\n",
       " <selenium.webdriver.remote.webelement.WebElement (session=\"cee4587efa3055bceda5fef1a4268161\", element=\"e0407539-682f-4ef9-a61f-b281a5e2d7ba\")>,\n",
       " <selenium.webdriver.remote.webelement.WebElement (session=\"cee4587efa3055bceda5fef1a4268161\", element=\"5f3d77c4-4b15-4282-806e-628150bd08d5\")>,\n",
       " <selenium.webdriver.remote.webelement.WebElement (session=\"cee4587efa3055bceda5fef1a4268161\", element=\"4ef4fbc7-b9e0-4b39-90f3-fe0c517fb530\")>,\n",
       " <selenium.webdriver.remote.webelement.WebElement (session=\"cee4587efa3055bceda5fef1a4268161\", element=\"a47e1e7c-c847-4f26-bd25-91fb18e2d86c\")>,\n",
       " <selenium.webdriver.remote.webelement.WebElement (session=\"cee4587efa3055bceda5fef1a4268161\", element=\"21c3d1bf-52b7-4d6c-b961-50948000a1bc\")>,\n",
       " <selenium.webdriver.remote.webelement.WebElement (session=\"cee4587efa3055bceda5fef1a4268161\", element=\"c44aa56a-da2c-4f6c-8c5b-2f5cb2ca175c\")>]"
      ]
     },
     "execution_count": 61,
     "metadata": {},
     "output_type": "execute_result"
    }
   ],
   "source": [
    "title=driver.find_elements_by_xpath(\"//a[@class='title fw500 ellipsis']\")\n",
    "title"
   ]
  },
  {
   "cell_type": "code",
   "execution_count": 62,
   "metadata": {},
   "outputs": [
    {
     "data": {
      "text/plain": [
       "['Data Scientist - Python/sql',\n",
       " 'Data Scientist - Python/ SQL',\n",
       " 'Data Scientist - Python/r',\n",
       " 'Data Scientist - Machine Learning',\n",
       " 'Data Scientist - KPO',\n",
       " 'Data Scientist - Machine Learning/Python',\n",
       " 'Data Scientist - Machine Learning',\n",
       " 'Data Scientist',\n",
       " 'Data Scientist - Internet/Online',\n",
       " 'Data Scientist']"
      ]
     },
     "execution_count": 62,
     "metadata": {},
     "output_type": "execute_result"
    }
   ],
   "source": [
    "Job_Title=[]\n",
    "for i in title:\n",
    "    Job_Title.append(i.text)\n",
    "Job_Title[:10]"
   ]
  },
  {
   "cell_type": "code",
   "execution_count": 63,
   "metadata": {
    "scrolled": true
   },
   "outputs": [
    {
     "data": {
      "text/plain": [
       "[<selenium.webdriver.remote.webelement.WebElement (session=\"cee4587efa3055bceda5fef1a4268161\", element=\"cc0e9a85-1b49-4dfe-8e43-19221389cced\")>,\n",
       " <selenium.webdriver.remote.webelement.WebElement (session=\"cee4587efa3055bceda5fef1a4268161\", element=\"ac5ef7a3-d431-4653-986d-c9761e127e65\")>,\n",
       " <selenium.webdriver.remote.webelement.WebElement (session=\"cee4587efa3055bceda5fef1a4268161\", element=\"090b9a25-27a1-4311-9e56-714e03be3615\")>,\n",
       " <selenium.webdriver.remote.webelement.WebElement (session=\"cee4587efa3055bceda5fef1a4268161\", element=\"5b179b0b-8495-4912-98ee-36b942ae5662\")>,\n",
       " <selenium.webdriver.remote.webelement.WebElement (session=\"cee4587efa3055bceda5fef1a4268161\", element=\"47f49d1a-5abc-4f99-b28e-a56500ea0339\")>,\n",
       " <selenium.webdriver.remote.webelement.WebElement (session=\"cee4587efa3055bceda5fef1a4268161\", element=\"ca7b2773-2909-4d3a-87ca-599577c5c614\")>,\n",
       " <selenium.webdriver.remote.webelement.WebElement (session=\"cee4587efa3055bceda5fef1a4268161\", element=\"33a485e1-9f56-440a-acab-1b18b75c858a\")>,\n",
       " <selenium.webdriver.remote.webelement.WebElement (session=\"cee4587efa3055bceda5fef1a4268161\", element=\"cb3bcd20-9266-4221-aa86-11a56d7199c4\")>,\n",
       " <selenium.webdriver.remote.webelement.WebElement (session=\"cee4587efa3055bceda5fef1a4268161\", element=\"656eead7-1f99-45eb-b7e1-32c8a30f6f8e\")>,\n",
       " <selenium.webdriver.remote.webelement.WebElement (session=\"cee4587efa3055bceda5fef1a4268161\", element=\"b1559772-6d70-4e7e-8928-5e8af0adde25\")>,\n",
       " <selenium.webdriver.remote.webelement.WebElement (session=\"cee4587efa3055bceda5fef1a4268161\", element=\"ab1ede80-8856-4669-afc3-f931a115bd58\")>,\n",
       " <selenium.webdriver.remote.webelement.WebElement (session=\"cee4587efa3055bceda5fef1a4268161\", element=\"890c151f-7e6d-4e52-a06d-c8df3cf1dbbe\")>,\n",
       " <selenium.webdriver.remote.webelement.WebElement (session=\"cee4587efa3055bceda5fef1a4268161\", element=\"0c4e76e6-c91e-4413-b32e-8e5a80964c66\")>,\n",
       " <selenium.webdriver.remote.webelement.WebElement (session=\"cee4587efa3055bceda5fef1a4268161\", element=\"2bbb3ae2-9fd7-4ab8-b8f3-825ca0d9c56f\")>,\n",
       " <selenium.webdriver.remote.webelement.WebElement (session=\"cee4587efa3055bceda5fef1a4268161\", element=\"164b4bab-79fe-45cf-a5ef-b5721d9a1b35\")>,\n",
       " <selenium.webdriver.remote.webelement.WebElement (session=\"cee4587efa3055bceda5fef1a4268161\", element=\"cd1b8fce-2dec-4ffd-add0-d3cfb103f318\")>,\n",
       " <selenium.webdriver.remote.webelement.WebElement (session=\"cee4587efa3055bceda5fef1a4268161\", element=\"79c7fd01-2e6f-44df-aff3-809fe5937f4b\")>,\n",
       " <selenium.webdriver.remote.webelement.WebElement (session=\"cee4587efa3055bceda5fef1a4268161\", element=\"22848efb-f4e6-4071-901a-a27fdecfeaea\")>,\n",
       " <selenium.webdriver.remote.webelement.WebElement (session=\"cee4587efa3055bceda5fef1a4268161\", element=\"01158a0f-e24c-4ec3-8025-9754740f08a8\")>,\n",
       " <selenium.webdriver.remote.webelement.WebElement (session=\"cee4587efa3055bceda5fef1a4268161\", element=\"b1191c40-5508-44b1-9c2f-ee945f39ce1f\")>]"
      ]
     },
     "execution_count": 63,
     "metadata": {},
     "output_type": "execute_result"
    }
   ],
   "source": [
    "loc=driver.find_elements_by_xpath(\"//span[@title='Bangalore/Bengaluru']\")\n",
    "loc"
   ]
  },
  {
   "cell_type": "code",
   "execution_count": 64,
   "metadata": {},
   "outputs": [
    {
     "data": {
      "text/plain": [
       "['Bangalore/Bengaluru',\n",
       " 'Bangalore/Bengaluru',\n",
       " 'Bangalore/Bengaluru',\n",
       " 'Bangalore/Bengaluru',\n",
       " 'Bangalore/Bengaluru',\n",
       " 'Bangalore/Bengaluru',\n",
       " 'Bangalore/Bengaluru',\n",
       " 'Bangalore/Bengaluru',\n",
       " 'Bangalore/Bengaluru',\n",
       " 'Bangalore/Bengaluru']"
      ]
     },
     "execution_count": 64,
     "metadata": {},
     "output_type": "execute_result"
    }
   ],
   "source": [
    "Job_Location=[]\n",
    "for i in loc:\n",
    "    Job_Location.append(i.text)\n",
    "Job_Location[:10]"
   ]
  },
  {
   "cell_type": "code",
   "execution_count": 65,
   "metadata": {
    "scrolled": true
   },
   "outputs": [
    {
     "data": {
      "text/plain": [
       "[<selenium.webdriver.remote.webelement.WebElement (session=\"cee4587efa3055bceda5fef1a4268161\", element=\"97d7c443-2845-41ad-8473-c50064961928\")>,\n",
       " <selenium.webdriver.remote.webelement.WebElement (session=\"cee4587efa3055bceda5fef1a4268161\", element=\"ef1e641a-b627-4f13-adce-f3a3c61b40df\")>,\n",
       " <selenium.webdriver.remote.webelement.WebElement (session=\"cee4587efa3055bceda5fef1a4268161\", element=\"e2b9b7fa-7b4e-411a-a868-462f095233dd\")>,\n",
       " <selenium.webdriver.remote.webelement.WebElement (session=\"cee4587efa3055bceda5fef1a4268161\", element=\"528dafb4-7609-4948-b12c-58455a50729c\")>,\n",
       " <selenium.webdriver.remote.webelement.WebElement (session=\"cee4587efa3055bceda5fef1a4268161\", element=\"1fbc69ac-a347-496b-afe1-ca785fce6977\")>,\n",
       " <selenium.webdriver.remote.webelement.WebElement (session=\"cee4587efa3055bceda5fef1a4268161\", element=\"d4c807c2-95db-4e30-8065-001696cf8f74\")>,\n",
       " <selenium.webdriver.remote.webelement.WebElement (session=\"cee4587efa3055bceda5fef1a4268161\", element=\"f88ab5c2-09ba-45fd-af30-517dcd36e4bd\")>,\n",
       " <selenium.webdriver.remote.webelement.WebElement (session=\"cee4587efa3055bceda5fef1a4268161\", element=\"7c0b2b0e-c538-4f9d-b6ec-a80f0263b9e7\")>,\n",
       " <selenium.webdriver.remote.webelement.WebElement (session=\"cee4587efa3055bceda5fef1a4268161\", element=\"3b0a2250-447d-4a15-a663-6804f5c7eb6f\")>,\n",
       " <selenium.webdriver.remote.webelement.WebElement (session=\"cee4587efa3055bceda5fef1a4268161\", element=\"c9d5253d-703d-47a5-84f1-21c5678c6a4f\")>,\n",
       " <selenium.webdriver.remote.webelement.WebElement (session=\"cee4587efa3055bceda5fef1a4268161\", element=\"9ebe3a39-8989-485d-82bc-010eafcc59e8\")>,\n",
       " <selenium.webdriver.remote.webelement.WebElement (session=\"cee4587efa3055bceda5fef1a4268161\", element=\"6f67f26c-fb8f-403d-8ad6-a17abe04c47d\")>,\n",
       " <selenium.webdriver.remote.webelement.WebElement (session=\"cee4587efa3055bceda5fef1a4268161\", element=\"1132ef9d-8dc3-4430-9de9-2f8cb596ce0e\")>,\n",
       " <selenium.webdriver.remote.webelement.WebElement (session=\"cee4587efa3055bceda5fef1a4268161\", element=\"594240c0-eafd-4560-be12-ffc2d2193158\")>,\n",
       " <selenium.webdriver.remote.webelement.WebElement (session=\"cee4587efa3055bceda5fef1a4268161\", element=\"8c745b7e-4316-44d6-885b-b42b63816324\")>,\n",
       " <selenium.webdriver.remote.webelement.WebElement (session=\"cee4587efa3055bceda5fef1a4268161\", element=\"d6326c43-961b-40eb-ba65-1dfde912f3da\")>,\n",
       " <selenium.webdriver.remote.webelement.WebElement (session=\"cee4587efa3055bceda5fef1a4268161\", element=\"0339e075-c2bc-43bc-8ca2-65726e2b31ba\")>,\n",
       " <selenium.webdriver.remote.webelement.WebElement (session=\"cee4587efa3055bceda5fef1a4268161\", element=\"68fb8029-314e-4838-88d9-aa6ed4778235\")>,\n",
       " <selenium.webdriver.remote.webelement.WebElement (session=\"cee4587efa3055bceda5fef1a4268161\", element=\"2d1f0b3e-b959-476d-af11-6d207094fae9\")>,\n",
       " <selenium.webdriver.remote.webelement.WebElement (session=\"cee4587efa3055bceda5fef1a4268161\", element=\"d422701b-ae44-4eb1-9932-e2b4ecf9141e\")>]"
      ]
     },
     "execution_count": 65,
     "metadata": {},
     "output_type": "execute_result"
    }
   ],
   "source": [
    "co_name=driver.find_elements_by_xpath(\"//a[@class='subTitle ellipsis fleft']\")\n",
    "co_name"
   ]
  },
  {
   "cell_type": "code",
   "execution_count": 66,
   "metadata": {},
   "outputs": [
    {
     "data": {
      "text/plain": [
       "['Catalyst',\n",
       " 'Catalyst',\n",
       " 'Catalyst',\n",
       " 'Catalyst',\n",
       " 'Antrors HR Solutions',\n",
       " 'Change leaders',\n",
       " 'AugmatrixGo',\n",
       " 'Vanguard Human Resource Consultant Pvt Ltd',\n",
       " 'e-Hireo Global Pvt Ltd',\n",
       " 'Mobiotics IT Solution Pvt Ltd']"
      ]
     },
     "execution_count": 66,
     "metadata": {},
     "output_type": "execute_result"
    }
   ],
   "source": [
    "Company_name=[]\n",
    "for i in co_name:\n",
    "    Company_name.append(i.text)\n",
    "Company_name[:10]"
   ]
  },
  {
   "cell_type": "code",
   "execution_count": 68,
   "metadata": {
    "scrolled": true
   },
   "outputs": [
    {
     "data": {
      "text/plain": [
       "[<selenium.webdriver.remote.webelement.WebElement (session=\"cee4587efa3055bceda5fef1a4268161\", element=\"8f36025d-aa09-498f-aba8-55ed2961005a\")>]"
      ]
     },
     "execution_count": 68,
     "metadata": {},
     "output_type": "execute_result"
    }
   ],
   "source": [
    "url='https://www.naukri.com/job-listings-data-scientist-python-sql-catalyst-bangalore-bengaluru-2-to-7-years-081119903383?src=jobsearchDesk&sid=16172550480704953&xp=1&px=1'\n",
    "driver.get(url)\n",
    "job_desc1=driver.find_elements_by_xpath(\"//div[@class='dang-inner-html']\")\n",
    "job_desc1\n"
   ]
  },
  {
   "cell_type": "code",
   "execution_count": 69,
   "metadata": {
    "scrolled": true
   },
   "outputs": [
    {
     "data": {
      "text/plain": [
       "[\"Job description  Skill: SQL, Python, Business Analysis, Data Science;  Exp: 2-7 years;  Job Description Ensuring quality in crowd sourcing model is the biggest challenge to solve for. Being the first data scientist of the company, you shall be responsible for building robust algorithms ensure quality, from scratch.Responsibilities- Develop models to derive maximum quality from crowd sourced data  Derive insights and identify opportunities through the use of algorithmic, statistical, mining & visualisation techniques- Work closely with engineering to implement aforementioned models  Requirements  Bachelors or above in Mathematics, Statistics, CS or related fields.  Min. 2 years experience with mathematical modelling, statistical analysis, machine learning, NLP- Must have implemented machine learning based solution which is being used in production  Programming proficiency, preferably with Python, R, SQL, Java and equivalents- Experience of working with relational and non-relational databasesWe're a fast growing startup, looking for talented and ambitious individuals who want to join us on this journey and build awesome things which can change the way work gets done. You shall get,- Complete Ownership, Flexible timings  We deal with millions of data points every day and we can assure you that you will have no dearth of data to work with in this job- Pay as per industry standards. Lucrative stock options.  An awesome office to work in and awesome people to work with- Weekend beer! Munchies on the house )\"]"
      ]
     },
     "execution_count": 69,
     "metadata": {},
     "output_type": "execute_result"
    }
   ],
   "source": [
    "Job_Desc1=[]\n",
    "for i in job_desc1:\n",
    "    Job_Desc1.append(i.text.replace('\\n',' '))\n",
    "Job_Desc1"
   ]
  },
  {
   "cell_type": "code",
   "execution_count": 70,
   "metadata": {},
   "outputs": [
    {
     "data": {
      "text/plain": [
       "[<selenium.webdriver.remote.webelement.WebElement (session=\"cee4587efa3055bceda5fef1a4268161\", element=\"5681931c-3d95-45e3-9f5a-b0b863e70101\")>]"
      ]
     },
     "execution_count": 70,
     "metadata": {},
     "output_type": "execute_result"
    }
   ],
   "source": [
    "url='https://www.naukri.com/job-listings-data-scientist-python-sql-catalyst-bangalore-bengaluru-2-to-7-years-030918900823?src=jobsearchDesk&sid=16172551483336902&xp=2&px=1'\n",
    "driver.get(url)\n",
    "job_desc2=driver.find_elements_by_xpath(\"//div[@class='dang-inner-html']\")\n",
    "job_desc2"
   ]
  },
  {
   "cell_type": "code",
   "execution_count": 71,
   "metadata": {},
   "outputs": [
    {
     "data": {
      "text/plain": [
       "[\"Roles and responsibilities  Job description  Skill: SQL, Python, Business Analysis, Data Science;  Exp: 2-7 years;  Job Description Ensuring quality in crowd sourcing model is the biggest challenge to solve for. Being the first data scientist of the company, you shall be responsible for building robust algorithms ensure quality, from scratch.Responsibilities- Develop models to derive maximum quality from crowd sourced data  Derive insights and identify opportunities through the use of algorithmic, statistical, mining & visualisation techniques- Work closely with engineering to implement aforementioned models Required Candidate profile Requirements  Bachelors or above in Mathematics, Statistics, CS or related fields.  Min. 2 years experience with mathematical modelling, statistical analysis, machine learning, NLP- Must have implemented machine learning based solution which is being used in production  Programming proficiency, preferably with Python, R, SQL, Java and equivalents- Experience of working with relational and non-relational databasesWe're a fast growing startup, looking for talented and ambitious individuals who want to join us on this journey and build awesome things which can change the way work gets done. You shall get,- Complete Ownership, Flexible timings  We deal with millions of data points every day and we can assure you that you will have no dearth of data to work with in this job- Pay as per industry standards. Lucrative stock options.  An awesome office to work in and awesome people to work with- Weekend beer! Munchies on the house )\"]"
      ]
     },
     "execution_count": 71,
     "metadata": {},
     "output_type": "execute_result"
    }
   ],
   "source": [
    "Job_Desc2=[]\n",
    "for i in job_desc2:\n",
    "    Job_Desc2.append(i.text.replace('\\n',' '))\n",
    "Job_Desc2"
   ]
  },
  {
   "cell_type": "code",
   "execution_count": 72,
   "metadata": {},
   "outputs": [
    {
     "data": {
      "text/plain": [
       "[<selenium.webdriver.remote.webelement.WebElement (session=\"cee4587efa3055bceda5fef1a4268161\", element=\"b4736cb3-cc78-437c-9174-ebbc20bba225\")>]"
      ]
     },
     "execution_count": 72,
     "metadata": {},
     "output_type": "execute_result"
    }
   ],
   "source": [
    "url='https://www.naukri.com/job-listings-data-scientist-machine-learning-catalyst-bangalore-bengaluru-2-to-7-years-290720902628?src=jobsearchDesk&sid=16172551483336902&xp=4&px=1'\n",
    "driver.get(url)\n",
    "job_desc3=driver.find_elements_by_xpath(\"//div[@class='dang-inner-html']\")\n",
    "job_desc3"
   ]
  },
  {
   "cell_type": "code",
   "execution_count": 73,
   "metadata": {},
   "outputs": [
    {
     "data": {
      "text/plain": [
       "['Roles and Responsibilities - Implement data-driven solutions based on advanced ML and optimization algorithms to address business problems  - Research, experiment, and innovate MLstatistical approaches in various application areas of interest and contribute to IP  - Partner with engineering teams to build scalable, efficient, automated ML-based pipelines (trainingevaluationmonitoring)  - Deploy, maintain, and debug MLdecision models in a production environment  - Analyze and assess data to ensure high data quality and correctness of downstream processes  - Communicate results to stakeholders and present datainsights to participate in and drive decision making']"
      ]
     },
     "execution_count": 73,
     "metadata": {},
     "output_type": "execute_result"
    }
   ],
   "source": [
    "Job_Desc3=[]\n",
    "for i in job_desc3:\n",
    "    Job_Desc3.append(i.text.replace('\\n',' '))\n",
    "Job_Desc3"
   ]
  },
  {
   "cell_type": "code",
   "execution_count": 74,
   "metadata": {},
   "outputs": [
    {
     "data": {
      "text/plain": [
       "[<selenium.webdriver.remote.webelement.WebElement (session=\"cee4587efa3055bceda5fef1a4268161\", element=\"8012c56d-c2ab-4031-958b-2e65535e36b1\")>]"
      ]
     },
     "execution_count": 74,
     "metadata": {},
     "output_type": "execute_result"
    }
   ],
   "source": [
    "url='https://www.naukri.com/job-listings-data-scientist-kpo-antrors-hr-solutions-bangalore-bengaluru-2-to-5-years-190620902010?src=jobsearchDesk&sid=16172551483336902&xp=5&px=1'\n",
    "driver.get(url)\n",
    "job_desc4=driver.find_elements_by_xpath(\"//div[@class='dang-inner-html']\")\n",
    "job_desc4"
   ]
  },
  {
   "cell_type": "code",
   "execution_count": 75,
   "metadata": {},
   "outputs": [
    {
     "data": {
      "text/plain": [
       "['Responsibilities:  - Work with stakeholders throughout the organization to identify opportunities for leveraging company data to drive business solutions.  - Mine and analyze data from company databases to drive optimization and improvement  - Assess the effectiveness and accuracy of new data sources and data gathering techniques.  - Develop custom data models and algorithms to apply to data sets.  - Use predictive modeling to increase and optimize customer experiences, revenue generation, ad targeting and other business outcomes.  - Develop company A/B testing framework and test model quality.  - Coordinate with different functional teams to implement models and monitor outcomes.  - Develop processes and tools to monitor and analyze model performance and data accuracy  Required Candidate profile Qualifications & Experience:  - PG / MBA with 2 to 5 Yrs Experience with strong problem solving skills with an emphasis on product development.  - Experience using statistical computer languages (R, Python, SLQ, etc.) to manipulate data and draw insights from large data sets.  - Experience working with and creating data architectures.  - Knowledge of a variety of machine learning techniques (clustering, decision tree learning, artificial neural networks, etc.) and their real-world advantages/drawbacks.  - Knowledge of advanced statistical techniques and concepts .']"
      ]
     },
     "execution_count": 75,
     "metadata": {},
     "output_type": "execute_result"
    }
   ],
   "source": [
    "Job_Desc4=[]\n",
    "for i in job_desc4:\n",
    "    Job_Desc4.append(i.text.replace('\\n',' '))\n",
    "Job_Desc4"
   ]
  },
  {
   "cell_type": "code",
   "execution_count": 76,
   "metadata": {},
   "outputs": [
    {
     "data": {
      "text/plain": [
       "[<selenium.webdriver.remote.webelement.WebElement (session=\"cee4587efa3055bceda5fef1a4268161\", element=\"d420cb82-041a-4472-b723-9e66ea7de664\")>]"
      ]
     },
     "execution_count": 76,
     "metadata": {},
     "output_type": "execute_result"
    }
   ],
   "source": [
    "url='https://www.naukri.com/job-listings-data-scientist-machine-learning-python-change-leaders-bangalore-bengaluru-1-to-5-years-260321905261?src=jobsearchDesk&sid=16172551483336902&xp=6&px=1'\n",
    "driver.get(url)\n",
    "job_desc5=driver.find_elements_by_xpath(\"//div[@class='dang-inner-html']\")\n",
    "job_desc5"
   ]
  },
  {
   "cell_type": "code",
   "execution_count": 77,
   "metadata": {
    "scrolled": true
   },
   "outputs": [
    {
     "data": {
      "text/plain": [
       "['Education requirement : PhD in Machine LearningDeep LearningArtificial IntelligenceImage processingStatisticsComputer Science Mathematics  Primary Role :  - Utilizing artificial intelligence and machine learning concepts to solve challenging business problems  - Work on problems from various domains like NLP, Recommendation engine, computer vision  - Should participate in complete project cycle i.e. understanding a problem statement, data gathering, analyzing data, implementing MLAI solutions  - Should be able to learn new toolslanguages quickly and continue expanding knowledge on latest advances in MLAI  - Managing project timing, client expectations and meeting deadlines  - Publishing research articles, papers and blogs  Desired skills and experience :  - Strong experience in machine learningartificial intelligence in academics or academics plus industry  - Expert level in at least one programming language. Preferably R or Python  - Knowledge of statistics and machine learning (Probability theory, parametric and non-parametric models, supervised and unsupervised ML techniques, etc.)  - Knowledge of deep learning algorithms (CNN, RNN, autoencoders, etc.)']"
      ]
     },
     "execution_count": 77,
     "metadata": {},
     "output_type": "execute_result"
    }
   ],
   "source": [
    "Job_Desc5=[]\n",
    "for i in job_desc5:\n",
    "    Job_Desc5.append(i.text.replace('\\n',' '))\n",
    "Job_Desc5"
   ]
  },
  {
   "cell_type": "code",
   "execution_count": 78,
   "metadata": {},
   "outputs": [
    {
     "data": {
      "text/plain": [
       "[<selenium.webdriver.remote.webelement.WebElement (session=\"cee4587efa3055bceda5fef1a4268161\", element=\"5197eb84-4421-4ec9-ade1-2e13f3bce3c8\")>]"
      ]
     },
     "execution_count": 78,
     "metadata": {},
     "output_type": "execute_result"
    }
   ],
   "source": [
    "url='https://www.naukri.com/job-listings-data-scientist-machine-learning-python-change-leaders-bangalore-bengaluru-1-to-5-years-260321905261?src=jobsearchDesk&sid=16172551483336902&xp=6&px=1'\n",
    "driver.get(url)\n",
    "job_desc6=driver.find_elements_by_xpath(\"//div[@class='dang-inner-html']\")\n",
    "job_desc6"
   ]
  },
  {
   "cell_type": "code",
   "execution_count": 79,
   "metadata": {
    "scrolled": true
   },
   "outputs": [
    {
     "data": {
      "text/plain": [
       "['Education requirement : PhD in Machine LearningDeep LearningArtificial IntelligenceImage processingStatisticsComputer Science Mathematics  Primary Role :  - Utilizing artificial intelligence and machine learning concepts to solve challenging business problems  - Work on problems from various domains like NLP, Recommendation engine, computer vision  - Should participate in complete project cycle i.e. understanding a problem statement, data gathering, analyzing data, implementing MLAI solutions  - Should be able to learn new toolslanguages quickly and continue expanding knowledge on latest advances in MLAI  - Managing project timing, client expectations and meeting deadlines  - Publishing research articles, papers and blogs  Desired skills and experience :  - Strong experience in machine learningartificial intelligence in academics or academics plus industry  - Expert level in at least one programming language. Preferably R or Python  - Knowledge of statistics and machine learning (Probability theory, parametric and non-parametric models, supervised and unsupervised ML techniques, etc.)  - Knowledge of deep learning algorithms (CNN, RNN, autoencoders, etc.)']"
      ]
     },
     "execution_count": 79,
     "metadata": {},
     "output_type": "execute_result"
    }
   ],
   "source": [
    "Job_Desc6=[]\n",
    "for i in job_desc6:\n",
    "    Job_Desc6.append(i.text.replace('\\n',' '))\n",
    "Job_Desc6"
   ]
  },
  {
   "cell_type": "code",
   "execution_count": 80,
   "metadata": {},
   "outputs": [
    {
     "data": {
      "text/plain": [
       "[<selenium.webdriver.remote.webelement.WebElement (session=\"cee4587efa3055bceda5fef1a4268161\", element=\"393e22e3-d295-420b-901c-d51b5e07ada1\")>]"
      ]
     },
     "execution_count": 80,
     "metadata": {},
     "output_type": "execute_result"
    }
   ],
   "source": [
    "url='https://www.naukri.com/job-listings-data-scientist-machine-learning-augmatrixgo-bangalore-bengaluru-2-to-5-years-140121905423?src=jobsearchDesk&sid=16172551483336902&xp=7&px=1'\n",
    "driver.get(url)\n",
    "job_desc7=driver.find_elements_by_xpath(\"//div[@class='dang-inner-html']\")\n",
    "job_desc7"
   ]
  },
  {
   "cell_type": "code",
   "execution_count": 81,
   "metadata": {
    "scrolled": true
   },
   "outputs": [
    {
     "data": {
      "text/plain": [
       "['Roles and Responsibilities   - Selecting features, building and optimizing classifiers using machine learning techniques  - Data mining using state-of-the-art methods  - Enhancing data collection procedures to include information that is relevant for building analytic systems  - Processing, cleansing, and verifying the integrity of data used for analysis  - Doing ad-hoc analysis and presenting results in a clear manner  - Creating automated anomaly detection systems and constant tracking of its performance  Skills Required :  - Excellent understanding of machine learning techniques and algorithms, such as k-NN, Naive Bayes, SVM, Decision Forests, etc.  - Experiences with one or more of the following is highly desirable: HPC/Parallelization, operationalizing ML models; cloud computing (e.g. Google Cloud, AWS, etc.); familiarity with ML frameworks such as Tensorflow, Theano, MXNet, etc  - Good experience in a few of the following areas: deep neural networks, reinforcement learning, Markov Random Fields, Bayesian networks, semi-supervised learning, computer vision, image processing, signal processing, distributed computing, and/or numerical optimization  - 2+ years of experience with computer vision and deep learning solutions, including image classification, object detection, segmentation, and equivalent computer vision-based vision tasks  - Experience with common data science toolkits, such as R, Weka, NumPy, etc . Excellence in at least one of these is highly desirable  - Proficiency in using query languages such as SQL, Hive, Pig  - Good applied statistics skills, such as distributions, statistical testing, regression, etc.  - Good scripting and programming skills  - Data-oriented personality  - B.Tech/M.Tech degree in from reputed institutes like IIT / NIT / BITS']"
      ]
     },
     "execution_count": 81,
     "metadata": {},
     "output_type": "execute_result"
    }
   ],
   "source": [
    "Job_Desc7=[]\n",
    "for i in job_desc7:\n",
    "    Job_Desc7.append(i.text.replace('\\n',' '))\n",
    "Job_Desc7"
   ]
  },
  {
   "cell_type": "code",
   "execution_count": 84,
   "metadata": {},
   "outputs": [
    {
     "data": {
      "text/plain": [
       "[<selenium.webdriver.remote.webelement.WebElement (session=\"cee4587efa3055bceda5fef1a4268161\", element=\"b72781d0-d65d-4656-9bbf-e26322187def\")>]"
      ]
     },
     "execution_count": 84,
     "metadata": {},
     "output_type": "execute_result"
    }
   ],
   "source": [
    "url='https://www.naukri.com/job-listings-data-scientist-vanguard-human-resource-consultant-pvt-ltd-bangalore-bengaluru-2-to-6-years-240321006582?src=jobsearchDesk&sid=16172551483336902&xp=8&px=1'\n",
    "driver.get(url)\n",
    "job_desc8=driver.find_elements_by_xpath(\"//div[@class='dang-inner-html']\")\n",
    "job_desc8"
   ]
  },
  {
   "cell_type": "code",
   "execution_count": 85,
   "metadata": {
    "scrolled": true
   },
   "outputs": [
    {
     "data": {
      "text/plain": [
       "['Strong in Experience in Data Science with following mandatory skills  Machine Learning Statistical Modelling Artificial Intelligence R or Python Client Management  Required Candidate profile - Good communication skills']"
      ]
     },
     "execution_count": 85,
     "metadata": {},
     "output_type": "execute_result"
    }
   ],
   "source": [
    "Job_Desc8=[]\n",
    "for i in job_desc8:\n",
    "    Job_Desc8.append(i.text.replace('\\n',' '))\n",
    "Job_Desc8"
   ]
  },
  {
   "cell_type": "code",
   "execution_count": 87,
   "metadata": {},
   "outputs": [
    {
     "data": {
      "text/plain": [
       "[<selenium.webdriver.remote.webelement.WebElement (session=\"cee4587efa3055bceda5fef1a4268161\", element=\"bcc4cdfa-dd1a-45f2-8910-ed82eb7db171\")>]"
      ]
     },
     "execution_count": 87,
     "metadata": {},
     "output_type": "execute_result"
    }
   ],
   "source": [
    "url='https://www.naukri.com/job-listings-data-scientist-internet-online-e-hireo-global-pvt-ltd-bangalore-bengaluru-2-to-5-years-250820900813?src=jobsearchDesk&sid=16172551483336902&xp=9&px=1'\n",
    "driver.get(url)\n",
    "job_desc9=driver.find_elements_by_xpath(\"//div[@class='dang-inner-html']\")\n",
    "job_desc9"
   ]
  },
  {
   "cell_type": "code",
   "execution_count": 88,
   "metadata": {
    "scrolled": true
   },
   "outputs": [
    {
     "data": {
      "text/plain": [
       "['Roles and Responsibilities Job Description :  - Dig deeper into data, understand characteristics of data, evaluate alternate models and validate hypothesis through theoretical and empirical approaches.  - Collaborate with product development, customer success, risk modeling and engineering teams in Business Units to understand their requirements challenges and develop robust solutions  - Stay current with latest research and technology ideas; share knowledge by clearly articulating results and ideas to key decision makers.  Requirements :  - BS/MS in Computer Science, Statistics, Applied Math, or related areas, with 2-4yrs of relevant work experience.  - Fluency in analytical tools such as Matlab, R, Python etc.  - Fluency in programming languages like C/C++/Java.  - Strong intuition for data and Keen aptitude on large scale data analysis  - Strong communication and collaboration skills.']"
      ]
     },
     "execution_count": 88,
     "metadata": {},
     "output_type": "execute_result"
    }
   ],
   "source": [
    "Job_Desc9=[]\n",
    "for i in job_desc9:\n",
    "    Job_Desc9.append(i.text.replace('\\n',' '))\n",
    "Job_Desc9"
   ]
  },
  {
   "cell_type": "code",
   "execution_count": 91,
   "metadata": {},
   "outputs": [
    {
     "data": {
      "text/plain": [
       "[<selenium.webdriver.remote.webelement.WebElement (session=\"cee4587efa3055bceda5fef1a4268161\", element=\"6f7caa44-32d4-43a2-af33-2efb325648c3\")>]"
      ]
     },
     "execution_count": 91,
     "metadata": {},
     "output_type": "execute_result"
    }
   ],
   "source": [
    "url='https://www.naukri.com/job-listings-data-scientist-mobiotics-it-solution-pvt-ltd-bangalore-bengaluru-2-to-5-years-011120000228?src=jobsearchDesk&sid=16172551483336902&xp=10&px=1'\n",
    "driver.get(url)\n",
    "job_desc10=driver.find_elements_by_xpath(\"//div[@class='dang-inner-html']\")\n",
    "job_desc10"
   ]
  },
  {
   "cell_type": "code",
   "execution_count": 92,
   "metadata": {
    "scrolled": true
   },
   "outputs": [
    {
     "data": {
      "text/plain": [
       "['Data Scientist @ Mobiotics  Roles and Responsibilities 1. Build and maintain big data analytics platforms 2. Optimise analytics and database workflows 3. Predictive Analytics, Data modelling and ML Implementation Desired Candidate Profile 1. 2-5 Years of solid experience in data analytics and ML 2. Degree in Data Science preferred with good understanding of data analytics algorithms and data fundamentals 3. Expertise in using python, numpy, pandas, Scala/R for data analytics 4. Expertise in using SQL and derivatives for doing data analytics 5. Expertise with SQL/NoSQL data systems and processing pipelines like MySQL, Postgresql, Cassandra, Spark, Bigtable, Redshift, DynamoDB, MongoDB, Hadoop, Hive etc 6. Experience working with huge data sets and Jupyter Notebooks 7. Expertise with ML algorithms and Deep Learning Models using Pytorch and Keras 8. Experience with data streaming systems like Kafka, Kinesis etc. 9. Good experience working with cloud - AWS/Azure/GCP 10. Experience with NLP and ELK Stack  Perks and Benefits Flexible work environment Cutting Edge Work ESOP and other perks']"
      ]
     },
     "execution_count": 92,
     "metadata": {},
     "output_type": "execute_result"
    }
   ],
   "source": [
    "Job_Desc10=[]\n",
    "for i in job_desc10:\n",
    "    Job_Desc10.append(i.text.replace('\\n',' '))\n",
    "Job_Desc10"
   ]
  },
  {
   "cell_type": "code",
   "execution_count": 93,
   "metadata": {
    "scrolled": true
   },
   "outputs": [
    {
     "data": {
      "text/plain": [
       "[\"Job description  Skill: SQL, Python, Business Analysis, Data Science;  Exp: 2-7 years;  Job Description Ensuring quality in crowd sourcing model is the biggest challenge to solve for. Being the first data scientist of the company, you shall be responsible for building robust algorithms ensure quality, from scratch.Responsibilities- Develop models to derive maximum quality from crowd sourced data  Derive insights and identify opportunities through the use of algorithmic, statistical, mining & visualisation techniques- Work closely with engineering to implement aforementioned models  Requirements  Bachelors or above in Mathematics, Statistics, CS or related fields.  Min. 2 years experience with mathematical modelling, statistical analysis, machine learning, NLP- Must have implemented machine learning based solution which is being used in production  Programming proficiency, preferably with Python, R, SQL, Java and equivalents- Experience of working with relational and non-relational databasesWe're a fast growing startup, looking for talented and ambitious individuals who want to join us on this journey and build awesome things which can change the way work gets done. You shall get,- Complete Ownership, Flexible timings  We deal with millions of data points every day and we can assure you that you will have no dearth of data to work with in this job- Pay as per industry standards. Lucrative stock options.  An awesome office to work in and awesome people to work with- Weekend beer! Munchies on the house )\",\n",
       " \"Roles and responsibilities  Job description  Skill: SQL, Python, Business Analysis, Data Science;  Exp: 2-7 years;  Job Description Ensuring quality in crowd sourcing model is the biggest challenge to solve for. Being the first data scientist of the company, you shall be responsible for building robust algorithms ensure quality, from scratch.Responsibilities- Develop models to derive maximum quality from crowd sourced data  Derive insights and identify opportunities through the use of algorithmic, statistical, mining & visualisation techniques- Work closely with engineering to implement aforementioned models Required Candidate profile Requirements  Bachelors or above in Mathematics, Statistics, CS or related fields.  Min. 2 years experience with mathematical modelling, statistical analysis, machine learning, NLP- Must have implemented machine learning based solution which is being used in production  Programming proficiency, preferably with Python, R, SQL, Java and equivalents- Experience of working with relational and non-relational databasesWe're a fast growing startup, looking for talented and ambitious individuals who want to join us on this journey and build awesome things which can change the way work gets done. You shall get,- Complete Ownership, Flexible timings  We deal with millions of data points every day and we can assure you that you will have no dearth of data to work with in this job- Pay as per industry standards. Lucrative stock options.  An awesome office to work in and awesome people to work with- Weekend beer! Munchies on the house )\",\n",
       " 'Roles and Responsibilities - Implement data-driven solutions based on advanced ML and optimization algorithms to address business problems  - Research, experiment, and innovate MLstatistical approaches in various application areas of interest and contribute to IP  - Partner with engineering teams to build scalable, efficient, automated ML-based pipelines (trainingevaluationmonitoring)  - Deploy, maintain, and debug MLdecision models in a production environment  - Analyze and assess data to ensure high data quality and correctness of downstream processes  - Communicate results to stakeholders and present datainsights to participate in and drive decision making',\n",
       " 'Responsibilities:  - Work with stakeholders throughout the organization to identify opportunities for leveraging company data to drive business solutions.  - Mine and analyze data from company databases to drive optimization and improvement  - Assess the effectiveness and accuracy of new data sources and data gathering techniques.  - Develop custom data models and algorithms to apply to data sets.  - Use predictive modeling to increase and optimize customer experiences, revenue generation, ad targeting and other business outcomes.  - Develop company A/B testing framework and test model quality.  - Coordinate with different functional teams to implement models and monitor outcomes.  - Develop processes and tools to monitor and analyze model performance and data accuracy  Required Candidate profile Qualifications & Experience:  - PG / MBA with 2 to 5 Yrs Experience with strong problem solving skills with an emphasis on product development.  - Experience using statistical computer languages (R, Python, SLQ, etc.) to manipulate data and draw insights from large data sets.  - Experience working with and creating data architectures.  - Knowledge of a variety of machine learning techniques (clustering, decision tree learning, artificial neural networks, etc.) and their real-world advantages/drawbacks.  - Knowledge of advanced statistical techniques and concepts .',\n",
       " 'Education requirement : PhD in Machine LearningDeep LearningArtificial IntelligenceImage processingStatisticsComputer Science Mathematics  Primary Role :  - Utilizing artificial intelligence and machine learning concepts to solve challenging business problems  - Work on problems from various domains like NLP, Recommendation engine, computer vision  - Should participate in complete project cycle i.e. understanding a problem statement, data gathering, analyzing data, implementing MLAI solutions  - Should be able to learn new toolslanguages quickly and continue expanding knowledge on latest advances in MLAI  - Managing project timing, client expectations and meeting deadlines  - Publishing research articles, papers and blogs  Desired skills and experience :  - Strong experience in machine learningartificial intelligence in academics or academics plus industry  - Expert level in at least one programming language. Preferably R or Python  - Knowledge of statistics and machine learning (Probability theory, parametric and non-parametric models, supervised and unsupervised ML techniques, etc.)  - Knowledge of deep learning algorithms (CNN, RNN, autoencoders, etc.)',\n",
       " 'Education requirement : PhD in Machine LearningDeep LearningArtificial IntelligenceImage processingStatisticsComputer Science Mathematics  Primary Role :  - Utilizing artificial intelligence and machine learning concepts to solve challenging business problems  - Work on problems from various domains like NLP, Recommendation engine, computer vision  - Should participate in complete project cycle i.e. understanding a problem statement, data gathering, analyzing data, implementing MLAI solutions  - Should be able to learn new toolslanguages quickly and continue expanding knowledge on latest advances in MLAI  - Managing project timing, client expectations and meeting deadlines  - Publishing research articles, papers and blogs  Desired skills and experience :  - Strong experience in machine learningartificial intelligence in academics or academics plus industry  - Expert level in at least one programming language. Preferably R or Python  - Knowledge of statistics and machine learning (Probability theory, parametric and non-parametric models, supervised and unsupervised ML techniques, etc.)  - Knowledge of deep learning algorithms (CNN, RNN, autoencoders, etc.)',\n",
       " 'Roles and Responsibilities   - Selecting features, building and optimizing classifiers using machine learning techniques  - Data mining using state-of-the-art methods  - Enhancing data collection procedures to include information that is relevant for building analytic systems  - Processing, cleansing, and verifying the integrity of data used for analysis  - Doing ad-hoc analysis and presenting results in a clear manner  - Creating automated anomaly detection systems and constant tracking of its performance  Skills Required :  - Excellent understanding of machine learning techniques and algorithms, such as k-NN, Naive Bayes, SVM, Decision Forests, etc.  - Experiences with one or more of the following is highly desirable: HPC/Parallelization, operationalizing ML models; cloud computing (e.g. Google Cloud, AWS, etc.); familiarity with ML frameworks such as Tensorflow, Theano, MXNet, etc  - Good experience in a few of the following areas: deep neural networks, reinforcement learning, Markov Random Fields, Bayesian networks, semi-supervised learning, computer vision, image processing, signal processing, distributed computing, and/or numerical optimization  - 2+ years of experience with computer vision and deep learning solutions, including image classification, object detection, segmentation, and equivalent computer vision-based vision tasks  - Experience with common data science toolkits, such as R, Weka, NumPy, etc . Excellence in at least one of these is highly desirable  - Proficiency in using query languages such as SQL, Hive, Pig  - Good applied statistics skills, such as distributions, statistical testing, regression, etc.  - Good scripting and programming skills  - Data-oriented personality  - B.Tech/M.Tech degree in from reputed institutes like IIT / NIT / BITS',\n",
       " 'Strong in Experience in Data Science with following mandatory skills  Machine Learning Statistical Modelling Artificial Intelligence R or Python Client Management  Required Candidate profile - Good communication skills',\n",
       " 'Roles and Responsibilities Job Description :  - Dig deeper into data, understand characteristics of data, evaluate alternate models and validate hypothesis through theoretical and empirical approaches.  - Collaborate with product development, customer success, risk modeling and engineering teams in Business Units to understand their requirements challenges and develop robust solutions  - Stay current with latest research and technology ideas; share knowledge by clearly articulating results and ideas to key decision makers.  Requirements :  - BS/MS in Computer Science, Statistics, Applied Math, or related areas, with 2-4yrs of relevant work experience.  - Fluency in analytical tools such as Matlab, R, Python etc.  - Fluency in programming languages like C/C++/Java.  - Strong intuition for data and Keen aptitude on large scale data analysis  - Strong communication and collaboration skills.',\n",
       " 'Data Scientist @ Mobiotics  Roles and Responsibilities 1. Build and maintain big data analytics platforms 2. Optimise analytics and database workflows 3. Predictive Analytics, Data modelling and ML Implementation Desired Candidate Profile 1. 2-5 Years of solid experience in data analytics and ML 2. Degree in Data Science preferred with good understanding of data analytics algorithms and data fundamentals 3. Expertise in using python, numpy, pandas, Scala/R for data analytics 4. Expertise in using SQL and derivatives for doing data analytics 5. Expertise with SQL/NoSQL data systems and processing pipelines like MySQL, Postgresql, Cassandra, Spark, Bigtable, Redshift, DynamoDB, MongoDB, Hadoop, Hive etc 6. Experience working with huge data sets and Jupyter Notebooks 7. Expertise with ML algorithms and Deep Learning Models using Pytorch and Keras 8. Experience with data streaming systems like Kafka, Kinesis etc. 9. Good experience working with cloud - AWS/Azure/GCP 10. Experience with NLP and ELK Stack  Perks and Benefits Flexible work environment Cutting Edge Work ESOP and other perks']"
      ]
     },
     "execution_count": 93,
     "metadata": {},
     "output_type": "execute_result"
    }
   ],
   "source": [
    "Job_Desc=Job_Desc1+Job_Desc2+Job_Desc3+Job_Desc4+Job_Desc5+Job_Desc6+Job_Desc7+Job_Desc8+Job_Desc9+Job_Desc10\n",
    "Job_Desc"
   ]
  },
  {
   "cell_type": "code",
   "execution_count": 94,
   "metadata": {},
   "outputs": [
    {
     "data": {
      "text/html": [
       "<div>\n",
       "<style scoped>\n",
       "    .dataframe tbody tr th:only-of-type {\n",
       "        vertical-align: middle;\n",
       "    }\n",
       "\n",
       "    .dataframe tbody tr th {\n",
       "        vertical-align: top;\n",
       "    }\n",
       "\n",
       "    .dataframe thead th {\n",
       "        text-align: right;\n",
       "    }\n",
       "</style>\n",
       "<table border=\"1\" class=\"dataframe\">\n",
       "  <thead>\n",
       "    <tr style=\"text-align: right;\">\n",
       "      <th></th>\n",
       "      <th>Job_Title</th>\n",
       "      <th>Job_Location</th>\n",
       "      <th>Company_name</th>\n",
       "      <th>Job_Desc</th>\n",
       "    </tr>\n",
       "  </thead>\n",
       "  <tbody>\n",
       "    <tr>\n",
       "      <th>0</th>\n",
       "      <td>Data Scientist - Python/sql</td>\n",
       "      <td>Bangalore/Bengaluru</td>\n",
       "      <td>Catalyst</td>\n",
       "      <td>Job description  Skill: SQL, Python, Business ...</td>\n",
       "    </tr>\n",
       "    <tr>\n",
       "      <th>1</th>\n",
       "      <td>Data Scientist - Python/ SQL</td>\n",
       "      <td>Bangalore/Bengaluru</td>\n",
       "      <td>Catalyst</td>\n",
       "      <td>Roles and responsibilities  Job description  S...</td>\n",
       "    </tr>\n",
       "    <tr>\n",
       "      <th>2</th>\n",
       "      <td>Data Scientist - Python/r</td>\n",
       "      <td>Bangalore/Bengaluru</td>\n",
       "      <td>Catalyst</td>\n",
       "      <td>Roles and Responsibilities - Implement data-dr...</td>\n",
       "    </tr>\n",
       "    <tr>\n",
       "      <th>3</th>\n",
       "      <td>Data Scientist - Machine Learning</td>\n",
       "      <td>Bangalore/Bengaluru</td>\n",
       "      <td>Catalyst</td>\n",
       "      <td>Responsibilities:  - Work with stakeholders th...</td>\n",
       "    </tr>\n",
       "    <tr>\n",
       "      <th>4</th>\n",
       "      <td>Data Scientist - KPO</td>\n",
       "      <td>Bangalore/Bengaluru</td>\n",
       "      <td>Antrors HR Solutions</td>\n",
       "      <td>Education requirement : PhD in Machine Learnin...</td>\n",
       "    </tr>\n",
       "    <tr>\n",
       "      <th>5</th>\n",
       "      <td>Data Scientist - Machine Learning/Python</td>\n",
       "      <td>Bangalore/Bengaluru</td>\n",
       "      <td>Change leaders</td>\n",
       "      <td>Education requirement : PhD in Machine Learnin...</td>\n",
       "    </tr>\n",
       "    <tr>\n",
       "      <th>6</th>\n",
       "      <td>Data Scientist - Machine Learning</td>\n",
       "      <td>Bangalore/Bengaluru</td>\n",
       "      <td>AugmatrixGo</td>\n",
       "      <td>Roles and Responsibilities   - Selecting featu...</td>\n",
       "    </tr>\n",
       "    <tr>\n",
       "      <th>7</th>\n",
       "      <td>Data Scientist</td>\n",
       "      <td>Bangalore/Bengaluru</td>\n",
       "      <td>Vanguard Human Resource Consultant Pvt Ltd</td>\n",
       "      <td>Strong in Experience in Data Science with foll...</td>\n",
       "    </tr>\n",
       "    <tr>\n",
       "      <th>8</th>\n",
       "      <td>Data Scientist - Internet/Online</td>\n",
       "      <td>Bangalore/Bengaluru</td>\n",
       "      <td>e-Hireo Global Pvt Ltd</td>\n",
       "      <td>Roles and Responsibilities Job Description :  ...</td>\n",
       "    </tr>\n",
       "    <tr>\n",
       "      <th>9</th>\n",
       "      <td>Data Scientist</td>\n",
       "      <td>Bangalore/Bengaluru</td>\n",
       "      <td>Mobiotics IT Solution Pvt Ltd</td>\n",
       "      <td>Data Scientist @ Mobiotics  Roles and Responsi...</td>\n",
       "    </tr>\n",
       "  </tbody>\n",
       "</table>\n",
       "</div>"
      ],
      "text/plain": [
       "                                  Job_Title         Job_Location  \\\n",
       "0               Data Scientist - Python/sql  Bangalore/Bengaluru   \n",
       "1              Data Scientist - Python/ SQL  Bangalore/Bengaluru   \n",
       "2                 Data Scientist - Python/r  Bangalore/Bengaluru   \n",
       "3         Data Scientist - Machine Learning  Bangalore/Bengaluru   \n",
       "4                      Data Scientist - KPO  Bangalore/Bengaluru   \n",
       "5  Data Scientist - Machine Learning/Python  Bangalore/Bengaluru   \n",
       "6         Data Scientist - Machine Learning  Bangalore/Bengaluru   \n",
       "7                            Data Scientist  Bangalore/Bengaluru   \n",
       "8          Data Scientist - Internet/Online  Bangalore/Bengaluru   \n",
       "9                            Data Scientist  Bangalore/Bengaluru   \n",
       "\n",
       "                                 Company_name  \\\n",
       "0                                    Catalyst   \n",
       "1                                    Catalyst   \n",
       "2                                    Catalyst   \n",
       "3                                    Catalyst   \n",
       "4                        Antrors HR Solutions   \n",
       "5                              Change leaders   \n",
       "6                                 AugmatrixGo   \n",
       "7  Vanguard Human Resource Consultant Pvt Ltd   \n",
       "8                      e-Hireo Global Pvt Ltd   \n",
       "9               Mobiotics IT Solution Pvt Ltd   \n",
       "\n",
       "                                            Job_Desc  \n",
       "0  Job description  Skill: SQL, Python, Business ...  \n",
       "1  Roles and responsibilities  Job description  S...  \n",
       "2  Roles and Responsibilities - Implement data-dr...  \n",
       "3  Responsibilities:  - Work with stakeholders th...  \n",
       "4  Education requirement : PhD in Machine Learnin...  \n",
       "5  Education requirement : PhD in Machine Learnin...  \n",
       "6  Roles and Responsibilities   - Selecting featu...  \n",
       "7  Strong in Experience in Data Science with foll...  \n",
       "8  Roles and Responsibilities Job Description :  ...  \n",
       "9  Data Scientist @ Mobiotics  Roles and Responsi...  "
      ]
     },
     "execution_count": 94,
     "metadata": {},
     "output_type": "execute_result"
    }
   ],
   "source": [
    "df=pd.DataFrame({})\n",
    "df['Job_Title']=Job_Title[:10]\n",
    "df['Job_Location']=Job_Location[:10]\n",
    "df['Company_name']=Company_name[:10]\n",
    "df['Job_Desc']=Job_Desc[:10]\n",
    "df"
   ]
  },
  {
   "cell_type": "code",
   "execution_count": null,
   "metadata": {},
   "outputs": [],
   "source": []
  },
  {
   "cell_type": "markdown",
   "metadata": {},
   "source": [
    "# 3 “Data Scientist” designation"
   ]
  },
  {
   "cell_type": "code",
   "execution_count": 116,
   "metadata": {},
   "outputs": [],
   "source": [
    "driver.get('https://www.naukri.com/')"
   ]
  },
  {
   "cell_type": "code",
   "execution_count": 117,
   "metadata": {},
   "outputs": [],
   "source": [
    "#finding element for jon search bar\n",
    "search_job=driver.find_element_by_id('qsb-keyword-sugg')\n",
    "search_job.send_keys(\"Data Scientist\")"
   ]
  },
  {
   "cell_type": "code",
   "execution_count": 118,
   "metadata": {},
   "outputs": [],
   "source": [
    "search_btn = driver.find_element_by_xpath(\"//div[@class='search-btn']/button[@class='btn']\")\n",
    "search_btn.click()"
   ]
  },
  {
   "cell_type": "markdown",
   "metadata": {},
   "source": [
    "Searching the results by using search button"
   ]
  },
  {
   "cell_type": "code",
   "execution_count": 119,
   "metadata": {},
   "outputs": [],
   "source": [
    "checkbox1 = driver.find_element_by_xpath(\"//span[@title='Delhi / NCR']\").click()"
   ]
  },
  {
   "cell_type": "code",
   "execution_count": 120,
   "metadata": {},
   "outputs": [],
   "source": [
    "checkbox2 = driver.find_element_by_xpath(\"//span[@title='3-6 Lakhs']\").click()"
   ]
  },
  {
   "cell_type": "code",
   "execution_count": 121,
   "metadata": {
    "scrolled": true
   },
   "outputs": [
    {
     "data": {
      "text/plain": [
       "[<selenium.webdriver.remote.webelement.WebElement (session=\"5875670cf6a5d50e88f52da44874d105\", element=\"1049fcae-bfe6-4967-9219-8e2c1e483cb2\")>,\n",
       " <selenium.webdriver.remote.webelement.WebElement (session=\"5875670cf6a5d50e88f52da44874d105\", element=\"063b3cfb-a5ac-4339-9ae3-2bdf5acf6e7c\")>,\n",
       " <selenium.webdriver.remote.webelement.WebElement (session=\"5875670cf6a5d50e88f52da44874d105\", element=\"1c795f26-08b0-45b6-a679-812d11eb70cb\")>,\n",
       " <selenium.webdriver.remote.webelement.WebElement (session=\"5875670cf6a5d50e88f52da44874d105\", element=\"bde0e81e-66ee-42c9-ac79-86d0dbfd15cf\")>,\n",
       " <selenium.webdriver.remote.webelement.WebElement (session=\"5875670cf6a5d50e88f52da44874d105\", element=\"9a200234-5828-468b-abb4-a1497174f5cb\")>,\n",
       " <selenium.webdriver.remote.webelement.WebElement (session=\"5875670cf6a5d50e88f52da44874d105\", element=\"3bd01fbf-0075-4e99-9a00-9ff6cce7f333\")>,\n",
       " <selenium.webdriver.remote.webelement.WebElement (session=\"5875670cf6a5d50e88f52da44874d105\", element=\"5df96ef1-1e3d-4d97-a892-232036db3c27\")>,\n",
       " <selenium.webdriver.remote.webelement.WebElement (session=\"5875670cf6a5d50e88f52da44874d105\", element=\"dd22c687-4412-4394-b424-f622a1ec55e9\")>,\n",
       " <selenium.webdriver.remote.webelement.WebElement (session=\"5875670cf6a5d50e88f52da44874d105\", element=\"f346af73-5b87-45fd-bad9-6b967b73a4b3\")>,\n",
       " <selenium.webdriver.remote.webelement.WebElement (session=\"5875670cf6a5d50e88f52da44874d105\", element=\"e0c74b1c-aaf4-4d1f-a6bd-5fb1815f9b92\")>,\n",
       " <selenium.webdriver.remote.webelement.WebElement (session=\"5875670cf6a5d50e88f52da44874d105\", element=\"cc11e686-7054-4698-ab04-b2cfa6631082\")>,\n",
       " <selenium.webdriver.remote.webelement.WebElement (session=\"5875670cf6a5d50e88f52da44874d105\", element=\"ec13b58f-da85-43c9-abb0-e2aaca9aa16f\")>,\n",
       " <selenium.webdriver.remote.webelement.WebElement (session=\"5875670cf6a5d50e88f52da44874d105\", element=\"bd739166-a60b-4a34-bf74-be0277e0263a\")>,\n",
       " <selenium.webdriver.remote.webelement.WebElement (session=\"5875670cf6a5d50e88f52da44874d105\", element=\"042cf790-1c3f-4068-ba5b-7fc1b20fbe0f\")>,\n",
       " <selenium.webdriver.remote.webelement.WebElement (session=\"5875670cf6a5d50e88f52da44874d105\", element=\"8e336f84-8009-4759-a3f5-bf8117e3b4c4\")>,\n",
       " <selenium.webdriver.remote.webelement.WebElement (session=\"5875670cf6a5d50e88f52da44874d105\", element=\"ee70eb13-fccf-43ab-aba5-370767ffb2f5\")>,\n",
       " <selenium.webdriver.remote.webelement.WebElement (session=\"5875670cf6a5d50e88f52da44874d105\", element=\"0d98acce-b47f-4666-aab6-2dc438d49a2e\")>,\n",
       " <selenium.webdriver.remote.webelement.WebElement (session=\"5875670cf6a5d50e88f52da44874d105\", element=\"5c69de27-406e-4627-931f-602595a95e1e\")>,\n",
       " <selenium.webdriver.remote.webelement.WebElement (session=\"5875670cf6a5d50e88f52da44874d105\", element=\"c418b5dc-682a-4beb-8c20-82a3388b8d8e\")>,\n",
       " <selenium.webdriver.remote.webelement.WebElement (session=\"5875670cf6a5d50e88f52da44874d105\", element=\"759e89a6-c08f-4dd9-97f1-629cf2c10791\")>]"
      ]
     },
     "execution_count": 121,
     "metadata": {},
     "output_type": "execute_result"
    }
   ],
   "source": [
    "title=driver.find_elements_by_xpath(\"//a[@class='title fw500 ellipsis']\")\n",
    "title"
   ]
  },
  {
   "cell_type": "code",
   "execution_count": 123,
   "metadata": {},
   "outputs": [
    {
     "data": {
      "text/plain": [
       "['Data Scientist/Data Analyst - Python/Machine Learning',\n",
       " 'Data Scientist',\n",
       " 'Data Scientist - Python & Machine Learning',\n",
       " 'Data Scientist - Python & Machine Learning',\n",
       " 'Data Scientist - Python / Machine Learning / Tableau / Power BI',\n",
       " 'Data Scientist - Python & Machine Learning',\n",
       " 'Hiring For Data Scientist',\n",
       " 'Required- Data Scientist (NLP)-Axis Bank - 6 months contract',\n",
       " 'Data Scientist - Python & Machine Learning (ISO 20022)',\n",
       " 'Data Scientist - Python / Machine Learning / Tableau / Power BI']"
      ]
     },
     "execution_count": 123,
     "metadata": {},
     "output_type": "execute_result"
    }
   ],
   "source": [
    "Job_title=[]\n",
    "for i in title:\n",
    "    Job_title.append(i.text)\n",
    "Job_title[:10]"
   ]
  },
  {
   "cell_type": "code",
   "execution_count": 180,
   "metadata": {
    "scrolled": true
   },
   "outputs": [
    {
     "data": {
      "text/plain": [
       "[<selenium.webdriver.remote.webelement.WebElement (session=\"5875670cf6a5d50e88f52da44874d105\", element=\"6d5aea18-117e-4959-9c0e-d8b2bf8c9956\")>,\n",
       " <selenium.webdriver.remote.webelement.WebElement (session=\"5875670cf6a5d50e88f52da44874d105\", element=\"08a10d6a-4990-4285-bdc6-fbd386f8b6ec\")>,\n",
       " <selenium.webdriver.remote.webelement.WebElement (session=\"5875670cf6a5d50e88f52da44874d105\", element=\"b2ae7df2-2ab0-4697-8d7b-551ce2911760\")>,\n",
       " <selenium.webdriver.remote.webelement.WebElement (session=\"5875670cf6a5d50e88f52da44874d105\", element=\"4d7af080-02b3-4c9a-8aea-94c2792c5342\")>,\n",
       " <selenium.webdriver.remote.webelement.WebElement (session=\"5875670cf6a5d50e88f52da44874d105\", element=\"ee66507f-e4e1-483f-88ca-ebae8c22ce32\")>,\n",
       " <selenium.webdriver.remote.webelement.WebElement (session=\"5875670cf6a5d50e88f52da44874d105\", element=\"3bf5967b-307b-40ec-a3a9-a8de182b5be1\")>,\n",
       " <selenium.webdriver.remote.webelement.WebElement (session=\"5875670cf6a5d50e88f52da44874d105\", element=\"de8bb14a-0b8e-435e-99e5-3d337eebb13b\")>,\n",
       " <selenium.webdriver.remote.webelement.WebElement (session=\"5875670cf6a5d50e88f52da44874d105\", element=\"554c1dd9-fb59-4215-ad1e-98335642d037\")>,\n",
       " <selenium.webdriver.remote.webelement.WebElement (session=\"5875670cf6a5d50e88f52da44874d105\", element=\"e30d3df5-6993-4dab-8270-9a10cc36ef9b\")>,\n",
       " <selenium.webdriver.remote.webelement.WebElement (session=\"5875670cf6a5d50e88f52da44874d105\", element=\"db3cfbc7-ffbf-4f6d-a6c9-5db204ba2cab\")>,\n",
       " <selenium.webdriver.remote.webelement.WebElement (session=\"5875670cf6a5d50e88f52da44874d105\", element=\"f13f5ff1-ff37-48c8-ac07-2d90389f82a9\")>,\n",
       " <selenium.webdriver.remote.webelement.WebElement (session=\"5875670cf6a5d50e88f52da44874d105\", element=\"e80a0c7f-1c59-4936-ac68-5a088c253650\")>,\n",
       " <selenium.webdriver.remote.webelement.WebElement (session=\"5875670cf6a5d50e88f52da44874d105\", element=\"523c8d87-e7c5-4721-88d7-8814490ee717\")>,\n",
       " <selenium.webdriver.remote.webelement.WebElement (session=\"5875670cf6a5d50e88f52da44874d105\", element=\"912a7f9c-3aa8-42d5-8809-bd8a2f2e4f5d\")>,\n",
       " <selenium.webdriver.remote.webelement.WebElement (session=\"5875670cf6a5d50e88f52da44874d105\", element=\"440fd3f5-8b11-49e1-b0b1-6bc9755380c6\")>,\n",
       " <selenium.webdriver.remote.webelement.WebElement (session=\"5875670cf6a5d50e88f52da44874d105\", element=\"a8bcc467-9555-4528-99ba-2ee5a872f822\")>,\n",
       " <selenium.webdriver.remote.webelement.WebElement (session=\"5875670cf6a5d50e88f52da44874d105\", element=\"89b6c14d-9c57-4bad-9c16-f7cf587e8478\")>,\n",
       " <selenium.webdriver.remote.webelement.WebElement (session=\"5875670cf6a5d50e88f52da44874d105\", element=\"26649946-326c-4de9-86cc-0bd41019b3ee\")>,\n",
       " <selenium.webdriver.remote.webelement.WebElement (session=\"5875670cf6a5d50e88f52da44874d105\", element=\"afa41cb5-bb5b-4f7d-b715-af1db93a35c2\")>,\n",
       " <selenium.webdriver.remote.webelement.WebElement (session=\"5875670cf6a5d50e88f52da44874d105\", element=\"de0dfdf9-bf4e-4e18-995d-23985d144610\")>]"
      ]
     },
     "execution_count": 180,
     "metadata": {},
     "output_type": "execute_result"
    }
   ],
   "source": [
    "loc=driver.find_elements_by_xpath(\"//li[@class='fleft grey-text br2 placeHolderLi location']\")\n",
    "loc"
   ]
  },
  {
   "cell_type": "code",
   "execution_count": 182,
   "metadata": {},
   "outputs": [
    {
     "data": {
      "text/plain": [
       "['Mumbai, Ghaziabad',\n",
       " 'Ghaziabad, Faridabad, Delhi / NCR',\n",
       " 'Hyderabad/Secunderabad, Pune, Chennai, Bangalore/Bengaluru, Delhi / NCR, Mumbai (All Areas)',\n",
       " 'Hyderabad/Secunderabad, Pune, Bangalore/Bengaluru, Delhi / NCR, Mumbai (All Areas)',\n",
       " 'Mumbai, Hyderabad/Secunderabad, Bangalore/Bengaluru, Delhi / NCR',\n",
       " 'Hyderabad/Secunderabad, Bangalore/Bengaluru, Delhi / NCR, Mumbai (All Areas)',\n",
       " 'Gurgaon/Gurugram, Delhi / NCR',\n",
       " 'Kolkata, New Delhi, Hyderabad/Secunderabad, Pune, Chennai, Bangalore/Bengaluru, Mumbai (All Areas)',\n",
       " 'Hyderabad/Secunderabad, Bangalore/Bengaluru, Delhi / NCR',\n",
       " 'Hyderabad/Secunderabad, Bangalore/Bengaluru, Delhi / NCR']"
      ]
     },
     "execution_count": 182,
     "metadata": {},
     "output_type": "execute_result"
    }
   ],
   "source": [
    "Job_loc=[]\n",
    "for i in loc:\n",
    "    Job_loc.append(i.text)\n",
    "Job_loc[:10]"
   ]
  },
  {
   "cell_type": "code",
   "execution_count": 172,
   "metadata": {
    "scrolled": true
   },
   "outputs": [
    {
     "data": {
      "text/plain": [
       "[<selenium.webdriver.remote.webelement.WebElement (session=\"5875670cf6a5d50e88f52da44874d105\", element=\"24fa9865-c082-42a9-bc02-cfa13f8d123f\")>,\n",
       " <selenium.webdriver.remote.webelement.WebElement (session=\"5875670cf6a5d50e88f52da44874d105\", element=\"56620d32-315c-4cf0-b07d-f26571594923\")>,\n",
       " <selenium.webdriver.remote.webelement.WebElement (session=\"5875670cf6a5d50e88f52da44874d105\", element=\"93254582-3b0f-4f3e-8238-4959bf944e08\")>,\n",
       " <selenium.webdriver.remote.webelement.WebElement (session=\"5875670cf6a5d50e88f52da44874d105\", element=\"dc683014-72f8-43d6-b211-15e6d0a1a0e9\")>,\n",
       " <selenium.webdriver.remote.webelement.WebElement (session=\"5875670cf6a5d50e88f52da44874d105\", element=\"25434ab1-9a2e-4f4f-bbef-dc1f0d0f5b78\")>,\n",
       " <selenium.webdriver.remote.webelement.WebElement (session=\"5875670cf6a5d50e88f52da44874d105\", element=\"598c3e41-b7b8-40c1-b95a-4c161b9c762c\")>,\n",
       " <selenium.webdriver.remote.webelement.WebElement (session=\"5875670cf6a5d50e88f52da44874d105\", element=\"e6a3b0e4-0840-40ff-ac75-4a7a1e6db183\")>,\n",
       " <selenium.webdriver.remote.webelement.WebElement (session=\"5875670cf6a5d50e88f52da44874d105\", element=\"9affedab-f4d9-4d77-ba11-ab5e36a9a20a\")>,\n",
       " <selenium.webdriver.remote.webelement.WebElement (session=\"5875670cf6a5d50e88f52da44874d105\", element=\"e00c0f11-8f4a-41f8-8e62-8ea14629e5d7\")>,\n",
       " <selenium.webdriver.remote.webelement.WebElement (session=\"5875670cf6a5d50e88f52da44874d105\", element=\"39fc681c-58ee-4234-b3fb-c7344aacfaca\")>,\n",
       " <selenium.webdriver.remote.webelement.WebElement (session=\"5875670cf6a5d50e88f52da44874d105\", element=\"6ad9bcb4-6e93-4f56-9b88-45846e951353\")>,\n",
       " <selenium.webdriver.remote.webelement.WebElement (session=\"5875670cf6a5d50e88f52da44874d105\", element=\"4ae223a8-d77f-42da-a371-4ed1b3fdfa14\")>,\n",
       " <selenium.webdriver.remote.webelement.WebElement (session=\"5875670cf6a5d50e88f52da44874d105\", element=\"ac33ac54-43b1-4968-9828-345981e11189\")>,\n",
       " <selenium.webdriver.remote.webelement.WebElement (session=\"5875670cf6a5d50e88f52da44874d105\", element=\"6f0ed8e1-4aa7-4e78-a652-51f0da070027\")>,\n",
       " <selenium.webdriver.remote.webelement.WebElement (session=\"5875670cf6a5d50e88f52da44874d105\", element=\"ed09d193-4d20-43ae-a977-a4680367f7af\")>,\n",
       " <selenium.webdriver.remote.webelement.WebElement (session=\"5875670cf6a5d50e88f52da44874d105\", element=\"ff04d0cb-e87a-408e-b0ac-330b01ac5dc6\")>,\n",
       " <selenium.webdriver.remote.webelement.WebElement (session=\"5875670cf6a5d50e88f52da44874d105\", element=\"72136a0b-6b11-4b1c-8a7b-ae6ae383c6af\")>,\n",
       " <selenium.webdriver.remote.webelement.WebElement (session=\"5875670cf6a5d50e88f52da44874d105\", element=\"81941744-508a-46c4-9abc-21e3871569a8\")>,\n",
       " <selenium.webdriver.remote.webelement.WebElement (session=\"5875670cf6a5d50e88f52da44874d105\", element=\"cc5137f5-6b75-4354-9dd9-1964f71a247c\")>,\n",
       " <selenium.webdriver.remote.webelement.WebElement (session=\"5875670cf6a5d50e88f52da44874d105\", element=\"68eb496f-a11d-4d77-93af-22fed69a9941\")>]"
      ]
     },
     "execution_count": 172,
     "metadata": {},
     "output_type": "execute_result"
    }
   ],
   "source": [
    "co_name=driver.find_elements_by_xpath(\"//a[@class='subTitle ellipsis fleft']\")\n",
    "co_name"
   ]
  },
  {
   "cell_type": "code",
   "execution_count": 173,
   "metadata": {},
   "outputs": [
    {
     "data": {
      "text/plain": [
       "['Change leaders',\n",
       " 'Amity University',\n",
       " 'FUTURES AND CAREERS',\n",
       " 'FUTURES AND CAREERS',\n",
       " 'FUTURES AND CAREERS',\n",
       " 'FUTURES AND CAREERS',\n",
       " 'Max Bupa Health Insurance Company Limited',\n",
       " 'Axis Bank Limited',\n",
       " 'FUTURES AND CAREERS',\n",
       " 'FUTURES AND CAREERS',\n",
       " 'Lecan Solutions Pvt Ltd',\n",
       " 'Lecan Solutions Pvt Ltd',\n",
       " 'NatWest Group',\n",
       " 'Careerera',\n",
       " 'NatWest Group',\n",
       " 'NatWest Group',\n",
       " 'WSD CONSULTANT PRIVATE LIMITED',\n",
       " 'RUBOID TECHNOVISION PRIVATE LIMITED',\n",
       " 'Country Veggie',\n",
       " 'RUBOID TECHNOVISION PRIVATE LIMITED']"
      ]
     },
     "execution_count": 173,
     "metadata": {},
     "output_type": "execute_result"
    }
   ],
   "source": [
    "Company=[]\n",
    "for i in co_name:\n",
    "    Company.append(i.text)\n",
    "Company"
   ]
  },
  {
   "cell_type": "code",
   "execution_count": 178,
   "metadata": {
    "scrolled": true
   },
   "outputs": [
    {
     "data": {
      "text/plain": [
       "[<selenium.webdriver.remote.webelement.WebElement (session=\"5875670cf6a5d50e88f52da44874d105\", element=\"5a7f0322-a89d-4a4d-a933-8143db9fcc95\")>,\n",
       " <selenium.webdriver.remote.webelement.WebElement (session=\"5875670cf6a5d50e88f52da44874d105\", element=\"fa6952ed-7f02-4b97-b886-a03fc8e983b4\")>,\n",
       " <selenium.webdriver.remote.webelement.WebElement (session=\"5875670cf6a5d50e88f52da44874d105\", element=\"82911f44-a5a6-492c-9f31-54ce15e62440\")>,\n",
       " <selenium.webdriver.remote.webelement.WebElement (session=\"5875670cf6a5d50e88f52da44874d105\", element=\"a1ae76da-e251-43f0-9283-1986ccb1ea50\")>,\n",
       " <selenium.webdriver.remote.webelement.WebElement (session=\"5875670cf6a5d50e88f52da44874d105\", element=\"185e4743-e7bb-4495-86b8-8adb6bc90e40\")>,\n",
       " <selenium.webdriver.remote.webelement.WebElement (session=\"5875670cf6a5d50e88f52da44874d105\", element=\"679d4c0f-959d-40e9-941b-c8fb030b9da8\")>,\n",
       " <selenium.webdriver.remote.webelement.WebElement (session=\"5875670cf6a5d50e88f52da44874d105\", element=\"7c79e7ef-7044-44c5-a21b-f81bcb8fcbda\")>,\n",
       " <selenium.webdriver.remote.webelement.WebElement (session=\"5875670cf6a5d50e88f52da44874d105\", element=\"87e8cc11-f8f6-4882-9938-97a0789db6a0\")>,\n",
       " <selenium.webdriver.remote.webelement.WebElement (session=\"5875670cf6a5d50e88f52da44874d105\", element=\"4df7a244-27c4-4135-af9d-e743c2b95f28\")>,\n",
       " <selenium.webdriver.remote.webelement.WebElement (session=\"5875670cf6a5d50e88f52da44874d105\", element=\"ee36b37a-60bb-48fa-9feb-f099c222346d\")>,\n",
       " <selenium.webdriver.remote.webelement.WebElement (session=\"5875670cf6a5d50e88f52da44874d105\", element=\"c7a9051b-3f7f-417a-a774-82ed6b1c1049\")>,\n",
       " <selenium.webdriver.remote.webelement.WebElement (session=\"5875670cf6a5d50e88f52da44874d105\", element=\"18b7799c-670b-4296-a5ba-bfaebe165519\")>,\n",
       " <selenium.webdriver.remote.webelement.WebElement (session=\"5875670cf6a5d50e88f52da44874d105\", element=\"b3dabf66-9b0d-445c-8167-28a30650c320\")>,\n",
       " <selenium.webdriver.remote.webelement.WebElement (session=\"5875670cf6a5d50e88f52da44874d105\", element=\"4ec7de54-4d3b-4629-9e24-67c7bcc6fa3e\")>,\n",
       " <selenium.webdriver.remote.webelement.WebElement (session=\"5875670cf6a5d50e88f52da44874d105\", element=\"fb288478-1126-45b5-8ee8-9576adf8fa62\")>,\n",
       " <selenium.webdriver.remote.webelement.WebElement (session=\"5875670cf6a5d50e88f52da44874d105\", element=\"85ca9554-4d45-4188-9fe7-f2022b953250\")>,\n",
       " <selenium.webdriver.remote.webelement.WebElement (session=\"5875670cf6a5d50e88f52da44874d105\", element=\"d0514b6a-d41c-486d-9339-1272663d0260\")>,\n",
       " <selenium.webdriver.remote.webelement.WebElement (session=\"5875670cf6a5d50e88f52da44874d105\", element=\"53a25a05-4025-4ca8-a681-f680403ecff2\")>,\n",
       " <selenium.webdriver.remote.webelement.WebElement (session=\"5875670cf6a5d50e88f52da44874d105\", element=\"b077073a-1c54-4991-822b-9889ce80affe\")>,\n",
       " <selenium.webdriver.remote.webelement.WebElement (session=\"5875670cf6a5d50e88f52da44874d105\", element=\"f0683326-76f0-4c98-a26a-ac397b8be9ab\")>]"
      ]
     },
     "execution_count": 178,
     "metadata": {},
     "output_type": "execute_result"
    }
   ],
   "source": [
    "exp_req=driver.find_elements_by_xpath(\"//li[@class='fleft grey-text br2 placeHolderLi experience']\")\n",
    "exp_req"
   ]
  },
  {
   "cell_type": "code",
   "execution_count": 183,
   "metadata": {},
   "outputs": [
    {
     "data": {
      "text/plain": [
       "['5-10 Yrs',\n",
       " '6-8 Yrs',\n",
       " '2-7 Yrs',\n",
       " '2-7 Yrs',\n",
       " '3-8 Yrs',\n",
       " '2-7 Yrs',\n",
       " '1-6 Yrs',\n",
       " '4-9 Yrs',\n",
       " '3-8 Yrs',\n",
       " '3-8 Yrs']"
      ]
     },
     "execution_count": 183,
     "metadata": {},
     "output_type": "execute_result"
    }
   ],
   "source": [
    "Experience_req=[]\n",
    "for i in exp_req:\n",
    "    Experience_req.append(i.text)\n",
    "Experience_req[:10]"
   ]
  },
  {
   "cell_type": "code",
   "execution_count": 184,
   "metadata": {},
   "outputs": [
    {
     "data": {
      "text/html": [
       "<div>\n",
       "<style scoped>\n",
       "    .dataframe tbody tr th:only-of-type {\n",
       "        vertical-align: middle;\n",
       "    }\n",
       "\n",
       "    .dataframe tbody tr th {\n",
       "        vertical-align: top;\n",
       "    }\n",
       "\n",
       "    .dataframe thead th {\n",
       "        text-align: right;\n",
       "    }\n",
       "</style>\n",
       "<table border=\"1\" class=\"dataframe\">\n",
       "  <thead>\n",
       "    <tr style=\"text-align: right;\">\n",
       "      <th></th>\n",
       "      <th>Job_Title</th>\n",
       "      <th>Job_Location</th>\n",
       "      <th>Company_name</th>\n",
       "      <th>Experience_req</th>\n",
       "    </tr>\n",
       "  </thead>\n",
       "  <tbody>\n",
       "    <tr>\n",
       "      <th>0</th>\n",
       "      <td>Data Scientist/Data Analyst - Python/Machine L...</td>\n",
       "      <td>Mumbai, Ghaziabad</td>\n",
       "      <td>Change leaders</td>\n",
       "      <td>5-10 Yrs</td>\n",
       "    </tr>\n",
       "    <tr>\n",
       "      <th>1</th>\n",
       "      <td>Data Scientist</td>\n",
       "      <td>Ghaziabad, Faridabad, Delhi / NCR</td>\n",
       "      <td>Amity University</td>\n",
       "      <td>6-8 Yrs</td>\n",
       "    </tr>\n",
       "    <tr>\n",
       "      <th>2</th>\n",
       "      <td>Data Scientist - Python &amp; Machine Learning</td>\n",
       "      <td>Hyderabad/Secunderabad, Pune, Chennai, Bangalo...</td>\n",
       "      <td>FUTURES AND CAREERS</td>\n",
       "      <td>2-7 Yrs</td>\n",
       "    </tr>\n",
       "    <tr>\n",
       "      <th>3</th>\n",
       "      <td>Data Scientist - Python &amp; Machine Learning</td>\n",
       "      <td>Hyderabad/Secunderabad, Pune, Bangalore/Bengal...</td>\n",
       "      <td>FUTURES AND CAREERS</td>\n",
       "      <td>2-7 Yrs</td>\n",
       "    </tr>\n",
       "    <tr>\n",
       "      <th>4</th>\n",
       "      <td>Data Scientist - Python / Machine Learning / T...</td>\n",
       "      <td>Mumbai, Hyderabad/Secunderabad, Bangalore/Beng...</td>\n",
       "      <td>FUTURES AND CAREERS</td>\n",
       "      <td>3-8 Yrs</td>\n",
       "    </tr>\n",
       "    <tr>\n",
       "      <th>5</th>\n",
       "      <td>Data Scientist - Python &amp; Machine Learning</td>\n",
       "      <td>Hyderabad/Secunderabad, Bangalore/Bengaluru, D...</td>\n",
       "      <td>FUTURES AND CAREERS</td>\n",
       "      <td>2-7 Yrs</td>\n",
       "    </tr>\n",
       "    <tr>\n",
       "      <th>6</th>\n",
       "      <td>Hiring For Data Scientist</td>\n",
       "      <td>Gurgaon/Gurugram, Delhi / NCR</td>\n",
       "      <td>Max Bupa Health Insurance Company Limited</td>\n",
       "      <td>1-6 Yrs</td>\n",
       "    </tr>\n",
       "    <tr>\n",
       "      <th>7</th>\n",
       "      <td>Required- Data Scientist (NLP)-Axis Bank - 6 m...</td>\n",
       "      <td>Kolkata, New Delhi, Hyderabad/Secunderabad, Pu...</td>\n",
       "      <td>Axis Bank Limited</td>\n",
       "      <td>4-9 Yrs</td>\n",
       "    </tr>\n",
       "    <tr>\n",
       "      <th>8</th>\n",
       "      <td>Data Scientist - Python &amp; Machine Learning (IS...</td>\n",
       "      <td>Hyderabad/Secunderabad, Bangalore/Bengaluru, D...</td>\n",
       "      <td>FUTURES AND CAREERS</td>\n",
       "      <td>3-8 Yrs</td>\n",
       "    </tr>\n",
       "    <tr>\n",
       "      <th>9</th>\n",
       "      <td>Data Scientist - Python / Machine Learning / T...</td>\n",
       "      <td>Hyderabad/Secunderabad, Bangalore/Bengaluru, D...</td>\n",
       "      <td>FUTURES AND CAREERS</td>\n",
       "      <td>3-8 Yrs</td>\n",
       "    </tr>\n",
       "  </tbody>\n",
       "</table>\n",
       "</div>"
      ],
      "text/plain": [
       "                                           Job_Title  \\\n",
       "0  Data Scientist/Data Analyst - Python/Machine L...   \n",
       "1                                     Data Scientist   \n",
       "2         Data Scientist - Python & Machine Learning   \n",
       "3         Data Scientist - Python & Machine Learning   \n",
       "4  Data Scientist - Python / Machine Learning / T...   \n",
       "5         Data Scientist - Python & Machine Learning   \n",
       "6                          Hiring For Data Scientist   \n",
       "7  Required- Data Scientist (NLP)-Axis Bank - 6 m...   \n",
       "8  Data Scientist - Python & Machine Learning (IS...   \n",
       "9  Data Scientist - Python / Machine Learning / T...   \n",
       "\n",
       "                                        Job_Location  \\\n",
       "0                                  Mumbai, Ghaziabad   \n",
       "1                  Ghaziabad, Faridabad, Delhi / NCR   \n",
       "2  Hyderabad/Secunderabad, Pune, Chennai, Bangalo...   \n",
       "3  Hyderabad/Secunderabad, Pune, Bangalore/Bengal...   \n",
       "4  Mumbai, Hyderabad/Secunderabad, Bangalore/Beng...   \n",
       "5  Hyderabad/Secunderabad, Bangalore/Bengaluru, D...   \n",
       "6                      Gurgaon/Gurugram, Delhi / NCR   \n",
       "7  Kolkata, New Delhi, Hyderabad/Secunderabad, Pu...   \n",
       "8  Hyderabad/Secunderabad, Bangalore/Bengaluru, D...   \n",
       "9  Hyderabad/Secunderabad, Bangalore/Bengaluru, D...   \n",
       "\n",
       "                                Company_name Experience_req  \n",
       "0                             Change leaders       5-10 Yrs  \n",
       "1                           Amity University        6-8 Yrs  \n",
       "2                        FUTURES AND CAREERS        2-7 Yrs  \n",
       "3                        FUTURES AND CAREERS        2-7 Yrs  \n",
       "4                        FUTURES AND CAREERS        3-8 Yrs  \n",
       "5                        FUTURES AND CAREERS        2-7 Yrs  \n",
       "6  Max Bupa Health Insurance Company Limited        1-6 Yrs  \n",
       "7                          Axis Bank Limited        4-9 Yrs  \n",
       "8                        FUTURES AND CAREERS        3-8 Yrs  \n",
       "9                        FUTURES AND CAREERS        3-8 Yrs  "
      ]
     },
     "execution_count": 184,
     "metadata": {},
     "output_type": "execute_result"
    }
   ],
   "source": [
    "df=pd.DataFrame({})\n",
    "df['Job_Title']=Job_title[:10]\n",
    "df['Job_Location']=Job_loc[:10]\n",
    "df['Company_name']=Company[:10]\n",
    "df['Experience_req']=Experience_req[:10]\n",
    "df"
   ]
  },
  {
   "cell_type": "code",
   "execution_count": null,
   "metadata": {},
   "outputs": [],
   "source": []
  },
  {
   "cell_type": "markdown",
   "metadata": {},
   "source": [
    "# Glassdoor"
   ]
  },
  {
   "cell_type": "code",
   "execution_count": 229,
   "metadata": {},
   "outputs": [],
   "source": [
    "driver.get('https://www.glassdoor.co.in/index.htm')"
   ]
  },
  {
   "cell_type": "code",
   "execution_count": 230,
   "metadata": {},
   "outputs": [],
   "source": [
    "#finding element for jon search bar\n",
    "search_job=driver.find_element_by_id('sc.keyword')\n",
    "search_job.send_keys(\"Data Scientist\")\n",
    "search_loc=driver.find_element_by_id('sc.location')\n",
    "search_loc.send_keys(\"Noida\")"
   ]
  },
  {
   "cell_type": "code",
   "execution_count": 232,
   "metadata": {},
   "outputs": [],
   "source": [
    "search_btn = driver.find_element_by_xpath(\"//button[@class='gd-ui-button ml-std col-auto SearchStyles__newSearchButton css-iixdfr']\")\n",
    "search_btn.click()"
   ]
  },
  {
   "cell_type": "markdown",
   "metadata": {},
   "source": [
    "Searching the results by using search button"
   ]
  },
  {
   "cell_type": "code",
   "execution_count": 233,
   "metadata": {
    "scrolled": true
   },
   "outputs": [
    {
     "data": {
      "text/plain": [
       "[<selenium.webdriver.remote.webelement.WebElement (session=\"1be792ef318ec740cd25c285cd7f6ca6\", element=\"36083a57-5df2-4de7-8a29-507e1a392c61\")>,\n",
       " <selenium.webdriver.remote.webelement.WebElement (session=\"1be792ef318ec740cd25c285cd7f6ca6\", element=\"3f2cf50b-3f2b-4880-9848-7de804359e1b\")>,\n",
       " <selenium.webdriver.remote.webelement.WebElement (session=\"1be792ef318ec740cd25c285cd7f6ca6\", element=\"224de6d3-7912-4059-8743-56066a81db0d\")>,\n",
       " <selenium.webdriver.remote.webelement.WebElement (session=\"1be792ef318ec740cd25c285cd7f6ca6\", element=\"4836d2f9-f6d3-4244-aeeb-511700632fc7\")>,\n",
       " <selenium.webdriver.remote.webelement.WebElement (session=\"1be792ef318ec740cd25c285cd7f6ca6\", element=\"f2daf5f7-1b1b-4d86-a4d4-80000ec08cad\")>,\n",
       " <selenium.webdriver.remote.webelement.WebElement (session=\"1be792ef318ec740cd25c285cd7f6ca6\", element=\"16684b18-f889-4963-bac2-453bcf32b5b5\")>,\n",
       " <selenium.webdriver.remote.webelement.WebElement (session=\"1be792ef318ec740cd25c285cd7f6ca6\", element=\"f29d94eb-f4ce-4f58-b66c-7e741a5feb03\")>,\n",
       " <selenium.webdriver.remote.webelement.WebElement (session=\"1be792ef318ec740cd25c285cd7f6ca6\", element=\"a2a5e076-b140-49f8-9fe8-1f08cb712cd3\")>,\n",
       " <selenium.webdriver.remote.webelement.WebElement (session=\"1be792ef318ec740cd25c285cd7f6ca6\", element=\"7c7764f2-91fc-486f-b9c8-af14c723e128\")>,\n",
       " <selenium.webdriver.remote.webelement.WebElement (session=\"1be792ef318ec740cd25c285cd7f6ca6\", element=\"865911ee-55d2-4c5b-989c-641dd8b03729\")>,\n",
       " <selenium.webdriver.remote.webelement.WebElement (session=\"1be792ef318ec740cd25c285cd7f6ca6\", element=\"e0e158fe-3d3a-4b49-a6d4-cbd991146e94\")>,\n",
       " <selenium.webdriver.remote.webelement.WebElement (session=\"1be792ef318ec740cd25c285cd7f6ca6\", element=\"179208c7-9647-4ce1-a3b2-c0496954d4a2\")>,\n",
       " <selenium.webdriver.remote.webelement.WebElement (session=\"1be792ef318ec740cd25c285cd7f6ca6\", element=\"8701cd56-99ca-4e71-88e0-6f1db3e8014a\")>,\n",
       " <selenium.webdriver.remote.webelement.WebElement (session=\"1be792ef318ec740cd25c285cd7f6ca6\", element=\"c50d996e-c075-4ff3-a57b-4e04c40e4648\")>,\n",
       " <selenium.webdriver.remote.webelement.WebElement (session=\"1be792ef318ec740cd25c285cd7f6ca6\", element=\"4ff45ecb-9ddf-439c-bca9-a64f0f020f56\")>,\n",
       " <selenium.webdriver.remote.webelement.WebElement (session=\"1be792ef318ec740cd25c285cd7f6ca6\", element=\"ce86189d-dc67-4366-b337-ce45705c6762\")>,\n",
       " <selenium.webdriver.remote.webelement.WebElement (session=\"1be792ef318ec740cd25c285cd7f6ca6\", element=\"f341fcde-ffbe-4f90-a171-accf216a30e9\")>,\n",
       " <selenium.webdriver.remote.webelement.WebElement (session=\"1be792ef318ec740cd25c285cd7f6ca6\", element=\"709dfd60-4263-4ebc-a5d0-e81be83fa98f\")>,\n",
       " <selenium.webdriver.remote.webelement.WebElement (session=\"1be792ef318ec740cd25c285cd7f6ca6\", element=\"47173ebc-318f-4f8a-b7b9-4646d4f6cf1f\")>,\n",
       " <selenium.webdriver.remote.webelement.WebElement (session=\"1be792ef318ec740cd25c285cd7f6ca6\", element=\"57a2fd27-e8f3-464c-bb41-63eb8ab4a5b8\")>,\n",
       " <selenium.webdriver.remote.webelement.WebElement (session=\"1be792ef318ec740cd25c285cd7f6ca6\", element=\"34858d22-26e5-4934-bde2-74f235534ecd\")>,\n",
       " <selenium.webdriver.remote.webelement.WebElement (session=\"1be792ef318ec740cd25c285cd7f6ca6\", element=\"1b76d500-cd04-4ef7-ae56-8feb8d98f71e\")>,\n",
       " <selenium.webdriver.remote.webelement.WebElement (session=\"1be792ef318ec740cd25c285cd7f6ca6\", element=\"3176fd20-cdf7-457d-9550-b3fff09aaa2b\")>,\n",
       " <selenium.webdriver.remote.webelement.WebElement (session=\"1be792ef318ec740cd25c285cd7f6ca6\", element=\"720482a4-1426-41d7-b3d1-1d2db3ee512e\")>,\n",
       " <selenium.webdriver.remote.webelement.WebElement (session=\"1be792ef318ec740cd25c285cd7f6ca6\", element=\"1c978e99-46c4-4a05-9eda-de07e765c62a\")>,\n",
       " <selenium.webdriver.remote.webelement.WebElement (session=\"1be792ef318ec740cd25c285cd7f6ca6\", element=\"07704b10-ad99-4cf2-ade4-33f0603aa322\")>,\n",
       " <selenium.webdriver.remote.webelement.WebElement (session=\"1be792ef318ec740cd25c285cd7f6ca6\", element=\"c428c161-467c-4230-9ff7-ea24d7e4b169\")>,\n",
       " <selenium.webdriver.remote.webelement.WebElement (session=\"1be792ef318ec740cd25c285cd7f6ca6\", element=\"41961bde-e168-413f-b4be-bb5732c627ea\")>,\n",
       " <selenium.webdriver.remote.webelement.WebElement (session=\"1be792ef318ec740cd25c285cd7f6ca6\", element=\"c16d40a6-6071-40fb-b66e-e1e453f8c178\")>,\n",
       " <selenium.webdriver.remote.webelement.WebElement (session=\"1be792ef318ec740cd25c285cd7f6ca6\", element=\"5b198e82-34f5-49f9-8093-8f55b4cf106e\")>,\n",
       " <selenium.webdriver.remote.webelement.WebElement (session=\"1be792ef318ec740cd25c285cd7f6ca6\", element=\"6e336cbb-27ef-46bc-904a-4481c42076b6\")>,\n",
       " <selenium.webdriver.remote.webelement.WebElement (session=\"1be792ef318ec740cd25c285cd7f6ca6\", element=\"4cb88120-1cf3-4570-901c-f09c176bbf78\")>]"
      ]
     },
     "execution_count": 233,
     "metadata": {},
     "output_type": "execute_result"
    }
   ],
   "source": [
    "co_name=driver.find_elements_by_xpath(\"//a[@class=' css-l2wjgv e1n63ojh0 jobLink']\")\n",
    "co_name"
   ]
  },
  {
   "cell_type": "code",
   "execution_count": 234,
   "metadata": {},
   "outputs": [
    {
     "data": {
      "text/plain": [
       "['Ericsson-Worldwide',\n",
       " 'Elsevier',\n",
       " 'Adobe',\n",
       " 'Biz2Credit Inc',\n",
       " 'xtLytics',\n",
       " 'Salasar New Age Technologies',\n",
       " 'UnitedHealth Group',\n",
       " 'Dürr Somac GmbH',\n",
       " 'Srijan Technologies Pvt Ltd',\n",
       " 'itForte']"
      ]
     },
     "execution_count": 234,
     "metadata": {},
     "output_type": "execute_result"
    }
   ],
   "source": [
    "Company=[]\n",
    "for i in co_name:\n",
    "    Company.append(i.text)\n",
    "Company[:10]"
   ]
  },
  {
   "cell_type": "code",
   "execution_count": 237,
   "metadata": {
    "scrolled": true
   },
   "outputs": [
    {
     "data": {
      "text/plain": [
       "[<selenium.webdriver.remote.webelement.WebElement (session=\"1be792ef318ec740cd25c285cd7f6ca6\", element=\"2034cd95-42fa-4ccb-88dd-82a3bd3e67c9\")>,\n",
       " <selenium.webdriver.remote.webelement.WebElement (session=\"1be792ef318ec740cd25c285cd7f6ca6\", element=\"b70f1cd3-436d-40e1-8c0e-a5809593eb13\")>,\n",
       " <selenium.webdriver.remote.webelement.WebElement (session=\"1be792ef318ec740cd25c285cd7f6ca6\", element=\"d70488b9-fda2-4078-9837-c7b8ebc13aa0\")>,\n",
       " <selenium.webdriver.remote.webelement.WebElement (session=\"1be792ef318ec740cd25c285cd7f6ca6\", element=\"7ce765f2-df1d-4b72-b128-211d80c65d77\")>,\n",
       " <selenium.webdriver.remote.webelement.WebElement (session=\"1be792ef318ec740cd25c285cd7f6ca6\", element=\"73b21e86-6c59-4759-9f7a-493ced2d6a8e\")>,\n",
       " <selenium.webdriver.remote.webelement.WebElement (session=\"1be792ef318ec740cd25c285cd7f6ca6\", element=\"1ba75679-57cb-4877-8cbe-d63de8d3f29c\")>,\n",
       " <selenium.webdriver.remote.webelement.WebElement (session=\"1be792ef318ec740cd25c285cd7f6ca6\", element=\"990ef23b-d4b4-4517-8102-3a8a20930f25\")>,\n",
       " <selenium.webdriver.remote.webelement.WebElement (session=\"1be792ef318ec740cd25c285cd7f6ca6\", element=\"f8ef96e7-9d74-459b-8d38-c4d7951e178e\")>,\n",
       " <selenium.webdriver.remote.webelement.WebElement (session=\"1be792ef318ec740cd25c285cd7f6ca6\", element=\"2c8dbcd0-be04-45b7-960b-ad403f2c9761\")>,\n",
       " <selenium.webdriver.remote.webelement.WebElement (session=\"1be792ef318ec740cd25c285cd7f6ca6\", element=\"511a01a2-b097-4e43-bdf6-8ab274d035c1\")>,\n",
       " <selenium.webdriver.remote.webelement.WebElement (session=\"1be792ef318ec740cd25c285cd7f6ca6\", element=\"f1bb3976-72af-4e32-81ff-5bb46cb7a0e5\")>,\n",
       " <selenium.webdriver.remote.webelement.WebElement (session=\"1be792ef318ec740cd25c285cd7f6ca6\", element=\"04a1999f-673b-4083-819c-e447368a6a82\")>,\n",
       " <selenium.webdriver.remote.webelement.WebElement (session=\"1be792ef318ec740cd25c285cd7f6ca6\", element=\"566399d3-7fcf-46e3-8558-750346df8ac3\")>,\n",
       " <selenium.webdriver.remote.webelement.WebElement (session=\"1be792ef318ec740cd25c285cd7f6ca6\", element=\"f02f01ad-71c6-4099-800f-680ccb613b13\")>,\n",
       " <selenium.webdriver.remote.webelement.WebElement (session=\"1be792ef318ec740cd25c285cd7f6ca6\", element=\"e9ee889f-1fc7-4349-bf2b-d8edc2bf8514\")>,\n",
       " <selenium.webdriver.remote.webelement.WebElement (session=\"1be792ef318ec740cd25c285cd7f6ca6\", element=\"21434f19-8491-4f76-acbf-96ba226fe4ee\")>,\n",
       " <selenium.webdriver.remote.webelement.WebElement (session=\"1be792ef318ec740cd25c285cd7f6ca6\", element=\"8780313e-028f-4219-ba9e-8d80532721b4\")>,\n",
       " <selenium.webdriver.remote.webelement.WebElement (session=\"1be792ef318ec740cd25c285cd7f6ca6\", element=\"d84aeb50-d4e8-420f-8f03-01fc0f55ec26\")>,\n",
       " <selenium.webdriver.remote.webelement.WebElement (session=\"1be792ef318ec740cd25c285cd7f6ca6\", element=\"ae9b96db-661e-475c-aa7e-b5294cc31a2d\")>,\n",
       " <selenium.webdriver.remote.webelement.WebElement (session=\"1be792ef318ec740cd25c285cd7f6ca6\", element=\"e67575cb-57a0-4a3b-8e8b-3fecb2e80138\")>,\n",
       " <selenium.webdriver.remote.webelement.WebElement (session=\"1be792ef318ec740cd25c285cd7f6ca6\", element=\"39c1d238-2737-4e2c-a3d4-662f43959bb2\")>,\n",
       " <selenium.webdriver.remote.webelement.WebElement (session=\"1be792ef318ec740cd25c285cd7f6ca6\", element=\"7f4c8e7d-d44d-47c6-8003-2a15bfd3469b\")>,\n",
       " <selenium.webdriver.remote.webelement.WebElement (session=\"1be792ef318ec740cd25c285cd7f6ca6\", element=\"3dde31b3-f267-4855-96d7-016be6477653\")>,\n",
       " <selenium.webdriver.remote.webelement.WebElement (session=\"1be792ef318ec740cd25c285cd7f6ca6\", element=\"af05adad-c8ef-4c3f-900e-7051d1d87d76\")>,\n",
       " <selenium.webdriver.remote.webelement.WebElement (session=\"1be792ef318ec740cd25c285cd7f6ca6\", element=\"21e09ee8-8c7a-418d-b91a-d9549d076ad1\")>,\n",
       " <selenium.webdriver.remote.webelement.WebElement (session=\"1be792ef318ec740cd25c285cd7f6ca6\", element=\"df983c07-3884-4a75-8d51-0723b720f383\")>,\n",
       " <selenium.webdriver.remote.webelement.WebElement (session=\"1be792ef318ec740cd25c285cd7f6ca6\", element=\"d47939bd-50c9-48b1-96c2-9ff451276552\")>,\n",
       " <selenium.webdriver.remote.webelement.WebElement (session=\"1be792ef318ec740cd25c285cd7f6ca6\", element=\"68610cf4-fc60-437d-95c2-ab4aa79ff5cd\")>,\n",
       " <selenium.webdriver.remote.webelement.WebElement (session=\"1be792ef318ec740cd25c285cd7f6ca6\", element=\"577e9e74-056e-4aac-9bd8-fb78ed3a1f0c\")>,\n",
       " <selenium.webdriver.remote.webelement.WebElement (session=\"1be792ef318ec740cd25c285cd7f6ca6\", element=\"5b90ad42-e63a-4149-a67a-79ea8153e244\")>,\n",
       " <selenium.webdriver.remote.webelement.WebElement (session=\"1be792ef318ec740cd25c285cd7f6ca6\", element=\"1f2001a9-085a-460e-8cf9-f81ced5a338f\")>,\n",
       " <selenium.webdriver.remote.webelement.WebElement (session=\"1be792ef318ec740cd25c285cd7f6ca6\", element=\"21481b5e-09d9-4eb4-9ef2-433378caf10e\")>]"
      ]
     },
     "execution_count": 237,
     "metadata": {},
     "output_type": "execute_result"
    }
   ],
   "source": [
    "days=driver.find_elements_by_xpath(\"//div[@class='d-flex align-items-end pl-std css-mi55ob']\")\n",
    "days"
   ]
  },
  {
   "cell_type": "code",
   "execution_count": 238,
   "metadata": {},
   "outputs": [
    {
     "data": {
      "text/plain": [
       "['1d', '6d', '24h', '1d', '7d', '5d', '27d', '12d', '26d', '20d']"
      ]
     },
     "execution_count": 238,
     "metadata": {},
     "output_type": "execute_result"
    }
   ],
   "source": [
    "Days=[]\n",
    "for i in days:\n",
    "    Days.append(i.text)\n",
    "Days[:10]"
   ]
  },
  {
   "cell_type": "code",
   "execution_count": 239,
   "metadata": {
    "scrolled": true
   },
   "outputs": [
    {
     "data": {
      "text/plain": [
       "[<selenium.webdriver.remote.webelement.WebElement (session=\"1be792ef318ec740cd25c285cd7f6ca6\", element=\"a7089b01-a099-4b46-8178-9d7432bc37f3\")>,\n",
       " <selenium.webdriver.remote.webelement.WebElement (session=\"1be792ef318ec740cd25c285cd7f6ca6\", element=\"8ec900d9-717d-4204-b086-9226d778694d\")>,\n",
       " <selenium.webdriver.remote.webelement.WebElement (session=\"1be792ef318ec740cd25c285cd7f6ca6\", element=\"ba48d420-71f9-41fd-b04f-5199a80c0f6a\")>,\n",
       " <selenium.webdriver.remote.webelement.WebElement (session=\"1be792ef318ec740cd25c285cd7f6ca6\", element=\"a3f714bd-4cd2-4caf-b546-570be585bc3f\")>,\n",
       " <selenium.webdriver.remote.webelement.WebElement (session=\"1be792ef318ec740cd25c285cd7f6ca6\", element=\"46c5676e-5507-4e13-8b8c-7823ff8c3bda\")>,\n",
       " <selenium.webdriver.remote.webelement.WebElement (session=\"1be792ef318ec740cd25c285cd7f6ca6\", element=\"2ce564ff-2e95-4041-beb6-6c9cd1691f2f\")>,\n",
       " <selenium.webdriver.remote.webelement.WebElement (session=\"1be792ef318ec740cd25c285cd7f6ca6\", element=\"05f19ef6-7400-4308-aac4-1147bd9661cb\")>,\n",
       " <selenium.webdriver.remote.webelement.WebElement (session=\"1be792ef318ec740cd25c285cd7f6ca6\", element=\"1bc97ea2-8768-447f-bea3-5618c59ee66b\")>,\n",
       " <selenium.webdriver.remote.webelement.WebElement (session=\"1be792ef318ec740cd25c285cd7f6ca6\", element=\"9a968f3a-8b1b-4170-aa98-cdca5aee8dca\")>,\n",
       " <selenium.webdriver.remote.webelement.WebElement (session=\"1be792ef318ec740cd25c285cd7f6ca6\", element=\"dc2d39c6-3a61-4b85-a6af-a8113080b4de\")>,\n",
       " <selenium.webdriver.remote.webelement.WebElement (session=\"1be792ef318ec740cd25c285cd7f6ca6\", element=\"85f9cdf3-411b-4197-9fb1-8fb8e97c7a59\")>,\n",
       " <selenium.webdriver.remote.webelement.WebElement (session=\"1be792ef318ec740cd25c285cd7f6ca6\", element=\"2591a997-a9bd-4a4a-a9a8-6d1dc09438db\")>,\n",
       " <selenium.webdriver.remote.webelement.WebElement (session=\"1be792ef318ec740cd25c285cd7f6ca6\", element=\"2741d6f6-6cf1-4d6c-a446-8750a1b1331d\")>,\n",
       " <selenium.webdriver.remote.webelement.WebElement (session=\"1be792ef318ec740cd25c285cd7f6ca6\", element=\"87c475fc-dedb-4e68-ac60-6afbc7372948\")>,\n",
       " <selenium.webdriver.remote.webelement.WebElement (session=\"1be792ef318ec740cd25c285cd7f6ca6\", element=\"13141fc9-cae7-4925-a944-1d3ca75ae128\")>,\n",
       " <selenium.webdriver.remote.webelement.WebElement (session=\"1be792ef318ec740cd25c285cd7f6ca6\", element=\"0bd06592-f0a2-4997-9541-a3365f7c2610\")>,\n",
       " <selenium.webdriver.remote.webelement.WebElement (session=\"1be792ef318ec740cd25c285cd7f6ca6\", element=\"4b167604-c7c4-4c08-9a27-b1c0492fcd26\")>,\n",
       " <selenium.webdriver.remote.webelement.WebElement (session=\"1be792ef318ec740cd25c285cd7f6ca6\", element=\"ec452a9b-6e9b-4cae-81ad-366548a6cb31\")>,\n",
       " <selenium.webdriver.remote.webelement.WebElement (session=\"1be792ef318ec740cd25c285cd7f6ca6\", element=\"1bb6bba1-ed48-463e-8470-e469d06c1e1e\")>,\n",
       " <selenium.webdriver.remote.webelement.WebElement (session=\"1be792ef318ec740cd25c285cd7f6ca6\", element=\"64277749-d8ad-4da6-8336-16e0708bedcd\")>,\n",
       " <selenium.webdriver.remote.webelement.WebElement (session=\"1be792ef318ec740cd25c285cd7f6ca6\", element=\"e6669ce1-8a4e-47c8-bd55-fe39ddf724b3\")>,\n",
       " <selenium.webdriver.remote.webelement.WebElement (session=\"1be792ef318ec740cd25c285cd7f6ca6\", element=\"f3d3a8f6-cacf-4da1-bac5-f90d7c398f88\")>,\n",
       " <selenium.webdriver.remote.webelement.WebElement (session=\"1be792ef318ec740cd25c285cd7f6ca6\", element=\"2d63a0c2-3829-4716-bcb8-eaa91dd2882f\")>,\n",
       " <selenium.webdriver.remote.webelement.WebElement (session=\"1be792ef318ec740cd25c285cd7f6ca6\", element=\"21a968c9-ed3a-4535-b390-4aa2c8dc3cfc\")>,\n",
       " <selenium.webdriver.remote.webelement.WebElement (session=\"1be792ef318ec740cd25c285cd7f6ca6\", element=\"a553a790-5f75-419f-889e-99f45aaf304d\")>]"
      ]
     },
     "execution_count": 239,
     "metadata": {},
     "output_type": "execute_result"
    }
   ],
   "source": [
    "rating=driver.find_elements_by_xpath(\"//span[@class='css-19pjha7 e1cjmv6j1']\")\n",
    "rating"
   ]
  },
  {
   "cell_type": "code",
   "execution_count": 240,
   "metadata": {},
   "outputs": [
    {
     "data": {
      "text/plain": [
       "['4.1',\n",
       " '4.3',\n",
       " '4.4',\n",
       " '3.8',\n",
       " '3.0',\n",
       " '3.6',\n",
       " '3.9',\n",
       " '5.0',\n",
       " '3.7',\n",
       " '4.2',\n",
       " '4.8',\n",
       " '3.9',\n",
       " '3.8',\n",
       " '5.0',\n",
       " '3.1',\n",
       " '4.4',\n",
       " '4.2',\n",
       " '3.0',\n",
       " '3.9',\n",
       " '4.2',\n",
       " '4.5',\n",
       " '3.8',\n",
       " '4.1',\n",
       " '4.0',\n",
       " '4.1']"
      ]
     },
     "execution_count": 240,
     "metadata": {},
     "output_type": "execute_result"
    }
   ],
   "source": [
    "Rating=[]\n",
    "for i in rating:\n",
    "    Rating.append(i.text)\n",
    "Rating"
   ]
  },
  {
   "cell_type": "code",
   "execution_count": 241,
   "metadata": {},
   "outputs": [
    {
     "data": {
      "text/html": [
       "<div>\n",
       "<style scoped>\n",
       "    .dataframe tbody tr th:only-of-type {\n",
       "        vertical-align: middle;\n",
       "    }\n",
       "\n",
       "    .dataframe tbody tr th {\n",
       "        vertical-align: top;\n",
       "    }\n",
       "\n",
       "    .dataframe thead th {\n",
       "        text-align: right;\n",
       "    }\n",
       "</style>\n",
       "<table border=\"1\" class=\"dataframe\">\n",
       "  <thead>\n",
       "    <tr style=\"text-align: right;\">\n",
       "      <th></th>\n",
       "      <th>Company_name</th>\n",
       "      <th>No. of Days Ago</th>\n",
       "      <th>Rating</th>\n",
       "    </tr>\n",
       "  </thead>\n",
       "  <tbody>\n",
       "    <tr>\n",
       "      <th>0</th>\n",
       "      <td>Ericsson-Worldwide</td>\n",
       "      <td>1d</td>\n",
       "      <td>4.1</td>\n",
       "    </tr>\n",
       "    <tr>\n",
       "      <th>1</th>\n",
       "      <td>Elsevier</td>\n",
       "      <td>6d</td>\n",
       "      <td>4.3</td>\n",
       "    </tr>\n",
       "    <tr>\n",
       "      <th>2</th>\n",
       "      <td>Adobe</td>\n",
       "      <td>24h</td>\n",
       "      <td>4.4</td>\n",
       "    </tr>\n",
       "    <tr>\n",
       "      <th>3</th>\n",
       "      <td>Biz2Credit Inc</td>\n",
       "      <td>1d</td>\n",
       "      <td>3.8</td>\n",
       "    </tr>\n",
       "    <tr>\n",
       "      <th>4</th>\n",
       "      <td>xtLytics</td>\n",
       "      <td>7d</td>\n",
       "      <td>3.0</td>\n",
       "    </tr>\n",
       "    <tr>\n",
       "      <th>5</th>\n",
       "      <td>Salasar New Age Technologies</td>\n",
       "      <td>5d</td>\n",
       "      <td>3.6</td>\n",
       "    </tr>\n",
       "    <tr>\n",
       "      <th>6</th>\n",
       "      <td>UnitedHealth Group</td>\n",
       "      <td>27d</td>\n",
       "      <td>3.9</td>\n",
       "    </tr>\n",
       "    <tr>\n",
       "      <th>7</th>\n",
       "      <td>Dürr Somac GmbH</td>\n",
       "      <td>12d</td>\n",
       "      <td>5.0</td>\n",
       "    </tr>\n",
       "    <tr>\n",
       "      <th>8</th>\n",
       "      <td>Srijan Technologies Pvt Ltd</td>\n",
       "      <td>26d</td>\n",
       "      <td>3.7</td>\n",
       "    </tr>\n",
       "    <tr>\n",
       "      <th>9</th>\n",
       "      <td>itForte</td>\n",
       "      <td>20d</td>\n",
       "      <td>4.2</td>\n",
       "    </tr>\n",
       "  </tbody>\n",
       "</table>\n",
       "</div>"
      ],
      "text/plain": [
       "                   Company_name No. of Days Ago Rating\n",
       "0            Ericsson-Worldwide              1d    4.1\n",
       "1                      Elsevier              6d    4.3\n",
       "2                         Adobe             24h    4.4\n",
       "3                Biz2Credit Inc              1d    3.8\n",
       "4                      xtLytics              7d    3.0\n",
       "5  Salasar New Age Technologies              5d    3.6\n",
       "6            UnitedHealth Group             27d    3.9\n",
       "7               Dürr Somac GmbH             12d    5.0\n",
       "8   Srijan Technologies Pvt Ltd             26d    3.7\n",
       "9                       itForte             20d    4.2"
      ]
     },
     "execution_count": 241,
     "metadata": {},
     "output_type": "execute_result"
    }
   ],
   "source": [
    "df=pd.DataFrame({})\n",
    "df['Company_name']=Company[:10]\n",
    "df['No. of Days Ago']=Days[:10]\n",
    "df['Rating']=Rating[:10]\n",
    "df"
   ]
  },
  {
   "cell_type": "code",
   "execution_count": null,
   "metadata": {},
   "outputs": [],
   "source": []
  },
  {
   "cell_type": "markdown",
   "metadata": {},
   "source": [
    "# Q.No. 5 Glassdoor salaries"
   ]
  },
  {
   "cell_type": "code",
   "execution_count": 243,
   "metadata": {},
   "outputs": [],
   "source": [
    "driver.get('https://www.glassdoor.co.in/Salaries/index.htm')"
   ]
  },
  {
   "cell_type": "code",
   "execution_count": 244,
   "metadata": {},
   "outputs": [],
   "source": [
    "#finding element for jon search bar\n",
    "search_job=driver.find_element_by_id('KeywordSearch')\n",
    "search_job.send_keys(\"Data Scientist\")\n",
    "search_loc=driver.find_element_by_id('LocationSearch')\n",
    "search_loc.send_keys(\"Noida\")"
   ]
  },
  {
   "cell_type": "code",
   "execution_count": 262,
   "metadata": {},
   "outputs": [],
   "source": [
    "search_btn = driver.find_element_by_xpath(\"//button[@class='gd-btn-mkt']\")\n",
    "search_btn.click()"
   ]
  },
  {
   "cell_type": "markdown",
   "metadata": {},
   "source": [
    "Searching the results by using search button"
   ]
  },
  {
   "cell_type": "code",
   "execution_count": 263,
   "metadata": {
    "scrolled": true
   },
   "outputs": [
    {
     "data": {
      "text/plain": [
       "[<selenium.webdriver.remote.webelement.WebElement (session=\"1be792ef318ec740cd25c285cd7f6ca6\", element=\"cf4aa89c-b6d7-4174-afc4-e7400fcd9847\")>,\n",
       " <selenium.webdriver.remote.webelement.WebElement (session=\"1be792ef318ec740cd25c285cd7f6ca6\", element=\"7d100e47-e090-4f4e-9b90-330c8e500103\")>,\n",
       " <selenium.webdriver.remote.webelement.WebElement (session=\"1be792ef318ec740cd25c285cd7f6ca6\", element=\"2ef89261-5883-4ab7-853c-6377c1ecbf13\")>,\n",
       " <selenium.webdriver.remote.webelement.WebElement (session=\"1be792ef318ec740cd25c285cd7f6ca6\", element=\"c883bdf6-f748-472a-b35c-d7beb10de4a7\")>,\n",
       " <selenium.webdriver.remote.webelement.WebElement (session=\"1be792ef318ec740cd25c285cd7f6ca6\", element=\"64b73e26-0c76-4368-b9d3-26a490ef3f60\")>,\n",
       " <selenium.webdriver.remote.webelement.WebElement (session=\"1be792ef318ec740cd25c285cd7f6ca6\", element=\"7f90e992-3032-4ee4-834c-7e627f8962a0\")>,\n",
       " <selenium.webdriver.remote.webelement.WebElement (session=\"1be792ef318ec740cd25c285cd7f6ca6\", element=\"ec506d4a-1a8a-41d2-9f6f-a73b33f8c9a0\")>,\n",
       " <selenium.webdriver.remote.webelement.WebElement (session=\"1be792ef318ec740cd25c285cd7f6ca6\", element=\"2c369bfe-9f25-4890-9a24-fcb5f059b2e7\")>,\n",
       " <selenium.webdriver.remote.webelement.WebElement (session=\"1be792ef318ec740cd25c285cd7f6ca6\", element=\"21ea45b5-9820-4fe7-a399-0e63b2bbb52b\")>,\n",
       " <selenium.webdriver.remote.webelement.WebElement (session=\"1be792ef318ec740cd25c285cd7f6ca6\", element=\"15d17816-71aa-4b85-95d1-a672cdcce724\")>,\n",
       " <selenium.webdriver.remote.webelement.WebElement (session=\"1be792ef318ec740cd25c285cd7f6ca6\", element=\"cfce9c0b-c0cd-41e6-8872-e438ab0f1344\")>,\n",
       " <selenium.webdriver.remote.webelement.WebElement (session=\"1be792ef318ec740cd25c285cd7f6ca6\", element=\"08e4dc32-969a-41b7-8f00-71fbad744362\")>,\n",
       " <selenium.webdriver.remote.webelement.WebElement (session=\"1be792ef318ec740cd25c285cd7f6ca6\", element=\"d33494fe-c46a-480a-99a1-c5fb1c41f432\")>,\n",
       " <selenium.webdriver.remote.webelement.WebElement (session=\"1be792ef318ec740cd25c285cd7f6ca6\", element=\"33ca45eb-30a5-4403-8875-a58b2955a4b0\")>,\n",
       " <selenium.webdriver.remote.webelement.WebElement (session=\"1be792ef318ec740cd25c285cd7f6ca6\", element=\"4c5da7a2-e105-4c27-b997-db9e08f07678\")>,\n",
       " <selenium.webdriver.remote.webelement.WebElement (session=\"1be792ef318ec740cd25c285cd7f6ca6\", element=\"d34f6661-0cd3-400f-a1fe-95be2eb79c5e\")>,\n",
       " <selenium.webdriver.remote.webelement.WebElement (session=\"1be792ef318ec740cd25c285cd7f6ca6\", element=\"8464c959-214a-4651-8a6d-5b3f9a958cc2\")>,\n",
       " <selenium.webdriver.remote.webelement.WebElement (session=\"1be792ef318ec740cd25c285cd7f6ca6\", element=\"c6b61653-7921-480a-8368-160ac0230e6e\")>,\n",
       " <selenium.webdriver.remote.webelement.WebElement (session=\"1be792ef318ec740cd25c285cd7f6ca6\", element=\"52ac4b29-d183-45e2-ae20-cdb47cd8970a\")>,\n",
       " <selenium.webdriver.remote.webelement.WebElement (session=\"1be792ef318ec740cd25c285cd7f6ca6\", element=\"cc7a3f09-c671-4d0c-b6fb-193e9b2dfd3d\")>]"
      ]
     },
     "execution_count": 263,
     "metadata": {},
     "output_type": "execute_result"
    }
   ],
   "source": [
    "co_name=driver.find_elements_by_xpath(\"//p[@class='m-0 ']\")\n",
    "co_name"
   ]
  },
  {
   "cell_type": "code",
   "execution_count": 264,
   "metadata": {},
   "outputs": [
    {
     "data": {
      "text/plain": [
       "['Tata Consultancy Services',\n",
       " 'Accenture',\n",
       " 'Delhivery',\n",
       " 'IBM',\n",
       " 'Ericsson-Worldwide',\n",
       " 'UnitedHealth Group',\n",
       " 'Valiance Solutions',\n",
       " 'Innovaccer',\n",
       " 'ZS Associates',\n",
       " 'EXL Service']"
      ]
     },
     "execution_count": 264,
     "metadata": {},
     "output_type": "execute_result"
    }
   ],
   "source": [
    "Company=[]\n",
    "for i in co_name:\n",
    "    Company.append(i.text)\n",
    "Company[:10]"
   ]
  },
  {
   "cell_type": "code",
   "execution_count": 265,
   "metadata": {
    "scrolled": true
   },
   "outputs": [
    {
     "data": {
      "text/plain": [
       "[<selenium.webdriver.remote.webelement.WebElement (session=\"1be792ef318ec740cd25c285cd7f6ca6\", element=\"34e1466f-0342-491b-b96d-5d9db023fc6b\")>,\n",
       " <selenium.webdriver.remote.webelement.WebElement (session=\"1be792ef318ec740cd25c285cd7f6ca6\", element=\"66cc3854-6418-483c-b35b-ea5f601707b9\")>,\n",
       " <selenium.webdriver.remote.webelement.WebElement (session=\"1be792ef318ec740cd25c285cd7f6ca6\", element=\"eabfa0d8-3710-40db-94e1-3ff3d457b13a\")>,\n",
       " <selenium.webdriver.remote.webelement.WebElement (session=\"1be792ef318ec740cd25c285cd7f6ca6\", element=\"8c047b2a-1143-4b66-965a-f133c0563f08\")>,\n",
       " <selenium.webdriver.remote.webelement.WebElement (session=\"1be792ef318ec740cd25c285cd7f6ca6\", element=\"2fbc4aca-2d17-4835-9ad8-dc453dbc394d\")>,\n",
       " <selenium.webdriver.remote.webelement.WebElement (session=\"1be792ef318ec740cd25c285cd7f6ca6\", element=\"9433e0d7-ccee-4f9f-ad78-0a3bbb925c77\")>,\n",
       " <selenium.webdriver.remote.webelement.WebElement (session=\"1be792ef318ec740cd25c285cd7f6ca6\", element=\"e04b7943-ca48-4c9c-89ba-0f7ae2559604\")>,\n",
       " <selenium.webdriver.remote.webelement.WebElement (session=\"1be792ef318ec740cd25c285cd7f6ca6\", element=\"6ba2dbbc-8792-4082-9a73-be9cd29cdea1\")>,\n",
       " <selenium.webdriver.remote.webelement.WebElement (session=\"1be792ef318ec740cd25c285cd7f6ca6\", element=\"e824eaa9-2066-4605-a7ba-ee3ed3b9bb54\")>,\n",
       " <selenium.webdriver.remote.webelement.WebElement (session=\"1be792ef318ec740cd25c285cd7f6ca6\", element=\"95f96d37-9ea6-4c29-b972-edcd6bcddbeb\")>,\n",
       " <selenium.webdriver.remote.webelement.WebElement (session=\"1be792ef318ec740cd25c285cd7f6ca6\", element=\"c2659646-1aea-4c0a-a61b-1111f769502d\")>,\n",
       " <selenium.webdriver.remote.webelement.WebElement (session=\"1be792ef318ec740cd25c285cd7f6ca6\", element=\"92319ba4-08b7-46ef-954c-2533f551254d\")>,\n",
       " <selenium.webdriver.remote.webelement.WebElement (session=\"1be792ef318ec740cd25c285cd7f6ca6\", element=\"cf2cdfe0-6961-4407-a213-d566cbe204f6\")>,\n",
       " <selenium.webdriver.remote.webelement.WebElement (session=\"1be792ef318ec740cd25c285cd7f6ca6\", element=\"8a88e563-e1b8-4bb7-a5e5-f5166a90b0b4\")>,\n",
       " <selenium.webdriver.remote.webelement.WebElement (session=\"1be792ef318ec740cd25c285cd7f6ca6\", element=\"4f31263a-37f3-49e0-81f3-2df1155ac713\")>,\n",
       " <selenium.webdriver.remote.webelement.WebElement (session=\"1be792ef318ec740cd25c285cd7f6ca6\", element=\"b0dc89cf-083b-4f93-95ab-bb1e0e3b0cb2\")>,\n",
       " <selenium.webdriver.remote.webelement.WebElement (session=\"1be792ef318ec740cd25c285cd7f6ca6\", element=\"53e6fa07-1989-426b-a3f3-04456870a687\")>,\n",
       " <selenium.webdriver.remote.webelement.WebElement (session=\"1be792ef318ec740cd25c285cd7f6ca6\", element=\"c076e74a-8433-403e-8618-86f5cff9926e\")>,\n",
       " <selenium.webdriver.remote.webelement.WebElement (session=\"1be792ef318ec740cd25c285cd7f6ca6\", element=\"d23abd6e-adb7-42ad-b930-46eddcc54b16\")>,\n",
       " <selenium.webdriver.remote.webelement.WebElement (session=\"1be792ef318ec740cd25c285cd7f6ca6\", element=\"f1071f3c-8acd-4826-84ca-c9bcae9ad9d6\")>]"
      ]
     },
     "execution_count": 265,
     "metadata": {},
     "output_type": "execute_result"
    }
   ],
   "source": [
    "salaries=driver.find_elements_by_xpath(\"//p[@class='css-1uyte9r css-1kuy7z7 m-0 ']\")\n",
    "salaries"
   ]
  },
  {
   "cell_type": "code",
   "execution_count": 266,
   "metadata": {},
   "outputs": [
    {
     "data": {
      "text/plain": [
       "['14 salaries',\n",
       " '14 salaries',\n",
       " '14 salaries',\n",
       " '13 salaries',\n",
       " '12 salaries',\n",
       " '10 salaries',\n",
       " '9 salaries',\n",
       " '8 salaries',\n",
       " '7 salaries',\n",
       " '7 salaries']"
      ]
     },
     "execution_count": 266,
     "metadata": {},
     "output_type": "execute_result"
    }
   ],
   "source": [
    "Salaries=[]\n",
    "for i in salaries:\n",
    "    Salaries.append(i.text)\n",
    "Salaries[:10]"
   ]
  },
  {
   "cell_type": "code",
   "execution_count": 267,
   "metadata": {
    "scrolled": true
   },
   "outputs": [
    {
     "data": {
      "text/plain": [
       "[<selenium.webdriver.remote.webelement.WebElement (session=\"1be792ef318ec740cd25c285cd7f6ca6\", element=\"c453319a-c1a8-4df0-b4bd-ef1de805c3ce\")>,\n",
       " <selenium.webdriver.remote.webelement.WebElement (session=\"1be792ef318ec740cd25c285cd7f6ca6\", element=\"3fa7b1c5-4ff5-4f41-b958-8452090f9551\")>,\n",
       " <selenium.webdriver.remote.webelement.WebElement (session=\"1be792ef318ec740cd25c285cd7f6ca6\", element=\"73a31109-6b34-4d97-bd90-a159b82baa5f\")>,\n",
       " <selenium.webdriver.remote.webelement.WebElement (session=\"1be792ef318ec740cd25c285cd7f6ca6\", element=\"1c89f4c6-ab0d-4d81-90b6-799e4d9b72ce\")>,\n",
       " <selenium.webdriver.remote.webelement.WebElement (session=\"1be792ef318ec740cd25c285cd7f6ca6\", element=\"0251997b-3028-4e64-82d2-851f323244ab\")>,\n",
       " <selenium.webdriver.remote.webelement.WebElement (session=\"1be792ef318ec740cd25c285cd7f6ca6\", element=\"38c93a01-f001-4558-90b5-6c022c809284\")>,\n",
       " <selenium.webdriver.remote.webelement.WebElement (session=\"1be792ef318ec740cd25c285cd7f6ca6\", element=\"ce6fac88-2332-45e2-8aa6-9ad2002c4034\")>,\n",
       " <selenium.webdriver.remote.webelement.WebElement (session=\"1be792ef318ec740cd25c285cd7f6ca6\", element=\"69d07f05-8555-43f9-a898-2bff3febdcc4\")>,\n",
       " <selenium.webdriver.remote.webelement.WebElement (session=\"1be792ef318ec740cd25c285cd7f6ca6\", element=\"2a40a4f9-a0d1-44c7-9a37-bbe77d4aacf1\")>,\n",
       " <selenium.webdriver.remote.webelement.WebElement (session=\"1be792ef318ec740cd25c285cd7f6ca6\", element=\"423721a0-45db-4fd9-88db-dcf0bef47cb6\")>,\n",
       " <selenium.webdriver.remote.webelement.WebElement (session=\"1be792ef318ec740cd25c285cd7f6ca6\", element=\"9462881c-abe6-4540-9260-a3d19e8f704e\")>,\n",
       " <selenium.webdriver.remote.webelement.WebElement (session=\"1be792ef318ec740cd25c285cd7f6ca6\", element=\"c2abfa4e-ad10-4a4c-86af-73146cf47562\")>,\n",
       " <selenium.webdriver.remote.webelement.WebElement (session=\"1be792ef318ec740cd25c285cd7f6ca6\", element=\"437aa470-20f8-41ad-943d-9734bc339d90\")>,\n",
       " <selenium.webdriver.remote.webelement.WebElement (session=\"1be792ef318ec740cd25c285cd7f6ca6\", element=\"28848ef9-4c8a-485d-ada9-495dcace07ba\")>,\n",
       " <selenium.webdriver.remote.webelement.WebElement (session=\"1be792ef318ec740cd25c285cd7f6ca6\", element=\"893e1670-75f9-4840-84f1-db0fec8cd88d\")>,\n",
       " <selenium.webdriver.remote.webelement.WebElement (session=\"1be792ef318ec740cd25c285cd7f6ca6\", element=\"cbcce79f-50d4-4384-9120-18b47ab81b9f\")>,\n",
       " <selenium.webdriver.remote.webelement.WebElement (session=\"1be792ef318ec740cd25c285cd7f6ca6\", element=\"c8796579-3564-4d83-8b7a-dd8555c18c4e\")>,\n",
       " <selenium.webdriver.remote.webelement.WebElement (session=\"1be792ef318ec740cd25c285cd7f6ca6\", element=\"8cb80ec8-7992-4b27-8d7b-5e0e15d5e397\")>,\n",
       " <selenium.webdriver.remote.webelement.WebElement (session=\"1be792ef318ec740cd25c285cd7f6ca6\", element=\"a2b34fee-1f40-49d8-a3fa-2512eb243839\")>,\n",
       " <selenium.webdriver.remote.webelement.WebElement (session=\"1be792ef318ec740cd25c285cd7f6ca6\", element=\"653dda43-d9d3-4196-b264-14691b8ca775\")>]"
      ]
     },
     "execution_count": 267,
     "metadata": {},
     "output_type": "execute_result"
    }
   ],
   "source": [
    "avg_sal=driver.find_elements_by_xpath(\"//div[@class='col-2 d-none d-md-flex flex-row justify-content-end']\")\n",
    "avg_sal"
   ]
  },
  {
   "cell_type": "code",
   "execution_count": 305,
   "metadata": {},
   "outputs": [
    {
     "data": {
      "text/plain": [
       "['₹ 6,01,000/yr',\n",
       " '₹ 11,51,207/yr',\n",
       " '₹ 12,34,207/yr',\n",
       " '₹ 7,63,825/yr',\n",
       " '₹ 7,32,209/yr',\n",
       " '₹ 13,88,910/yr',\n",
       " '₹ 8,18,515/yr',\n",
       " '₹ 12,01,403/yr',\n",
       " '₹ 10,00,000/yr',\n",
       " '₹ 11,90,000/yr']"
      ]
     },
     "execution_count": 305,
     "metadata": {},
     "output_type": "execute_result"
    }
   ],
   "source": [
    "Avg_Salaries=[]\n",
    "for i in avg_sal:\n",
    "    Avg_Salaries.append(i.text.replace('\\n',''))\n",
    "Avg_Salaries[:10]"
   ]
  },
  {
   "cell_type": "code",
   "execution_count": 269,
   "metadata": {
    "scrolled": true
   },
   "outputs": [
    {
     "data": {
      "text/plain": [
       "[<selenium.webdriver.remote.webelement.WebElement (session=\"1be792ef318ec740cd25c285cd7f6ca6\", element=\"badcef87-cbe6-4e0e-bb0f-5f6645963b17\")>,\n",
       " <selenium.webdriver.remote.webelement.WebElement (session=\"1be792ef318ec740cd25c285cd7f6ca6\", element=\"20a780ec-cdd8-4f8d-8461-d9f7d2bf460f\")>,\n",
       " <selenium.webdriver.remote.webelement.WebElement (session=\"1be792ef318ec740cd25c285cd7f6ca6\", element=\"b656d184-a787-41b7-a218-edd90ed04b3d\")>,\n",
       " <selenium.webdriver.remote.webelement.WebElement (session=\"1be792ef318ec740cd25c285cd7f6ca6\", element=\"a4c71841-8e72-43e7-8c93-1b159d91d32b\")>,\n",
       " <selenium.webdriver.remote.webelement.WebElement (session=\"1be792ef318ec740cd25c285cd7f6ca6\", element=\"eda9a864-c3c3-481b-bfe0-bd7d32ef64a0\")>,\n",
       " <selenium.webdriver.remote.webelement.WebElement (session=\"1be792ef318ec740cd25c285cd7f6ca6\", element=\"cf2702dd-b41a-4646-a0fd-fec42cc09b02\")>,\n",
       " <selenium.webdriver.remote.webelement.WebElement (session=\"1be792ef318ec740cd25c285cd7f6ca6\", element=\"4c9beb7a-836d-40e9-a2cd-96f18178727b\")>,\n",
       " <selenium.webdriver.remote.webelement.WebElement (session=\"1be792ef318ec740cd25c285cd7f6ca6\", element=\"acf1e836-3c8e-4477-9833-88a1621c6764\")>,\n",
       " <selenium.webdriver.remote.webelement.WebElement (session=\"1be792ef318ec740cd25c285cd7f6ca6\", element=\"7f8de4a8-9869-4dd0-96be-cb1bf7f2c682\")>,\n",
       " <selenium.webdriver.remote.webelement.WebElement (session=\"1be792ef318ec740cd25c285cd7f6ca6\", element=\"4f74e07c-819f-43d8-af56-022cf7771ba8\")>,\n",
       " <selenium.webdriver.remote.webelement.WebElement (session=\"1be792ef318ec740cd25c285cd7f6ca6\", element=\"2811d6b7-7bbe-4765-98be-f9aac9588928\")>,\n",
       " <selenium.webdriver.remote.webelement.WebElement (session=\"1be792ef318ec740cd25c285cd7f6ca6\", element=\"bc04ddc6-43c2-43a4-bdc9-188da65f9df3\")>,\n",
       " <selenium.webdriver.remote.webelement.WebElement (session=\"1be792ef318ec740cd25c285cd7f6ca6\", element=\"b70ca9ed-e0c3-46b1-bbda-6a7ae0c11a49\")>,\n",
       " <selenium.webdriver.remote.webelement.WebElement (session=\"1be792ef318ec740cd25c285cd7f6ca6\", element=\"02220b13-bdf0-4048-8260-f81eeaa0ca80\")>,\n",
       " <selenium.webdriver.remote.webelement.WebElement (session=\"1be792ef318ec740cd25c285cd7f6ca6\", element=\"2cb77441-08dc-427b-87c0-483da9737629\")>,\n",
       " <selenium.webdriver.remote.webelement.WebElement (session=\"1be792ef318ec740cd25c285cd7f6ca6\", element=\"bdac9aff-c8fa-4043-ab1e-3f0713f577bc\")>,\n",
       " <selenium.webdriver.remote.webelement.WebElement (session=\"1be792ef318ec740cd25c285cd7f6ca6\", element=\"884a31af-2e90-4267-a5f3-e2f0fe0efb5c\")>,\n",
       " <selenium.webdriver.remote.webelement.WebElement (session=\"1be792ef318ec740cd25c285cd7f6ca6\", element=\"a282b44f-66f2-4f6e-a263-9756b19d60c7\")>,\n",
       " <selenium.webdriver.remote.webelement.WebElement (session=\"1be792ef318ec740cd25c285cd7f6ca6\", element=\"59c0f631-39b6-44b7-8327-43fae8fc04e2\")>,\n",
       " <selenium.webdriver.remote.webelement.WebElement (session=\"1be792ef318ec740cd25c285cd7f6ca6\", element=\"30bd1ce5-ee38-4bde-8823-6ef5771231c9\")>]"
      ]
     },
     "execution_count": 269,
     "metadata": {},
     "output_type": "execute_result"
    }
   ],
   "source": [
    "min_sal=driver.find_elements_by_xpath(\"//div[@class='common__RangeBarStyle__values d-flex justify-content-between ']\")\n",
    "min_sal"
   ]
  },
  {
   "cell_type": "code",
   "execution_count": 300,
   "metadata": {},
   "outputs": [
    {
     "data": {
      "text/plain": [
       "['₹336L',\n",
       " '₹579L',\n",
       " '₹452L',\n",
       " '₹589L',\n",
       " '₹350L',\n",
       " '₹1,050L',\n",
       " '₹504L',\n",
       " '₹623L',\n",
       " '₹203L',\n",
       " '₹578L']"
      ]
     },
     "execution_count": 300,
     "metadata": {},
     "output_type": "execute_result"
    }
   ],
   "source": [
    "Min_Salaries=[]\n",
    "for i in min_sal:\n",
    "    Min_Salaries.append(i.text.split('\\n',1)[0])\n",
    "Min_Salaries[:10]"
   ]
  },
  {
   "cell_type": "code",
   "execution_count": 303,
   "metadata": {},
   "outputs": [
    {
     "data": {
      "text/plain": [
       "['₹1,080L',\n",
       " '₹2,222L',\n",
       " '₹11,669L',\n",
       " '₹2,741L',\n",
       " '₹1,619L',\n",
       " '₹1,500L',\n",
       " '₹1,471L',\n",
       " '₹1,702L',\n",
       " '₹1,817L',\n",
       " '₹1,500L']"
      ]
     },
     "execution_count": 303,
     "metadata": {},
     "output_type": "execute_result"
    }
   ],
   "source": [
    "Max_Salaries=[]\n",
    "for i in min_sal:\n",
    "    Max_Salaries.append(i.text.split('\\n',1)[1])\n",
    "Max_Salaries[:10]"
   ]
  },
  {
   "cell_type": "code",
   "execution_count": 306,
   "metadata": {},
   "outputs": [
    {
     "data": {
      "text/html": [
       "<div>\n",
       "<style scoped>\n",
       "    .dataframe tbody tr th:only-of-type {\n",
       "        vertical-align: middle;\n",
       "    }\n",
       "\n",
       "    .dataframe tbody tr th {\n",
       "        vertical-align: top;\n",
       "    }\n",
       "\n",
       "    .dataframe thead th {\n",
       "        text-align: right;\n",
       "    }\n",
       "</style>\n",
       "<table border=\"1\" class=\"dataframe\">\n",
       "  <thead>\n",
       "    <tr style=\"text-align: right;\">\n",
       "      <th></th>\n",
       "      <th>Company_name</th>\n",
       "      <th>Salaries</th>\n",
       "      <th>Avg_Salaries</th>\n",
       "      <th>Min_Salaries</th>\n",
       "      <th>Max_Salaries</th>\n",
       "    </tr>\n",
       "  </thead>\n",
       "  <tbody>\n",
       "    <tr>\n",
       "      <th>0</th>\n",
       "      <td>Tata Consultancy Services</td>\n",
       "      <td>14 salaries</td>\n",
       "      <td>₹ 6,01,000/yr</td>\n",
       "      <td>₹336L</td>\n",
       "      <td>₹1,080L</td>\n",
       "    </tr>\n",
       "    <tr>\n",
       "      <th>1</th>\n",
       "      <td>Accenture</td>\n",
       "      <td>14 salaries</td>\n",
       "      <td>₹ 11,51,207/yr</td>\n",
       "      <td>₹579L</td>\n",
       "      <td>₹2,222L</td>\n",
       "    </tr>\n",
       "    <tr>\n",
       "      <th>2</th>\n",
       "      <td>Delhivery</td>\n",
       "      <td>14 salaries</td>\n",
       "      <td>₹ 12,34,207/yr</td>\n",
       "      <td>₹452L</td>\n",
       "      <td>₹11,669L</td>\n",
       "    </tr>\n",
       "    <tr>\n",
       "      <th>3</th>\n",
       "      <td>IBM</td>\n",
       "      <td>13 salaries</td>\n",
       "      <td>₹ 7,63,825/yr</td>\n",
       "      <td>₹589L</td>\n",
       "      <td>₹2,741L</td>\n",
       "    </tr>\n",
       "    <tr>\n",
       "      <th>4</th>\n",
       "      <td>Ericsson-Worldwide</td>\n",
       "      <td>12 salaries</td>\n",
       "      <td>₹ 7,32,209/yr</td>\n",
       "      <td>₹350L</td>\n",
       "      <td>₹1,619L</td>\n",
       "    </tr>\n",
       "    <tr>\n",
       "      <th>5</th>\n",
       "      <td>UnitedHealth Group</td>\n",
       "      <td>10 salaries</td>\n",
       "      <td>₹ 13,88,910/yr</td>\n",
       "      <td>₹1,050L</td>\n",
       "      <td>₹1,500L</td>\n",
       "    </tr>\n",
       "    <tr>\n",
       "      <th>6</th>\n",
       "      <td>Valiance Solutions</td>\n",
       "      <td>9 salaries</td>\n",
       "      <td>₹ 8,18,515/yr</td>\n",
       "      <td>₹504L</td>\n",
       "      <td>₹1,471L</td>\n",
       "    </tr>\n",
       "    <tr>\n",
       "      <th>7</th>\n",
       "      <td>Innovaccer</td>\n",
       "      <td>8 salaries</td>\n",
       "      <td>₹ 12,01,403/yr</td>\n",
       "      <td>₹623L</td>\n",
       "      <td>₹1,702L</td>\n",
       "    </tr>\n",
       "    <tr>\n",
       "      <th>8</th>\n",
       "      <td>ZS Associates</td>\n",
       "      <td>7 salaries</td>\n",
       "      <td>₹ 10,00,000/yr</td>\n",
       "      <td>₹203L</td>\n",
       "      <td>₹1,817L</td>\n",
       "    </tr>\n",
       "    <tr>\n",
       "      <th>9</th>\n",
       "      <td>EXL Service</td>\n",
       "      <td>7 salaries</td>\n",
       "      <td>₹ 11,90,000/yr</td>\n",
       "      <td>₹578L</td>\n",
       "      <td>₹1,500L</td>\n",
       "    </tr>\n",
       "  </tbody>\n",
       "</table>\n",
       "</div>"
      ],
      "text/plain": [
       "                Company_name     Salaries    Avg_Salaries Min_Salaries  \\\n",
       "0  Tata Consultancy Services  14 salaries   ₹ 6,01,000/yr        ₹336L   \n",
       "1                  Accenture  14 salaries  ₹ 11,51,207/yr        ₹579L   \n",
       "2                  Delhivery  14 salaries  ₹ 12,34,207/yr        ₹452L   \n",
       "3                        IBM  13 salaries   ₹ 7,63,825/yr        ₹589L   \n",
       "4         Ericsson-Worldwide  12 salaries   ₹ 7,32,209/yr        ₹350L   \n",
       "5         UnitedHealth Group  10 salaries  ₹ 13,88,910/yr      ₹1,050L   \n",
       "6         Valiance Solutions   9 salaries   ₹ 8,18,515/yr        ₹504L   \n",
       "7                 Innovaccer   8 salaries  ₹ 12,01,403/yr        ₹623L   \n",
       "8              ZS Associates   7 salaries  ₹ 10,00,000/yr        ₹203L   \n",
       "9                EXL Service   7 salaries  ₹ 11,90,000/yr        ₹578L   \n",
       "\n",
       "  Max_Salaries  \n",
       "0      ₹1,080L  \n",
       "1      ₹2,222L  \n",
       "2     ₹11,669L  \n",
       "3      ₹2,741L  \n",
       "4      ₹1,619L  \n",
       "5      ₹1,500L  \n",
       "6      ₹1,471L  \n",
       "7      ₹1,702L  \n",
       "8      ₹1,817L  \n",
       "9      ₹1,500L  "
      ]
     },
     "execution_count": 306,
     "metadata": {},
     "output_type": "execute_result"
    }
   ],
   "source": [
    "df=pd.DataFrame({})\n",
    "df['Company_name']=Company[:10]\n",
    "df['Salaries']=Salaries[:10]\n",
    "df['Avg_Salaries']=Avg_Salaries[:10]\n",
    "df['Min_Salaries']=Min_Salaries[:10]\n",
    "df['Max_Salaries']=Max_Salaries[:10]\n",
    "df"
   ]
  },
  {
   "cell_type": "code",
   "execution_count": null,
   "metadata": {},
   "outputs": [],
   "source": []
  },
  {
   "cell_type": "markdown",
   "metadata": {},
   "source": [
    "# first 100 sunglasses listings on flipkart.com."
   ]
  },
  {
   "cell_type": "code",
   "execution_count": 348,
   "metadata": {},
   "outputs": [],
   "source": [
    "driver.get('https://www.flipkart.com/')"
   ]
  },
  {
   "cell_type": "code",
   "execution_count": 349,
   "metadata": {},
   "outputs": [],
   "source": [
    "#finding element for jon search bar\n",
    "search=driver.find_element_by_xpath(\"//input[@class='_3704LK']\")\n",
    "search.send_keys(\"Sunglasses\")\n"
   ]
  },
  {
   "cell_type": "code",
   "execution_count": 350,
   "metadata": {},
   "outputs": [],
   "source": [
    "search_btn = driver.find_element_by_xpath(\"//button[@class='L0Z3Pu']\")\n",
    "search_btn.click()\n"
   ]
  },
  {
   "cell_type": "markdown",
   "metadata": {},
   "source": [
    "Searching the results by using search button"
   ]
  },
  {
   "cell_type": "code",
   "execution_count": 351,
   "metadata": {},
   "outputs": [],
   "source": [
    "import time\n",
    "Brand=[]\n",
    "Product_Desc=[]\n",
    "Price=[]\n",
    "Discount=[]\n",
    "for i in range(0,3):\n",
    "    for j in driver.find_elements_by_xpath(\"//div[@class='_2WkVRV']\"):\n",
    "        Brand.append(j.text)\n",
    "    for k in driver.find_elements_by_xpath(\"//a[@class='IRpwTa']\"):\n",
    "        Product_Desc.append(k.text)\n",
    "    for l in driver.find_elements_by_xpath(\"//div[@class='_30jeq3']\"):\n",
    "        Price.append(l.text)\n",
    "    for m in driver.find_elements_by_xpath(\"//div[@class='_3Ay6Sb']\"):\n",
    "        Discount.append(m.text)\n",
    "    time.sleep(3)\n",
    "    url=driver.find_element_by_xpath(\"//a[@class='_1LKTO3']\").get_attribute(\"href\")\n",
    "    driver.get(url)"
   ]
  },
  {
   "cell_type": "code",
   "execution_count": 353,
   "metadata": {
    "collapsed": true,
    "jupyter": {
     "outputs_hidden": true
    }
   },
   "outputs": [
    {
     "data": {
      "text/html": [
       "<div>\n",
       "<style scoped>\n",
       "    .dataframe tbody tr th:only-of-type {\n",
       "        vertical-align: middle;\n",
       "    }\n",
       "\n",
       "    .dataframe tbody tr th {\n",
       "        vertical-align: top;\n",
       "    }\n",
       "\n",
       "    .dataframe thead th {\n",
       "        text-align: right;\n",
       "    }\n",
       "</style>\n",
       "<table border=\"1\" class=\"dataframe\">\n",
       "  <thead>\n",
       "    <tr style=\"text-align: right;\">\n",
       "      <th></th>\n",
       "      <th>Brand</th>\n",
       "      <th>Product_Desc</th>\n",
       "      <th>Price</th>\n",
       "      <th>Discount</th>\n",
       "    </tr>\n",
       "  </thead>\n",
       "  <tbody>\n",
       "    <tr>\n",
       "      <th>0</th>\n",
       "      <td>PIRASO</td>\n",
       "      <td>UV Protection Rectangular, Over-sized Sunglass...</td>\n",
       "      <td>₹449</td>\n",
       "      <td>85% off</td>\n",
       "    </tr>\n",
       "    <tr>\n",
       "      <th>1</th>\n",
       "      <td>PIRASO</td>\n",
       "      <td>UV Protection Aviator Sunglasses (54)</td>\n",
       "      <td>₹250</td>\n",
       "      <td>84% off</td>\n",
       "    </tr>\n",
       "    <tr>\n",
       "      <th>2</th>\n",
       "      <td>Fastrack</td>\n",
       "      <td>UV Protection Wayfarer Sunglasses (Free Size)</td>\n",
       "      <td>₹758</td>\n",
       "      <td>15% off</td>\n",
       "    </tr>\n",
       "    <tr>\n",
       "      <th>3</th>\n",
       "      <td>PIRASO</td>\n",
       "      <td>UV Protection Aviator Sunglasses (54)</td>\n",
       "      <td>₹225</td>\n",
       "      <td>85% off</td>\n",
       "    </tr>\n",
       "    <tr>\n",
       "      <th>4</th>\n",
       "      <td>Singco India</td>\n",
       "      <td>UV Protection, Polarized Aviator Sunglasses (F...</td>\n",
       "      <td>₹202</td>\n",
       "      <td>71% off</td>\n",
       "    </tr>\n",
       "    <tr>\n",
       "      <th>...</th>\n",
       "      <td>...</td>\n",
       "      <td>...</td>\n",
       "      <td>...</td>\n",
       "      <td>...</td>\n",
       "    </tr>\n",
       "    <tr>\n",
       "      <th>95</th>\n",
       "      <td>Singco</td>\n",
       "      <td>UV Protection, Others Wayfarer, Rectangular Su...</td>\n",
       "      <td>₹345</td>\n",
       "      <td>82% off</td>\n",
       "    </tr>\n",
       "    <tr>\n",
       "      <th>96</th>\n",
       "      <td>hipe</td>\n",
       "      <td>Polarized, UV Protection, Gradient Rectangular...</td>\n",
       "      <td>₹126</td>\n",
       "      <td>87% off</td>\n",
       "    </tr>\n",
       "    <tr>\n",
       "      <th>97</th>\n",
       "      <td>Badfella</td>\n",
       "      <td>UV Protection, Polarized Rectangular Sunglasse...</td>\n",
       "      <td>₹269</td>\n",
       "      <td>73% off</td>\n",
       "    </tr>\n",
       "    <tr>\n",
       "      <th>98</th>\n",
       "      <td>Aislin</td>\n",
       "      <td>UV Protection, Gradient, Night Vision Retro Sq...</td>\n",
       "      <td>₹788</td>\n",
       "      <td>78% off</td>\n",
       "    </tr>\n",
       "    <tr>\n",
       "      <th>99</th>\n",
       "      <td>VAST</td>\n",
       "      <td>UV Protection Wayfarer Sunglasses (Free Size)</td>\n",
       "      <td>₹470</td>\n",
       "      <td>81% off</td>\n",
       "    </tr>\n",
       "  </tbody>\n",
       "</table>\n",
       "<p>100 rows × 4 columns</p>\n",
       "</div>"
      ],
      "text/plain": [
       "           Brand                                       Product_Desc Price  \\\n",
       "0         PIRASO  UV Protection Rectangular, Over-sized Sunglass...  ₹449   \n",
       "1         PIRASO              UV Protection Aviator Sunglasses (54)  ₹250   \n",
       "2       Fastrack      UV Protection Wayfarer Sunglasses (Free Size)  ₹758   \n",
       "3         PIRASO              UV Protection Aviator Sunglasses (54)  ₹225   \n",
       "4   Singco India  UV Protection, Polarized Aviator Sunglasses (F...  ₹202   \n",
       "..           ...                                                ...   ...   \n",
       "95        Singco  UV Protection, Others Wayfarer, Rectangular Su...  ₹345   \n",
       "96          hipe  Polarized, UV Protection, Gradient Rectangular...  ₹126   \n",
       "97      Badfella  UV Protection, Polarized Rectangular Sunglasse...  ₹269   \n",
       "98        Aislin  UV Protection, Gradient, Night Vision Retro Sq...  ₹788   \n",
       "99          VAST      UV Protection Wayfarer Sunglasses (Free Size)  ₹470   \n",
       "\n",
       "   Discount  \n",
       "0   85% off  \n",
       "1   84% off  \n",
       "2   15% off  \n",
       "3   85% off  \n",
       "4   71% off  \n",
       "..      ...  \n",
       "95  82% off  \n",
       "96  87% off  \n",
       "97  73% off  \n",
       "98  78% off  \n",
       "99  81% off  \n",
       "\n",
       "[100 rows x 4 columns]"
      ]
     },
     "execution_count": 353,
     "metadata": {},
     "output_type": "execute_result"
    }
   ],
   "source": [
    "df=pd.DataFrame({})\n",
    "df['Brand']=Brand[:100]\n",
    "df['Product_Desc']=Product_Desc[:100]\n",
    "df['Price']=Price[:100]\n",
    "df['Discount']=Discount[:100]\n",
    "df"
   ]
  },
  {
   "cell_type": "code",
   "execution_count": null,
   "metadata": {},
   "outputs": [],
   "source": []
  },
  {
   "cell_type": "markdown",
   "metadata": {},
   "source": [
    "# 100 reviews data from flipkart.com"
   ]
  },
  {
   "cell_type": "code",
   "execution_count": 355,
   "metadata": {},
   "outputs": [],
   "source": [
    "driver.get('https://www.flipkart.com/apple-iphone-11-black-64-gb-includes-earpods-power-adapter/product-reviews/itm0f37c2240b217?pid=MOBFKCTSVZAXUHGR&lid=LSTMOBFKCTSVZAXUHGREPBFGI&marketplace=FLIPKART')"
   ]
  },
  {
   "cell_type": "code",
   "execution_count": 356,
   "metadata": {},
   "outputs": [],
   "source": [
    "Rating=[]\n",
    "Review_Summary=[]\n",
    "Full_Review=[]\n",
    "for i in range(0,3):\n",
    "    for j in driver.find_elements_by_xpath(\"//div[@class='_3LWZlK _1BLPMq']\"):\n",
    "        Rating.append(j.text)\n",
    "    for k in driver.find_elements_by_xpath(\"//p[@class='_2-N8zT']\"):\n",
    "        Review_Summary.append(k.text)\n",
    "    for l in driver.find_elements_by_xpath(\"//div[@class='t-ZTKy']\"):\n",
    "        Full_Review.append(l.text)"
   ]
  },
  {
   "cell_type": "code",
   "execution_count": 357,
   "metadata": {
    "scrolled": true
   },
   "outputs": [
    {
     "data": {
      "text/html": [
       "<div>\n",
       "<style scoped>\n",
       "    .dataframe tbody tr th:only-of-type {\n",
       "        vertical-align: middle;\n",
       "    }\n",
       "\n",
       "    .dataframe tbody tr th {\n",
       "        vertical-align: top;\n",
       "    }\n",
       "\n",
       "    .dataframe thead th {\n",
       "        text-align: right;\n",
       "    }\n",
       "</style>\n",
       "<table border=\"1\" class=\"dataframe\">\n",
       "  <thead>\n",
       "    <tr style=\"text-align: right;\">\n",
       "      <th></th>\n",
       "      <th>Rating</th>\n",
       "      <th>Review_Summary</th>\n",
       "      <th>Full_Review</th>\n",
       "    </tr>\n",
       "  </thead>\n",
       "  <tbody>\n",
       "    <tr>\n",
       "      <th>0</th>\n",
       "      <td>5</td>\n",
       "      <td>Brilliant</td>\n",
       "      <td>The Best Phone for the Money\\n\\nThe iPhone 11 ...</td>\n",
       "    </tr>\n",
       "    <tr>\n",
       "      <th>1</th>\n",
       "      <td>5</td>\n",
       "      <td>Perfect product!</td>\n",
       "      <td>Amazing phone with great cameras and better ba...</td>\n",
       "    </tr>\n",
       "    <tr>\n",
       "      <th>2</th>\n",
       "      <td>5</td>\n",
       "      <td>Worth every penny</td>\n",
       "      <td>Previously I was using one plus 3t it was a gr...</td>\n",
       "    </tr>\n",
       "    <tr>\n",
       "      <th>3</th>\n",
       "      <td>5</td>\n",
       "      <td>Great product</td>\n",
       "      <td>Amazing Powerful and Durable Gadget.\\n\\nI’m am...</td>\n",
       "    </tr>\n",
       "    <tr>\n",
       "      <th>4</th>\n",
       "      <td>5</td>\n",
       "      <td>Highly recommended</td>\n",
       "      <td>iphone 11 is a very good phone to buy only if ...</td>\n",
       "    </tr>\n",
       "    <tr>\n",
       "      <th>5</th>\n",
       "      <td>5</td>\n",
       "      <td>Perfect product!</td>\n",
       "      <td>It’s a must buy who is looking for an upgrade ...</td>\n",
       "    </tr>\n",
       "    <tr>\n",
       "      <th>6</th>\n",
       "      <td>5</td>\n",
       "      <td>Perfect product!</td>\n",
       "      <td>Value for money❤️❤️\\nIts awesome mobile phone ...</td>\n",
       "    </tr>\n",
       "    <tr>\n",
       "      <th>7</th>\n",
       "      <td>5</td>\n",
       "      <td>Fabulous!</td>\n",
       "      <td>This is my first iOS phone. I am very happy wi...</td>\n",
       "    </tr>\n",
       "    <tr>\n",
       "      <th>8</th>\n",
       "      <td>5</td>\n",
       "      <td>Wonderful</td>\n",
       "      <td>*Review after 10 months of usage*\\nDoesn't see...</td>\n",
       "    </tr>\n",
       "    <tr>\n",
       "      <th>9</th>\n",
       "      <td>5</td>\n",
       "      <td>Worth every penny</td>\n",
       "      <td>Best budget Iphone till date ❤️ go for it guys...</td>\n",
       "    </tr>\n",
       "    <tr>\n",
       "      <th>10</th>\n",
       "      <td>5</td>\n",
       "      <td>Brilliant</td>\n",
       "      <td>The Best Phone for the Money\\n\\nThe iPhone 11 ...</td>\n",
       "    </tr>\n",
       "    <tr>\n",
       "      <th>11</th>\n",
       "      <td>5</td>\n",
       "      <td>Perfect product!</td>\n",
       "      <td>Amazing phone with great cameras and better ba...</td>\n",
       "    </tr>\n",
       "    <tr>\n",
       "      <th>12</th>\n",
       "      <td>5</td>\n",
       "      <td>Worth every penny</td>\n",
       "      <td>Previously I was using one plus 3t it was a gr...</td>\n",
       "    </tr>\n",
       "    <tr>\n",
       "      <th>13</th>\n",
       "      <td>5</td>\n",
       "      <td>Great product</td>\n",
       "      <td>Amazing Powerful and Durable Gadget.\\n\\nI’m am...</td>\n",
       "    </tr>\n",
       "    <tr>\n",
       "      <th>14</th>\n",
       "      <td>5</td>\n",
       "      <td>Highly recommended</td>\n",
       "      <td>iphone 11 is a very good phone to buy only if ...</td>\n",
       "    </tr>\n",
       "    <tr>\n",
       "      <th>15</th>\n",
       "      <td>5</td>\n",
       "      <td>Perfect product!</td>\n",
       "      <td>It’s a must buy who is looking for an upgrade ...</td>\n",
       "    </tr>\n",
       "    <tr>\n",
       "      <th>16</th>\n",
       "      <td>5</td>\n",
       "      <td>Perfect product!</td>\n",
       "      <td>Value for money❤️❤️\\nIts awesome mobile phone ...</td>\n",
       "    </tr>\n",
       "    <tr>\n",
       "      <th>17</th>\n",
       "      <td>5</td>\n",
       "      <td>Fabulous!</td>\n",
       "      <td>This is my first iOS phone. I am very happy wi...</td>\n",
       "    </tr>\n",
       "    <tr>\n",
       "      <th>18</th>\n",
       "      <td>5</td>\n",
       "      <td>Wonderful</td>\n",
       "      <td>*Review after 10 months of usage*\\nDoesn't see...</td>\n",
       "    </tr>\n",
       "    <tr>\n",
       "      <th>19</th>\n",
       "      <td>5</td>\n",
       "      <td>Worth every penny</td>\n",
       "      <td>Best budget Iphone till date ❤️ go for it guys...</td>\n",
       "    </tr>\n",
       "    <tr>\n",
       "      <th>20</th>\n",
       "      <td>5</td>\n",
       "      <td>Brilliant</td>\n",
       "      <td>The Best Phone for the Money\\n\\nThe iPhone 11 ...</td>\n",
       "    </tr>\n",
       "    <tr>\n",
       "      <th>21</th>\n",
       "      <td>5</td>\n",
       "      <td>Perfect product!</td>\n",
       "      <td>Amazing phone with great cameras and better ba...</td>\n",
       "    </tr>\n",
       "    <tr>\n",
       "      <th>22</th>\n",
       "      <td>5</td>\n",
       "      <td>Worth every penny</td>\n",
       "      <td>Previously I was using one plus 3t it was a gr...</td>\n",
       "    </tr>\n",
       "    <tr>\n",
       "      <th>23</th>\n",
       "      <td>5</td>\n",
       "      <td>Great product</td>\n",
       "      <td>Amazing Powerful and Durable Gadget.\\n\\nI’m am...</td>\n",
       "    </tr>\n",
       "    <tr>\n",
       "      <th>24</th>\n",
       "      <td>5</td>\n",
       "      <td>Highly recommended</td>\n",
       "      <td>iphone 11 is a very good phone to buy only if ...</td>\n",
       "    </tr>\n",
       "    <tr>\n",
       "      <th>25</th>\n",
       "      <td>5</td>\n",
       "      <td>Perfect product!</td>\n",
       "      <td>It’s a must buy who is looking for an upgrade ...</td>\n",
       "    </tr>\n",
       "    <tr>\n",
       "      <th>26</th>\n",
       "      <td>5</td>\n",
       "      <td>Perfect product!</td>\n",
       "      <td>Value for money❤️❤️\\nIts awesome mobile phone ...</td>\n",
       "    </tr>\n",
       "    <tr>\n",
       "      <th>27</th>\n",
       "      <td>5</td>\n",
       "      <td>Fabulous!</td>\n",
       "      <td>This is my first iOS phone. I am very happy wi...</td>\n",
       "    </tr>\n",
       "    <tr>\n",
       "      <th>28</th>\n",
       "      <td>5</td>\n",
       "      <td>Wonderful</td>\n",
       "      <td>*Review after 10 months of usage*\\nDoesn't see...</td>\n",
       "    </tr>\n",
       "    <tr>\n",
       "      <th>29</th>\n",
       "      <td>5</td>\n",
       "      <td>Worth every penny</td>\n",
       "      <td>Best budget Iphone till date ❤️ go for it guys...</td>\n",
       "    </tr>\n",
       "  </tbody>\n",
       "</table>\n",
       "</div>"
      ],
      "text/plain": [
       "   Rating      Review_Summary  \\\n",
       "0       5           Brilliant   \n",
       "1       5    Perfect product!   \n",
       "2       5   Worth every penny   \n",
       "3       5       Great product   \n",
       "4       5  Highly recommended   \n",
       "5       5    Perfect product!   \n",
       "6       5    Perfect product!   \n",
       "7       5           Fabulous!   \n",
       "8       5           Wonderful   \n",
       "9       5   Worth every penny   \n",
       "10      5           Brilliant   \n",
       "11      5    Perfect product!   \n",
       "12      5   Worth every penny   \n",
       "13      5       Great product   \n",
       "14      5  Highly recommended   \n",
       "15      5    Perfect product!   \n",
       "16      5    Perfect product!   \n",
       "17      5           Fabulous!   \n",
       "18      5           Wonderful   \n",
       "19      5   Worth every penny   \n",
       "20      5           Brilliant   \n",
       "21      5    Perfect product!   \n",
       "22      5   Worth every penny   \n",
       "23      5       Great product   \n",
       "24      5  Highly recommended   \n",
       "25      5    Perfect product!   \n",
       "26      5    Perfect product!   \n",
       "27      5           Fabulous!   \n",
       "28      5           Wonderful   \n",
       "29      5   Worth every penny   \n",
       "\n",
       "                                          Full_Review  \n",
       "0   The Best Phone for the Money\\n\\nThe iPhone 11 ...  \n",
       "1   Amazing phone with great cameras and better ba...  \n",
       "2   Previously I was using one plus 3t it was a gr...  \n",
       "3   Amazing Powerful and Durable Gadget.\\n\\nI’m am...  \n",
       "4   iphone 11 is a very good phone to buy only if ...  \n",
       "5   It’s a must buy who is looking for an upgrade ...  \n",
       "6   Value for money❤️❤️\\nIts awesome mobile phone ...  \n",
       "7   This is my first iOS phone. I am very happy wi...  \n",
       "8   *Review after 10 months of usage*\\nDoesn't see...  \n",
       "9   Best budget Iphone till date ❤️ go for it guys...  \n",
       "10  The Best Phone for the Money\\n\\nThe iPhone 11 ...  \n",
       "11  Amazing phone with great cameras and better ba...  \n",
       "12  Previously I was using one plus 3t it was a gr...  \n",
       "13  Amazing Powerful and Durable Gadget.\\n\\nI’m am...  \n",
       "14  iphone 11 is a very good phone to buy only if ...  \n",
       "15  It’s a must buy who is looking for an upgrade ...  \n",
       "16  Value for money❤️❤️\\nIts awesome mobile phone ...  \n",
       "17  This is my first iOS phone. I am very happy wi...  \n",
       "18  *Review after 10 months of usage*\\nDoesn't see...  \n",
       "19  Best budget Iphone till date ❤️ go for it guys...  \n",
       "20  The Best Phone for the Money\\n\\nThe iPhone 11 ...  \n",
       "21  Amazing phone with great cameras and better ba...  \n",
       "22  Previously I was using one plus 3t it was a gr...  \n",
       "23  Amazing Powerful and Durable Gadget.\\n\\nI’m am...  \n",
       "24  iphone 11 is a very good phone to buy only if ...  \n",
       "25  It’s a must buy who is looking for an upgrade ...  \n",
       "26  Value for money❤️❤️\\nIts awesome mobile phone ...  \n",
       "27  This is my first iOS phone. I am very happy wi...  \n",
       "28  *Review after 10 months of usage*\\nDoesn't see...  \n",
       "29  Best budget Iphone till date ❤️ go for it guys...  "
      ]
     },
     "execution_count": 357,
     "metadata": {},
     "output_type": "execute_result"
    }
   ],
   "source": [
    "df=pd.DataFrame({})\n",
    "df['Rating']=Rating[:100]\n",
    "df['Review_Summary']=Review_Summary[:100]\n",
    "df['Full_Review']=Full_Review[:100]\n",
    "df"
   ]
  },
  {
   "cell_type": "code",
   "execution_count": null,
   "metadata": {},
   "outputs": [],
   "source": []
  },
  {
   "cell_type": "markdown",
   "metadata": {},
   "source": [
    "# 100 sneakers"
   ]
  },
  {
   "cell_type": "code",
   "execution_count": 358,
   "metadata": {},
   "outputs": [],
   "source": [
    "driver.get('https://www.flipkart.com/')"
   ]
  },
  {
   "cell_type": "code",
   "execution_count": 359,
   "metadata": {},
   "outputs": [],
   "source": [
    "#finding element for jon search bar\n",
    "search=driver.find_element_by_xpath(\"//input[@class='_3704LK']\")\n",
    "search.send_keys(\"sneakers\")\n"
   ]
  },
  {
   "cell_type": "code",
   "execution_count": 360,
   "metadata": {},
   "outputs": [],
   "source": [
    "search_btn = driver.find_element_by_xpath(\"//button[@class='L0Z3Pu']\")\n",
    "search_btn.click()\n"
   ]
  },
  {
   "cell_type": "markdown",
   "metadata": {},
   "source": [
    "Searching the results by using search button"
   ]
  },
  {
   "cell_type": "code",
   "execution_count": 361,
   "metadata": {},
   "outputs": [],
   "source": [
    "import time\n",
    "Brands=[]\n",
    "Products_Desc=[]\n",
    "Prices=[]\n",
    "Discounts=[]\n",
    "for i in range(0,3):\n",
    "    for j in driver.find_elements_by_xpath(\"//div[@class='_2WkVRV']\"):\n",
    "        Brands.append(j.text)\n",
    "    for k in driver.find_elements_by_xpath(\"//a[@class='IRpwTa']\"):\n",
    "        Products_Desc.append(k.text)\n",
    "    for l in driver.find_elements_by_xpath(\"//div[@class='_30jeq3']\"):\n",
    "        Prices.append(l.text)\n",
    "    for m in driver.find_elements_by_xpath(\"//div[@class='_3Ay6Sb']\"):\n",
    "        Discounts.append(m.text)\n",
    "    time.sleep(3)\n",
    "    url=driver.find_element_by_xpath(\"//a[@class='_1LKTO3']\").get_attribute(\"href\")\n",
    "    driver.get(url)"
   ]
  },
  {
   "cell_type": "code",
   "execution_count": 363,
   "metadata": {
    "scrolled": true
   },
   "outputs": [
    {
     "data": {
      "text/html": [
       "<div>\n",
       "<style scoped>\n",
       "    .dataframe tbody tr th:only-of-type {\n",
       "        vertical-align: middle;\n",
       "    }\n",
       "\n",
       "    .dataframe tbody tr th {\n",
       "        vertical-align: top;\n",
       "    }\n",
       "\n",
       "    .dataframe thead th {\n",
       "        text-align: right;\n",
       "    }\n",
       "</style>\n",
       "<table border=\"1\" class=\"dataframe\">\n",
       "  <thead>\n",
       "    <tr style=\"text-align: right;\">\n",
       "      <th></th>\n",
       "      <th>Brands</th>\n",
       "      <th>Products_Desc</th>\n",
       "      <th>Prices</th>\n",
       "      <th>Discounts</th>\n",
       "    </tr>\n",
       "  </thead>\n",
       "  <tbody>\n",
       "    <tr>\n",
       "      <th>0</th>\n",
       "      <td>French Connection</td>\n",
       "      <td>Sneakers For Men</td>\n",
       "      <td>₹799</td>\n",
       "      <td>60% off</td>\n",
       "    </tr>\n",
       "    <tr>\n",
       "      <th>1</th>\n",
       "      <td>Chevit</td>\n",
       "      <td>171 Smart Tan Lace-Ups Casuals for Men Sneaker...</td>\n",
       "      <td>₹211</td>\n",
       "      <td>57% off</td>\n",
       "    </tr>\n",
       "    <tr>\n",
       "      <th>2</th>\n",
       "      <td>SPARX</td>\n",
       "      <td>SM-482 Sneakers For Men</td>\n",
       "      <td>₹990</td>\n",
       "      <td>26% off</td>\n",
       "    </tr>\n",
       "    <tr>\n",
       "      <th>3</th>\n",
       "      <td>SPARX</td>\n",
       "      <td>SM-439 Sneakers For Men</td>\n",
       "      <td>₹699</td>\n",
       "      <td>42% off</td>\n",
       "    </tr>\n",
       "    <tr>\n",
       "      <th>4</th>\n",
       "      <td>Skechers</td>\n",
       "      <td>BOUNDER Sneakers For Men</td>\n",
       "      <td>₹3,189</td>\n",
       "      <td>72% off</td>\n",
       "    </tr>\n",
       "    <tr>\n",
       "      <th>...</th>\n",
       "      <td>...</td>\n",
       "      <td>...</td>\n",
       "      <td>...</td>\n",
       "      <td>...</td>\n",
       "    </tr>\n",
       "    <tr>\n",
       "      <th>95</th>\n",
       "      <td>PUMA</td>\n",
       "      <td>Canvas Casual Partywear Outdoor Sneakers Shoes...</td>\n",
       "      <td>₹1,315</td>\n",
       "      <td>16% off</td>\n",
       "    </tr>\n",
       "    <tr>\n",
       "      <th>96</th>\n",
       "      <td>Birde</td>\n",
       "      <td>Casual shoes,Sneakers for men's,shoes for men'...</td>\n",
       "      <td>₹299</td>\n",
       "      <td>62% off</td>\n",
       "    </tr>\n",
       "    <tr>\n",
       "      <th>97</th>\n",
       "      <td>believe</td>\n",
       "      <td>Sneakers Sneakers For Men</td>\n",
       "      <td>₹446</td>\n",
       "      <td>52% off</td>\n",
       "    </tr>\n",
       "    <tr>\n",
       "      <th>98</th>\n",
       "      <td>SPARX</td>\n",
       "      <td>EASY VULC 2.0 Sneakers For Men</td>\n",
       "      <td>₹539</td>\n",
       "      <td>23% off</td>\n",
       "    </tr>\n",
       "    <tr>\n",
       "      <th>99</th>\n",
       "      <td>Ardeo</td>\n",
       "      <td>JESS Sneakers For Men</td>\n",
       "      <td>₹379</td>\n",
       "      <td>76% off</td>\n",
       "    </tr>\n",
       "  </tbody>\n",
       "</table>\n",
       "<p>100 rows × 4 columns</p>\n",
       "</div>"
      ],
      "text/plain": [
       "               Brands                                      Products_Desc  \\\n",
       "0   French Connection                                   Sneakers For Men   \n",
       "1              Chevit  171 Smart Tan Lace-Ups Casuals for Men Sneaker...   \n",
       "2               SPARX                            SM-482 Sneakers For Men   \n",
       "3               SPARX                            SM-439 Sneakers For Men   \n",
       "4            Skechers                           BOUNDER Sneakers For Men   \n",
       "..                ...                                                ...   \n",
       "95               PUMA  Canvas Casual Partywear Outdoor Sneakers Shoes...   \n",
       "96              Birde  Casual shoes,Sneakers for men's,shoes for men'...   \n",
       "97            believe                          Sneakers Sneakers For Men   \n",
       "98              SPARX                     EASY VULC 2.0 Sneakers For Men   \n",
       "99              Ardeo                              JESS Sneakers For Men   \n",
       "\n",
       "    Prices Discounts  \n",
       "0     ₹799   60% off  \n",
       "1     ₹211   57% off  \n",
       "2     ₹990   26% off  \n",
       "3     ₹699   42% off  \n",
       "4   ₹3,189   72% off  \n",
       "..     ...       ...  \n",
       "95  ₹1,315   16% off  \n",
       "96    ₹299   62% off  \n",
       "97    ₹446   52% off  \n",
       "98    ₹539   23% off  \n",
       "99    ₹379   76% off  \n",
       "\n",
       "[100 rows x 4 columns]"
      ]
     },
     "execution_count": 363,
     "metadata": {},
     "output_type": "execute_result"
    }
   ],
   "source": [
    "df=pd.DataFrame({})\n",
    "df['Brands']=Brands[:100]\n",
    "df['Products_Desc']=Products_Desc[:100]\n",
    "df['Prices']=Prices[:100]\n",
    "df['Discounts']=Discounts[:100]\n",
    "df"
   ]
  },
  {
   "cell_type": "code",
   "execution_count": null,
   "metadata": {},
   "outputs": [],
   "source": []
  },
  {
   "cell_type": "markdown",
   "metadata": {},
   "source": [
    "# Myntra Shoes"
   ]
  },
  {
   "cell_type": "code",
   "execution_count": null,
   "metadata": {},
   "outputs": [],
   "source": []
  },
  {
   "cell_type": "code",
   "execution_count": 1,
   "metadata": {},
   "outputs": [],
   "source": [
    "import selenium\n",
    "from selenium import webdriver\n",
    "from bs4 import BeautifulSoup\n",
    "import pandas as pd\n",
    "import requests"
   ]
  },
  {
   "cell_type": "code",
   "execution_count": 2,
   "metadata": {},
   "outputs": [],
   "source": [
    "driver = webdriver.Chrome(\"C:/Users/yyogi/Downloads/chromedriver_win32/chromedriver.exe\")"
   ]
  },
  {
   "cell_type": "code",
   "execution_count": 3,
   "metadata": {},
   "outputs": [],
   "source": [
    "driver.get('https://www.myntra.com/shoes')"
   ]
  },
  {
   "cell_type": "code",
   "execution_count": 4,
   "metadata": {},
   "outputs": [],
   "source": [
    "price_chk = driver.find_element_by_xpath(\"//ul[@class='price-list']/li[2]\")\n",
    "price_chk.click()"
   ]
  },
  {
   "cell_type": "code",
   "execution_count": 5,
   "metadata": {},
   "outputs": [],
   "source": [
    "color_chk = driver.find_element_by_xpath(\"//span[@data-colorhex='black']\")\n",
    "color_chk.click()"
   ]
  },
  {
   "cell_type": "code",
   "execution_count": null,
   "metadata": {},
   "outputs": [],
   "source": [
    "import time\n",
    "Brands=[]\n",
    "Products_Desc=[]\n",
    "Prices=[]\n",
    "\n",
    "for i in range(0,2):\n",
    "    for j in driver.find_elements_by_xpath(\"//h3[@class='product-brand']\"):\n",
    "        Brands.append(j.text)\n",
    "    for k in driver.find_elements_by_xpath(\"//h4[@class='product-product']\"):\n",
    "        Products_Desc.append(k.text)\n",
    "    for l in driver.find_elements_by_xpath(\"//div[@class='product-price']\"):\n",
    "        Prices.append(l.text)\n",
    "    time.sleep(3)\n",
    "    url=driver.find_element_by_xpath(\"//a[@rel='next']\").get_attribute(\"href\")\n",
    "    driver.get(url)Brands"
   ]
  },
  {
   "cell_type": "code",
   "execution_count": 15,
   "metadata": {},
   "outputs": [
    {
     "data": {
      "text/html": [
       "<div>\n",
       "<style scoped>\n",
       "    .dataframe tbody tr th:only-of-type {\n",
       "        vertical-align: middle;\n",
       "    }\n",
       "\n",
       "    .dataframe tbody tr th {\n",
       "        vertical-align: top;\n",
       "    }\n",
       "\n",
       "    .dataframe thead th {\n",
       "        text-align: right;\n",
       "    }\n",
       "</style>\n",
       "<table border=\"1\" class=\"dataframe\">\n",
       "  <thead>\n",
       "    <tr style=\"text-align: right;\">\n",
       "      <th></th>\n",
       "      <th>Brands</th>\n",
       "      <th>Products_Desc</th>\n",
       "      <th>Prices</th>\n",
       "    </tr>\n",
       "  </thead>\n",
       "  <tbody>\n",
       "    <tr>\n",
       "      <th>0</th>\n",
       "      <td>Heel &amp; Buckle London</td>\n",
       "      <td>Men Leather Formal Brogues</td>\n",
       "      <td>Rs. 7693Rs. 10990(30% OFF)</td>\n",
       "    </tr>\n",
       "    <tr>\n",
       "      <th>1</th>\n",
       "      <td>Saint G</td>\n",
       "      <td>Women Leather Heeled Boots</td>\n",
       "      <td>Rs. 9900</td>\n",
       "    </tr>\n",
       "    <tr>\n",
       "      <th>2</th>\n",
       "      <td>Hush Puppies</td>\n",
       "      <td>Men Leather Derbys</td>\n",
       "      <td>Rs. 7999</td>\n",
       "    </tr>\n",
       "    <tr>\n",
       "      <th>3</th>\n",
       "      <td>Puma</td>\n",
       "      <td>Men IGNITE Dual Running Shoes</td>\n",
       "      <td>Rs. 6999</td>\n",
       "    </tr>\n",
       "    <tr>\n",
       "      <th>4</th>\n",
       "      <td>Puma</td>\n",
       "      <td>Men IGNITE Ronin Unrest</td>\n",
       "      <td>Rs. 6999</td>\n",
       "    </tr>\n",
       "    <tr>\n",
       "      <th>...</th>\n",
       "      <td>...</td>\n",
       "      <td>...</td>\n",
       "      <td>...</td>\n",
       "    </tr>\n",
       "    <tr>\n",
       "      <th>95</th>\n",
       "      <td>Geox</td>\n",
       "      <td>Men Leather Formal Derbys</td>\n",
       "      <td>Rs. 12490</td>\n",
       "    </tr>\n",
       "    <tr>\n",
       "      <th>96</th>\n",
       "      <td>Saint G</td>\n",
       "      <td>Women Leather Heeled Boots</td>\n",
       "      <td>Rs. 12500</td>\n",
       "    </tr>\n",
       "    <tr>\n",
       "      <th>97</th>\n",
       "      <td>ADIDAS</td>\n",
       "      <td>Men X9000L4 Running Shoes</td>\n",
       "      <td>Rs. 11199Rs. 13999(20% OFF)</td>\n",
       "    </tr>\n",
       "    <tr>\n",
       "      <th>98</th>\n",
       "      <td>Reebok</td>\n",
       "      <td>Unisex Zig Kinetica II Running</td>\n",
       "      <td>Rs. 9999</td>\n",
       "    </tr>\n",
       "    <tr>\n",
       "      <th>99</th>\n",
       "      <td>UNDER ARMOUR</td>\n",
       "      <td>Bluetooth HOVR Sonic 3 Running</td>\n",
       "      <td>Rs. 10999</td>\n",
       "    </tr>\n",
       "  </tbody>\n",
       "</table>\n",
       "<p>100 rows × 3 columns</p>\n",
       "</div>"
      ],
      "text/plain": [
       "                  Brands                   Products_Desc  \\\n",
       "0   Heel & Buckle London      Men Leather Formal Brogues   \n",
       "1                Saint G      Women Leather Heeled Boots   \n",
       "2           Hush Puppies              Men Leather Derbys   \n",
       "3                   Puma   Men IGNITE Dual Running Shoes   \n",
       "4                   Puma         Men IGNITE Ronin Unrest   \n",
       "..                   ...                             ...   \n",
       "95                  Geox       Men Leather Formal Derbys   \n",
       "96               Saint G      Women Leather Heeled Boots   \n",
       "97                ADIDAS       Men X9000L4 Running Shoes   \n",
       "98                Reebok  Unisex Zig Kinetica II Running   \n",
       "99          UNDER ARMOUR  Bluetooth HOVR Sonic 3 Running   \n",
       "\n",
       "                         Prices  \n",
       "0    Rs. 7693Rs. 10990(30% OFF)  \n",
       "1                      Rs. 9900  \n",
       "2                      Rs. 7999  \n",
       "3                      Rs. 6999  \n",
       "4                      Rs. 6999  \n",
       "..                          ...  \n",
       "95                    Rs. 12490  \n",
       "96                    Rs. 12500  \n",
       "97  Rs. 11199Rs. 13999(20% OFF)  \n",
       "98                     Rs. 9999  \n",
       "99                    Rs. 10999  \n",
       "\n",
       "[100 rows x 3 columns]"
      ]
     },
     "execution_count": 15,
     "metadata": {},
     "output_type": "execute_result"
    }
   ],
   "source": [
    "df=pd.DataFrame({})\n",
    "df['Brands']=Brands[:100]\n",
    "df['Products_Desc']=Products_Desc[:100]\n",
    "df['Prices']=Prices[:100]\n",
    "df"
   ]
  },
  {
   "cell_type": "code",
   "execution_count": null,
   "metadata": {},
   "outputs": [],
   "source": []
  },
  {
   "cell_type": "markdown",
   "metadata": {},
   "source": [
    "# 10 laptops data amazon"
   ]
  },
  {
   "cell_type": "code",
   "execution_count": 2,
   "metadata": {},
   "outputs": [],
   "source": [
    "driver = webdriver.Chrome(\"C:/Users/yyogi/Downloads/chromedriver_win32/chromedriver.exe\")"
   ]
  },
  {
   "cell_type": "code",
   "execution_count": 3,
   "metadata": {},
   "outputs": [],
   "source": [
    "driver.get('https://www.amazon.in/')"
   ]
  },
  {
   "cell_type": "code",
   "execution_count": 4,
   "metadata": {},
   "outputs": [],
   "source": [
    "#finding element for jon search bar\n",
    "search=driver.find_element_by_id(\"twotabsearchtextbox\")\n",
    "search.send_keys(\"Laptop\")\n"
   ]
  },
  {
   "cell_type": "code",
   "execution_count": 5,
   "metadata": {},
   "outputs": [],
   "source": [
    "search_btn = driver.find_element_by_id(\"nav-search-submit-button\")\n",
    "search_btn.click()\n"
   ]
  },
  {
   "cell_type": "code",
   "execution_count": 6,
   "metadata": {},
   "outputs": [],
   "source": [
    "i7 = driver.find_element_by_link_text(\"Intel Core i7\")\n",
    "i7.click()"
   ]
  },
  {
   "cell_type": "code",
   "execution_count": 7,
   "metadata": {},
   "outputs": [],
   "source": [
    "i9 = driver.find_element_by_link_text(\"Intel Core i9\")\n",
    "i9.click()"
   ]
  },
  {
   "cell_type": "code",
   "execution_count": 8,
   "metadata": {},
   "outputs": [],
   "source": [
    "Title=[]\n",
    "Ratings=[]\n",
    "Price=[]\n",
    "for j in driver.find_elements_by_xpath(\"//span[@class='a-size-medium a-color-base a-text-normal']\"):\n",
    "        Title.append(j.text)\n",
    "for l in driver.find_elements_by_xpath(\"//span[@class='a-price-whole']\"):\n",
    "        Price.append(l.text)\n",
    "   "
   ]
  },
  {
   "cell_type": "code",
   "execution_count": 9,
   "metadata": {},
   "outputs": [],
   "source": [
    "from selenium.common.exceptions import NoSuchElementException\n",
    "urls=driver.find_elements_by_xpath(\"//a[@class='a-link-normal a-text-normal']\")\n",
    "URL=[]\n",
    "for i in urls[:10]:\n",
    "    URL.append(i.get_attribute('href'))\n",
    "for url in URL:\n",
    "    driver.get(url)\n",
    "    try:\n",
    "        rate=driver.find_element_by_id('acrCustomerReviewText')\n",
    "        rate.click()\n",
    "        rating=driver.find_element_by_xpath(\"//span[@class='a-size-medium a-color-base']\")\n",
    "        Ratings.append(rating.text)\n",
    "        \n",
    "    except NoSuchElementException as e:\n",
    "        Ratings.append(\"No Rating\")"
   ]
  },
  {
   "cell_type": "code",
   "execution_count": 11,
   "metadata": {},
   "outputs": [
    {
     "data": {
      "text/html": [
       "<div>\n",
       "<style scoped>\n",
       "    .dataframe tbody tr th:only-of-type {\n",
       "        vertical-align: middle;\n",
       "    }\n",
       "\n",
       "    .dataframe tbody tr th {\n",
       "        vertical-align: top;\n",
       "    }\n",
       "\n",
       "    .dataframe thead th {\n",
       "        text-align: right;\n",
       "    }\n",
       "</style>\n",
       "<table border=\"1\" class=\"dataframe\">\n",
       "  <thead>\n",
       "    <tr style=\"text-align: right;\">\n",
       "      <th></th>\n",
       "      <th>Title</th>\n",
       "      <th>Rating</th>\n",
       "      <th>Price</th>\n",
       "    </tr>\n",
       "  </thead>\n",
       "  <tbody>\n",
       "    <tr>\n",
       "      <th>0</th>\n",
       "      <td>(Renewed) HP ZBook 15 G3 Mobile Workstation - ...</td>\n",
       "      <td>No Rating</td>\n",
       "      <td>83,990</td>\n",
       "    </tr>\n",
       "    <tr>\n",
       "      <th>1</th>\n",
       "      <td>(Renewed) Lenovo Thinkpad Yoga S1 Laptop (CORE...</td>\n",
       "      <td>1 out of 5</td>\n",
       "      <td>38,990</td>\n",
       "    </tr>\n",
       "    <tr>\n",
       "      <th>2</th>\n",
       "      <td>HP 14 Thin &amp; Light 14-inch FHD Laptop (11th Ge...</td>\n",
       "      <td>4.6 out of 5</td>\n",
       "      <td>76,500</td>\n",
       "    </tr>\n",
       "    <tr>\n",
       "      <th>3</th>\n",
       "      <td>ASUS ZenBook Pro Duo Intel Core i9-10980HK 10t...</td>\n",
       "      <td>3.3 out of 5</td>\n",
       "      <td>2,59,990</td>\n",
       "    </tr>\n",
       "    <tr>\n",
       "      <th>4</th>\n",
       "      <td>Mi Notebook Horizon Edition 14 Intel Core i5-1...</td>\n",
       "      <td>4.3 out of 5</td>\n",
       "      <td>54,999</td>\n",
       "    </tr>\n",
       "    <tr>\n",
       "      <th>5</th>\n",
       "      <td>HP Pavilion Gaming 11th Gen Intel Core i7 Proc...</td>\n",
       "      <td>No Rating</td>\n",
       "      <td>83,128</td>\n",
       "    </tr>\n",
       "    <tr>\n",
       "      <th>6</th>\n",
       "      <td>Dell Alienware m15(R3) 15.6-inch FHD Gaming La...</td>\n",
       "      <td>2.7 out of 5</td>\n",
       "      <td>1,98,590</td>\n",
       "    </tr>\n",
       "    <tr>\n",
       "      <th>7</th>\n",
       "      <td>Lenovo Legion 5Pi 10th Gen Intel Core i7 15.6\"...</td>\n",
       "      <td>4.3 out of 5</td>\n",
       "      <td>1,35,490</td>\n",
       "    </tr>\n",
       "    <tr>\n",
       "      <th>8</th>\n",
       "      <td>Asus ROG Zephyrus S Ultra Slim Gaming Laptop, ...</td>\n",
       "      <td>4.3 out of 5</td>\n",
       "      <td>78,990</td>\n",
       "    </tr>\n",
       "    <tr>\n",
       "      <th>9</th>\n",
       "      <td>Lenovo Legion Y540 Intel Core i7 9th Gen 15.6 ...</td>\n",
       "      <td>4.1 out of 5</td>\n",
       "      <td>85,990</td>\n",
       "    </tr>\n",
       "  </tbody>\n",
       "</table>\n",
       "</div>"
      ],
      "text/plain": [
       "                                               Title        Rating     Price\n",
       "0  (Renewed) HP ZBook 15 G3 Mobile Workstation - ...     No Rating    83,990\n",
       "1  (Renewed) Lenovo Thinkpad Yoga S1 Laptop (CORE...    1 out of 5    38,990\n",
       "2  HP 14 Thin & Light 14-inch FHD Laptop (11th Ge...  4.6 out of 5    76,500\n",
       "3  ASUS ZenBook Pro Duo Intel Core i9-10980HK 10t...  3.3 out of 5  2,59,990\n",
       "4  Mi Notebook Horizon Edition 14 Intel Core i5-1...  4.3 out of 5    54,999\n",
       "5  HP Pavilion Gaming 11th Gen Intel Core i7 Proc...     No Rating    83,128\n",
       "6  Dell Alienware m15(R3) 15.6-inch FHD Gaming La...  2.7 out of 5  1,98,590\n",
       "7  Lenovo Legion 5Pi 10th Gen Intel Core i7 15.6\"...  4.3 out of 5  1,35,490\n",
       "8  Asus ROG Zephyrus S Ultra Slim Gaming Laptop, ...  4.3 out of 5    78,990\n",
       "9  Lenovo Legion Y540 Intel Core i7 9th Gen 15.6 ...  4.1 out of 5    85,990"
      ]
     },
     "execution_count": 11,
     "metadata": {},
     "output_type": "execute_result"
    }
   ],
   "source": [
    "df=pd.DataFrame({})\n",
    "df['Title']=Title[:10]\n",
    "df['Rating']=Ratings[:10]\n",
    "df['Price']=Price[:10]\n",
    "df"
   ]
  },
  {
   "cell_type": "code",
   "execution_count": null,
   "metadata": {},
   "outputs": [],
   "source": []
  },
  {
   "cell_type": "code",
   "execution_count": null,
   "metadata": {},
   "outputs": [],
   "source": []
  }
 ],
 "metadata": {
  "kernelspec": {
   "display_name": "Python 3",
   "language": "python",
   "name": "python3"
  },
  "language_info": {
   "codemirror_mode": {
    "name": "ipython",
    "version": 3
   },
   "file_extension": ".py",
   "mimetype": "text/x-python",
   "name": "python",
   "nbconvert_exporter": "python",
   "pygments_lexer": "ipython3",
   "version": "3.8.3"
  }
 },
 "nbformat": 4,
 "nbformat_minor": 4
}
